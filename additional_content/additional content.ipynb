{
 "cells": [
  {
   "cell_type": "code",
   "execution_count": 5,
   "metadata": {},
   "outputs": [
    {
     "name": "stdout",
     "output_type": "stream",
     "text": [
      "{\n",
      "    \"alternateIdentifiers\": [\n",
      "        {\n",
      "            \"alternateIdentifier\": \"https://osf.io/by9ax\",\n",
      "            \"alternateIdentifierType\": \"URL\"\n",
      "        }\n",
      "    ],\n",
      "    \"contributors\": [\n",
      "        {\n",
      "            \"contributorName\": {\n",
      "                \"contributorName\": \"Center for Open Science\",\n",
      "                \"nameType\": \"Organizational\"\n",
      "            },\n",
      "            \"contributorType\": \"HostingInstitution\",\n",
      "            \"nameIdentifier\": {\n",
      "                \"nameIdentifier\": \"https://ror.org/05d5mza29\",\n",
      "                \"nameIdentifierScheme\": \"ROR\"\n",
      "            }\n",
      "        }\n",
      "    ],\n",
      "    \"creators\": [\n",
      "        {\n",
      "            \"creatorName\": {\n",
      "                \"creatorName\": \"Alejandro Tirado Castro\",\n",
      "                \"nameType\": \"Personal\"\n",
      "            },\n",
      "            \"nameIdentifier\": {\n",
      "                \"nameIdentifier\": \"https://www.linkedin.com/in/alejandro-tirado-castro-6aa66394/\",\n",
      "                \"nameIdentifierScheme\": \"URL\"\n",
      "            }\n",
      "        }\n",
      "    ],\n",
      "    \"dates\": [\n",
      "        {\n",
      "            \"date\": \"2024-02-26\",\n",
      "            \"dateType\": \"Created\"\n",
      "        },\n",
      "        {\n",
      "            \"date\": \"2024-02-26\",\n",
      "            \"dateType\": \"Updated\"\n",
      "        }\n",
      "    ],\n",
      "    \"descriptions\": [],\n",
      "    \"fundingReferences\": [],\n",
      "    \"identifier\": {\n",
      "        \"identifier\": \"https://osf.io/by9ax\",\n",
      "        \"identifierType\": \"URL\"\n",
      "    },\n",
      "    \"publicationYear\": \"2024\",\n",
      "    \"publisher\": \"OSF\",\n",
      "    \"relatedIdentifiers\": [\n",
      "        {\n",
      "            \"relatedIdentifier\": \"10.17605/OSF.IO/WVSCB\",\n",
      "            \"relatedIdentifierType\": \"DOI\",\n",
      "            \"relationType\": \"IsPartOf\"\n",
      "        }\n",
      "    ],\n",
      "    \"relatedItems\": [\n",
      "        {\n",
      "            \"publicationYear\": \"2024\",\n",
      "            \"publisher\": \"OSF\",\n",
      "            \"relatedItemIdentifier\": {\n",
      "                \"relatedItemIdentifier\": \"10.17605/OSF.IO/WVSCB\",\n",
      "                \"relatedItemIdentifierType\": \"DOI\"\n",
      "            },\n",
      "            \"relatedItemType\": \"Text\",\n",
      "            \"relationType\": \"IsPartOf\",\n",
      "            \"titles\": [\n",
      "                {\n",
      "                    \"title\": \"Exploring the role of influencers in promoting views about feminism in Spain\"\n",
      "                }\n",
      "            ]\n",
      "        }\n",
      "    ],\n",
      "    \"resourceType\": {\n",
      "        \"resourceType\": \"File\",\n",
      "        \"resourceTypeGeneral\": \"Text\"\n",
      "    },\n",
      "    \"rightsList\": [],\n",
      "    \"subjects\": [],\n",
      "    \"titles\": [\n",
      "        {\n",
      "            \"title\": \"Content Analysis Instructions.docx\"\n",
      "        }\n",
      "    ]\n",
      "}\n"
     ]
    }
   ],
   "source": [
    "import json\n",
    "\n",
    "# Ruta al archivo JSON\n",
    "file_path_json = r\"C:\\Users\\Celeste\\Google Drive Streaming\\My Drive\\_CODEOP\\_Individual project\\influencers_data\\by9ax-datacite.json\"\n",
    "\n",
    "# Cargar el archivo JSON\n",
    "with open(file_path_json, 'r', encoding='utf-8') as file:\n",
    "    data = json.load(file)\n",
    "\n",
    "# Mostrar el contenido de una forma legible\n",
    "print(json.dumps(data, indent=4))\n",
    "\n",
    "# Este registro proporciona información detallada sobre el archivo, incluyendo quién lo creó, cuándo se creó y actualizó, y cómo se relaciona con otros trabajos\n",
    "# es un JSON anidado. Esto significa que contiene objetos dentro de otros objetos\n"
   ]
  },
  {
   "cell_type": "code",
   "execution_count": 7,
   "metadata": {},
   "outputs": [
    {
     "data": {
      "text/html": [
       "<div>\n",
       "<style scoped>\n",
       "    .dataframe tbody tr th:only-of-type {\n",
       "        vertical-align: middle;\n",
       "    }\n",
       "\n",
       "    .dataframe tbody tr th {\n",
       "        vertical-align: top;\n",
       "    }\n",
       "\n",
       "    .dataframe thead th {\n",
       "        text-align: right;\n",
       "    }\n",
       "</style>\n",
       "<table border=\"1\" class=\"dataframe\">\n",
       "  <thead>\n",
       "    <tr style=\"text-align: right;\">\n",
       "      <th></th>\n",
       "      <th>alternateIdentifiers</th>\n",
       "      <th>contributors</th>\n",
       "      <th>creators</th>\n",
       "      <th>dates</th>\n",
       "      <th>descriptions</th>\n",
       "      <th>fundingReferences</th>\n",
       "      <th>publicationYear</th>\n",
       "      <th>publisher</th>\n",
       "      <th>relatedIdentifiers</th>\n",
       "      <th>relatedItems</th>\n",
       "      <th>rightsList</th>\n",
       "      <th>subjects</th>\n",
       "      <th>titles</th>\n",
       "      <th>identifier.identifier</th>\n",
       "      <th>identifier.identifierType</th>\n",
       "      <th>resourceType.resourceType</th>\n",
       "      <th>resourceType.resourceTypeGeneral</th>\n",
       "    </tr>\n",
       "  </thead>\n",
       "  <tbody>\n",
       "    <tr>\n",
       "      <th>0</th>\n",
       "      <td>[{'alternateIdentifier': 'https://osf.io/by9ax...</td>\n",
       "      <td>[{'contributorName': {'contributorName': 'Cent...</td>\n",
       "      <td>[{'creatorName': {'creatorName': 'Alejandro Ti...</td>\n",
       "      <td>[{'date': '2024-02-26', 'dateType': 'Created'}...</td>\n",
       "      <td>[]</td>\n",
       "      <td>[]</td>\n",
       "      <td>2024</td>\n",
       "      <td>OSF</td>\n",
       "      <td>[{'relatedIdentifier': '10.17605/OSF.IO/WVSCB'...</td>\n",
       "      <td>[{'publicationYear': '2024', 'publisher': 'OSF...</td>\n",
       "      <td>[]</td>\n",
       "      <td>[]</td>\n",
       "      <td>[{'title': 'Content Analysis Instructions.docx'}]</td>\n",
       "      <td>https://osf.io/by9ax</td>\n",
       "      <td>URL</td>\n",
       "      <td>File</td>\n",
       "      <td>Text</td>\n",
       "    </tr>\n",
       "  </tbody>\n",
       "</table>\n",
       "</div>"
      ],
      "text/plain": [
       "                                alternateIdentifiers  \\\n",
       "0  [{'alternateIdentifier': 'https://osf.io/by9ax...   \n",
       "\n",
       "                                        contributors  \\\n",
       "0  [{'contributorName': {'contributorName': 'Cent...   \n",
       "\n",
       "                                            creators  \\\n",
       "0  [{'creatorName': {'creatorName': 'Alejandro Ti...   \n",
       "\n",
       "                                               dates descriptions  \\\n",
       "0  [{'date': '2024-02-26', 'dateType': 'Created'}...           []   \n",
       "\n",
       "  fundingReferences publicationYear publisher  \\\n",
       "0                []            2024       OSF   \n",
       "\n",
       "                                  relatedIdentifiers  \\\n",
       "0  [{'relatedIdentifier': '10.17605/OSF.IO/WVSCB'...   \n",
       "\n",
       "                                        relatedItems rightsList subjects  \\\n",
       "0  [{'publicationYear': '2024', 'publisher': 'OSF...         []       []   \n",
       "\n",
       "                                              titles identifier.identifier  \\\n",
       "0  [{'title': 'Content Analysis Instructions.docx'}]  https://osf.io/by9ax   \n",
       "\n",
       "  identifier.identifierType resourceType.resourceType  \\\n",
       "0                       URL                      File   \n",
       "\n",
       "  resourceType.resourceTypeGeneral  \n",
       "0                             Text  "
      ]
     },
     "execution_count": 7,
     "metadata": {},
     "output_type": "execute_result"
    }
   ],
   "source": [
    "import pandas as pd\n",
    "\n",
    "# Cargar el archivo JSON\n",
    "with open(file_path_json, 'r', encoding='utf-8') as file:\n",
    "    data = json.load(file)\n",
    "\n",
    "# Convertir el JSON a un DataFrame de pandas\n",
    "df = pd.json_normalize(data)\n",
    "\n",
    "df\n"
   ]
  },
  {
   "cell_type": "code",
   "execution_count": 18,
   "metadata": {},
   "outputs": [
    {
     "data": {
      "text/plain": [
       "Index(['alternateIdentifiers', 'contributors', 'creators', 'dates',\n",
       "       'descriptions', 'fundingReferences', 'publicationYear', 'publisher',\n",
       "       'relatedIdentifiers', 'relatedItems', 'rightsList', 'subjects',\n",
       "       'titles', 'identifier.identifier', 'identifier.identifierType',\n",
       "       'resourceType.resourceType', 'resourceType.resourceTypeGeneral'],\n",
       "      dtype='object')"
      ]
     },
     "execution_count": 18,
     "metadata": {},
     "output_type": "execute_result"
    }
   ],
   "source": [
    "df.columns"
   ]
  },
  {
   "cell_type": "code",
   "execution_count": 8,
   "metadata": {},
   "outputs": [
    {
     "data": {
      "text/plain": [
       "[{'title': 'Content Analysis Instructions.docx'}]"
      ]
     },
     "execution_count": 8,
     "metadata": {},
     "output_type": "execute_result"
    }
   ],
   "source": [
    "data['titles']"
   ]
  },
  {
   "cell_type": "code",
   "execution_count": 9,
   "metadata": {},
   "outputs": [
    {
     "data": {
      "text/plain": [
       "0    [{'title': 'Content Analysis Instructions.docx'}]\n",
       "Name: titles, dtype: object"
      ]
     },
     "execution_count": 9,
     "metadata": {},
     "output_type": "execute_result"
    }
   ],
   "source": [
    "df['titles']"
   ]
  },
  {
   "cell_type": "code",
   "execution_count": 10,
   "metadata": {},
   "outputs": [
    {
     "name": "stdout",
     "output_type": "stream",
     "text": [
      "                               titles\n",
      "0  Content Analysis Instructions.docx\n"
     ]
    }
   ],
   "source": [
    "# Extraer el campo 'title' del JSON anidado en la columna 'titles'\n",
    "df['titles'] = df['titles'].apply(lambda x: x[0]['title'] if isinstance(x, list) and len(x) > 0 else None)\n",
    "\n",
    "# Mostrar el DataFrame con la columna 'titles' extraída\n",
    "print(df[['titles']].head())"
   ]
  },
  {
   "cell_type": "code",
   "execution_count": 13,
   "metadata": {},
   "outputs": [
    {
     "data": {
      "text/plain": [
       "0    [{'alternateIdentifier': 'https://osf.io/by9ax...\n",
       "Name: alternateIdentifiers, dtype: object"
      ]
     },
     "execution_count": 13,
     "metadata": {},
     "output_type": "execute_result"
    }
   ],
   "source": [
    "df['alternateIdentifiers'] #--> link to Content Analysis Instructions.docx"
   ]
  },
  {
   "cell_type": "code",
   "execution_count": 17,
   "metadata": {},
   "outputs": [
    {
     "name": "stdout",
     "output_type": "stream",
     "text": [
      "Contributor 1:\n",
      "[{'contributorName': {'contributorName': 'Center for Open Science', 'nameType': 'Organizational'}, 'contributorType': 'HostingInstitution', 'nameIdentifier': {'nameIdentifier': 'https://ror.org/05d5mza29', 'nameIdentifierScheme': 'ROR'}}]\n",
      "\n",
      "\n"
     ]
    }
   ],
   "source": [
    "import pandas as pd\n",
    "\n",
    "# contenido completo del campo 'contributors'\n",
    "\n",
    "for index, contributor in enumerate(df['contributors']):\n",
    "    print(f\"Contributor {index + 1}:\")\n",
    "    print(contributor)\n",
    "    print(\"\\n\")\n"
   ]
  },
  {
   "cell_type": "code",
   "execution_count": 24,
   "metadata": {},
   "outputs": [
    {
     "name": "stdout",
     "output_type": "stream",
     "text": [
      "Creator 1:\n",
      "[{'creatorName': {'creatorName': 'Alejandro Tirado Castro', 'nameType': 'Personal'}, 'nameIdentifier': {'nameIdentifier': 'https://www.linkedin.com/in/alejandro-tirado-castro-6aa66394/', 'nameIdentifierScheme': 'URL'}}]\n",
      "\n",
      "\n"
     ]
    }
   ],
   "source": [
    "#df['creators'] #how to see/read this???\n",
    "\n",
    "for index, creator in enumerate(df['creators']):\n",
    "    print(f\"Creator {index + 1}:\")\n",
    "    print(creator)\n",
    "    print(\"\\n\")"
   ]
  },
  {
   "cell_type": "code",
   "execution_count": 26,
   "metadata": {},
   "outputs": [
    {
     "name": "stdout",
     "output_type": "stream",
     "text": [
      "Title1:\n",
      "Content Analysis Instructions.docx\n",
      "\n",
      "\n"
     ]
    }
   ],
   "source": [
    "for index, title in enumerate(df['titles']):\n",
    "    print(f\"Title{index+1}:\")\n",
    "    print(title)\n",
    "    print(\"\\n\")"
   ]
  },
  {
   "cell_type": "code",
   "execution_count": null,
   "metadata": {},
   "outputs": [],
   "source": []
  }
 ],
 "metadata": {
  "kernelspec": {
   "display_name": "data-science",
   "language": "python",
   "name": "python3"
  },
  "language_info": {
   "codemirror_mode": {
    "name": "ipython",
    "version": 3
   },
   "file_extension": ".py",
   "mimetype": "text/x-python",
   "name": "python",
   "nbconvert_exporter": "python",
   "pygments_lexer": "ipython3",
   "version": "3.12.5"
  }
 },
 "nbformat": 4,
 "nbformat_minor": 2
}
