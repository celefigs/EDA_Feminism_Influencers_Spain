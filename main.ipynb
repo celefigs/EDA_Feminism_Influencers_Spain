{
 "cells": [
  {
   "cell_type": "markdown",
   "metadata": {},
   "source": [
    "# EDA Individual Project\n",
    "\n",
    "## \"Has social media influenced Spanish society's opinion on feminism (or anti-feminism)?\"\n",
    "\n",
    "## Index\n",
    "- [Influencers initial dataset](#influencers-initial-dataset)\n",
    "- [Influencers content dataset](#influencers-content-dataset)\n",
    "- [Codebook - Feminism and Anti-feminism](#codebook)"
   ]
  },
  {
   "cell_type": "code",
   "execution_count": 82,
   "metadata": {},
   "outputs": [],
   "source": [
    "#pip install pandas openpyxl\n",
    "import pandas as pd\n",
    "import json"
   ]
  },
  {
   "cell_type": "markdown",
   "metadata": {},
   "source": [
    "## Influencers initial dataset"
   ]
  },
  {
   "cell_type": "code",
   "execution_count": 110,
   "metadata": {},
   "outputs": [
    {
     "data": {
      "text/html": [
       "<div>\n",
       "<style scoped>\n",
       "    .dataframe tbody tr th:only-of-type {\n",
       "        vertical-align: middle;\n",
       "    }\n",
       "\n",
       "    .dataframe tbody tr th {\n",
       "        vertical-align: top;\n",
       "    }\n",
       "\n",
       "    .dataframe thead th {\n",
       "        text-align: right;\n",
       "    }\n",
       "</style>\n",
       "<table border=\"1\" class=\"dataframe\">\n",
       "  <thead>\n",
       "    <tr style=\"text-align: right;\">\n",
       "      <th></th>\n",
       "      <th>id</th>\n",
       "      <th>influencer's name</th>\n",
       "      <th>real name</th>\n",
       "      <th>age</th>\n",
       "      <th>ref. edad</th>\n",
       "      <th>education</th>\n",
       "      <th>ref. educacion</th>\n",
       "      <th>previous_occupation</th>\n",
       "      <th>ref. ocupacion</th>\n",
       "      <th>main platform</th>\n",
       "      <th>secondary platform</th>\n",
       "      <th># follower</th>\n",
       "      <th>link_plataforma</th>\n",
       "    </tr>\n",
       "  </thead>\n",
       "  <tbody>\n",
       "    <tr>\n",
       "      <th>0</th>\n",
       "      <td>1</td>\n",
       "      <td>Ibai Llanos</td>\n",
       "      <td>Ibai Llanos Garatea</td>\n",
       "      <td>28</td>\n",
       "      <td>Ibai Llanos - Wikiwand</td>\n",
       "      <td>4</td>\n",
       "      <td>https://www.wikiwand.com/es/Ibai_Llanos</td>\n",
       "      <td>Narrador esports</td>\n",
       "      <td>▷ Ibai Llanos Wiki ≫ Biografía de este Influen...</td>\n",
       "      <td>Twitch</td>\n",
       "      <td>Youtube</td>\n",
       "      <td>12,8M</td>\n",
       "      <td>ibai - Twitch</td>\n",
       "    </tr>\n",
       "    <tr>\n",
       "      <th>1</th>\n",
       "      <td>2</td>\n",
       "      <td>Maria Pombo</td>\n",
       "      <td>María Pombo</td>\n",
       "      <td>28</td>\n",
       "      <td>https://www.modelocurriculum.net/biografias/in...</td>\n",
       "      <td>4</td>\n",
       "      <td>https://www.modelocurriculum.net/biografias/in...</td>\n",
       "      <td>NaN</td>\n",
       "      <td>NaN</td>\n",
       "      <td>Instagram</td>\n",
       "      <td>NaN</td>\n",
       "      <td>2,9M</td>\n",
       "      <td>https://www.instagram.com/mariapombo/</td>\n",
       "    </tr>\n",
       "    <tr>\n",
       "      <th>2</th>\n",
       "      <td>3</td>\n",
       "      <td>Naim Darrechi</td>\n",
       "      <td>Naim Darrechi</td>\n",
       "      <td>20</td>\n",
       "      <td>https://historia-biografia.com/naim-darrechi/</td>\n",
       "      <td>NaN</td>\n",
       "      <td>NaN</td>\n",
       "      <td>-</td>\n",
       "      <td>-</td>\n",
       "      <td>TikTok</td>\n",
       "      <td>Instagram</td>\n",
       "      <td>29M</td>\n",
       "      <td>https://www.tiktok.com/@naimdarrechi?lang=es</td>\n",
       "    </tr>\n",
       "    <tr>\n",
       "      <th>3</th>\n",
       "      <td>4</td>\n",
       "      <td>Jordi Wild</td>\n",
       "      <td>Jordi Carrillo de Albornoz Torres</td>\n",
       "      <td>38</td>\n",
       "      <td>▷ Jordi Wild Wiki ≫ Biografía de este Influenc...</td>\n",
       "      <td>6</td>\n",
       "      <td>▷ Jordi Wild Wiki ≫ Biografía de este Influenc...</td>\n",
       "      <td>-</td>\n",
       "      <td>NaN</td>\n",
       "      <td>YouTube</td>\n",
       "      <td>Twitter</td>\n",
       "      <td>3,59M</td>\n",
       "      <td>The Wild Project - YouTube</td>\n",
       "    </tr>\n",
       "    <tr>\n",
       "      <th>4</th>\n",
       "      <td>5</td>\n",
       "      <td>Iker Unzu</td>\n",
       "      <td>Iker Unzueta Ramos</td>\n",
       "      <td>18</td>\n",
       "      <td>Iker Unzu - Edad, Familia, Biografía | Famous ...</td>\n",
       "      <td>3</td>\n",
       "      <td>Iker Unzu | Wiki YouTube Pedia | Fandom</td>\n",
       "      <td>-</td>\n",
       "      <td>-</td>\n",
       "      <td>TikTok</td>\n",
       "      <td>YouTube</td>\n",
       "      <td>11,4M</td>\n",
       "      <td>Iker Unzu (@ikerunzu) oficial | TikTok</td>\n",
       "    </tr>\n",
       "    <tr>\n",
       "      <th>5</th>\n",
       "      <td>6</td>\n",
       "      <td>ElRubius</td>\n",
       "      <td>Rubén Doblas Gundersen</td>\n",
       "      <td>33</td>\n",
       "      <td>https://es.wikipedia.org/wiki/El_Rubius</td>\n",
       "      <td>5</td>\n",
       "      <td>https://es.wikipedia.org/wiki/El_Rubius</td>\n",
       "      <td>Dependiente</td>\n",
       "      <td>https://es.wikipedia.org/wiki/El_Rubius</td>\n",
       "      <td>YouTube</td>\n",
       "      <td>Twitch</td>\n",
       "      <td>40,4M</td>\n",
       "      <td>https://www.youtube.com/@elrubiusOMG/videos</td>\n",
       "    </tr>\n",
       "    <tr>\n",
       "      <th>6</th>\n",
       "      <td>7</td>\n",
       "      <td>Samantha Hudosn</td>\n",
       "      <td>(nombre de nacimiento): Iván González Ranedo</td>\n",
       "      <td>23</td>\n",
       "      <td>Samantha Hudson - Wikipedia, la enciclopedia l...</td>\n",
       "      <td>4</td>\n",
       "      <td>Samantha Hudson - Wikipedia, la enciclopedia l...</td>\n",
       "      <td>Artista</td>\n",
       "      <td>Samantha Hudson - Wikipedia, la enciclopedia l...</td>\n",
       "      <td>Instagram</td>\n",
       "      <td>Twitter</td>\n",
       "      <td>308K</td>\n",
       "      <td>Samantha Hudson (@badbixsamantha) • Fotos y vi...</td>\n",
       "    </tr>\n",
       "    <tr>\n",
       "      <th>7</th>\n",
       "      <td>8</td>\n",
       "      <td>Roma Gallardo</td>\n",
       "      <td>Alfonso Gallardo</td>\n",
       "      <td>34</td>\n",
       "      <td>https://youtube.fandom.com/es/wiki/Roma_Gallardo</td>\n",
       "      <td>NaN</td>\n",
       "      <td>NaN</td>\n",
       "      <td>-</td>\n",
       "      <td>-</td>\n",
       "      <td>YouTube</td>\n",
       "      <td>Twitter</td>\n",
       "      <td>1,75M</td>\n",
       "      <td>https://www.youtube.com/@romagallardo7504</td>\n",
       "    </tr>\n",
       "    <tr>\n",
       "      <th>8</th>\n",
       "      <td>9</td>\n",
       "      <td>DalasReview</td>\n",
       "      <td>Daniel José Santomé Lemus</td>\n",
       "      <td>26</td>\n",
       "      <td>https://twitter.com/DalasReview?ref_src=twsrc%...</td>\n",
       "      <td>4</td>\n",
       "      <td>Dalas Review | Biblioteca Virtual Fandom | Fandom</td>\n",
       "      <td>-</td>\n",
       "      <td>-</td>\n",
       "      <td>YouTube</td>\n",
       "      <td>Twitter</td>\n",
       "      <td>10,5M</td>\n",
       "      <td>NaN</td>\n",
       "    </tr>\n",
       "  </tbody>\n",
       "</table>\n",
       "</div>"
      ],
      "text/plain": [
       "   id influencer's name                                     real name  age  \\\n",
       "0   1       Ibai Llanos                           Ibai Llanos Garatea   28   \n",
       "1   2       Maria Pombo                                   María Pombo   28   \n",
       "2   3     Naim Darrechi                                 Naim Darrechi   20   \n",
       "3   4        Jordi Wild             Jordi Carrillo de Albornoz Torres   38   \n",
       "4   5         Iker Unzu                            Iker Unzueta Ramos   18   \n",
       "5   6          ElRubius                        Rubén Doblas Gundersen   33   \n",
       "6   7   Samantha Hudosn  (nombre de nacimiento): Iván González Ranedo   23   \n",
       "7   8     Roma Gallardo                              Alfonso Gallardo   34   \n",
       "8   9       DalasReview                     Daniel José Santomé Lemus   26   \n",
       "\n",
       "                                           ref. edad education  \\\n",
       "0                             Ibai Llanos - Wikiwand         4   \n",
       "1  https://www.modelocurriculum.net/biografias/in...         4   \n",
       "2      https://historia-biografia.com/naim-darrechi/       NaN   \n",
       "3  ▷ Jordi Wild Wiki ≫ Biografía de este Influenc...         6   \n",
       "4  Iker Unzu - Edad, Familia, Biografía | Famous ...         3   \n",
       "5            https://es.wikipedia.org/wiki/El_Rubius         5   \n",
       "6  Samantha Hudson - Wikipedia, la enciclopedia l...         4   \n",
       "7   https://youtube.fandom.com/es/wiki/Roma_Gallardo       NaN   \n",
       "8  https://twitter.com/DalasReview?ref_src=twsrc%...         4   \n",
       "\n",
       "                                      ref. educacion previous_occupation  \\\n",
       "0            https://www.wikiwand.com/es/Ibai_Llanos    Narrador esports   \n",
       "1  https://www.modelocurriculum.net/biografias/in...                 NaN   \n",
       "2                                                NaN                   -   \n",
       "3  ▷ Jordi Wild Wiki ≫ Biografía de este Influenc...                   -   \n",
       "4            Iker Unzu | Wiki YouTube Pedia | Fandom                   -   \n",
       "5            https://es.wikipedia.org/wiki/El_Rubius         Dependiente   \n",
       "6  Samantha Hudson - Wikipedia, la enciclopedia l...             Artista   \n",
       "7                                                NaN                   -   \n",
       "8  Dalas Review | Biblioteca Virtual Fandom | Fandom                   -   \n",
       "\n",
       "                                      ref. ocupacion main platform  \\\n",
       "0  ▷ Ibai Llanos Wiki ≫ Biografía de este Influen...        Twitch   \n",
       "1                                                NaN     Instagram   \n",
       "2                                                  -        TikTok   \n",
       "3                                                NaN       YouTube   \n",
       "4                                                  -        TikTok   \n",
       "5            https://es.wikipedia.org/wiki/El_Rubius       YouTube   \n",
       "6  Samantha Hudson - Wikipedia, la enciclopedia l...     Instagram   \n",
       "7                                                  -       YouTube   \n",
       "8                                                  -       YouTube   \n",
       "\n",
       "  secondary platform # follower  \\\n",
       "0            Youtube      12,8M   \n",
       "1                NaN       2,9M   \n",
       "2          Instagram        29M   \n",
       "3            Twitter      3,59M   \n",
       "4            YouTube      11,4M   \n",
       "5             Twitch      40,4M   \n",
       "6            Twitter       308K   \n",
       "7            Twitter      1,75M   \n",
       "8            Twitter      10,5M   \n",
       "\n",
       "                                     link_plataforma  \n",
       "0                                      ibai - Twitch  \n",
       "1              https://www.instagram.com/mariapombo/  \n",
       "2       https://www.tiktok.com/@naimdarrechi?lang=es  \n",
       "3                         The Wild Project - YouTube  \n",
       "4             Iker Unzu (@ikerunzu) oficial | TikTok  \n",
       "5        https://www.youtube.com/@elrubiusOMG/videos  \n",
       "6  Samantha Hudson (@badbixsamantha) • Fotos y vi...  \n",
       "7          https://www.youtube.com/@romagallardo7504  \n",
       "8                                                NaN  "
      ]
     },
     "execution_count": 110,
     "metadata": {},
     "output_type": "execute_result"
    }
   ],
   "source": [
    "path_file_influencers = r\"C:\\Users\\Celeste\\Google Drive Streaming\\My Drive\\_CODEOP\\_Individual project\\influencers_data\\Influencers Initial Dataset.xlsx\"\n",
    "\n",
    "df_influencers = pd.read_excel(path_file_influencers)\n",
    "\n",
    "df_influencers.head(9)"
   ]
  },
  {
   "cell_type": "code",
   "execution_count": 111,
   "metadata": {},
   "outputs": [
    {
     "name": "stdout",
     "output_type": "stream",
     "text": [
      "<class 'pandas.core.frame.DataFrame'>\n",
      "RangeIndex: 26 entries, 0 to 25\n",
      "Data columns (total 13 columns):\n",
      " #   Column               Non-Null Count  Dtype \n",
      "---  ------               --------------  ----- \n",
      " 0   id                   26 non-null     int64 \n",
      " 1   influencer's name    26 non-null     object\n",
      " 2   real name            26 non-null     object\n",
      " 3   age                  26 non-null     int64 \n",
      " 4   ref. edad            25 non-null     object\n",
      " 5   education            23 non-null     object\n",
      " 6   ref. educacion       23 non-null     object\n",
      " 7   previous_occupation  25 non-null     object\n",
      " 8   ref. ocupacion       24 non-null     object\n",
      " 9   main platform        26 non-null     object\n",
      " 10  secondary platform   24 non-null     object\n",
      " 11  # follower           26 non-null     object\n",
      " 12  link_plataforma      25 non-null     object\n",
      "dtypes: int64(2), object(11)\n",
      "memory usage: 2.8+ KB\n"
     ]
    }
   ],
   "source": [
    "df_influencers.info()"
   ]
  },
  {
   "cell_type": "code",
   "execution_count": 112,
   "metadata": {},
   "outputs": [
    {
     "data": {
      "text/plain": [
       "(26, 13)"
      ]
     },
     "execution_count": 112,
     "metadata": {},
     "output_type": "execute_result"
    }
   ],
   "source": [
    "df_influencers.shape"
   ]
  },
  {
   "cell_type": "code",
   "execution_count": 113,
   "metadata": {},
   "outputs": [
    {
     "data": {
      "text/plain": [
       "array(['Ibai Llanos', 'Maria Pombo', 'Naim Darrechi', 'Jordi Wild',\n",
       "       'Iker Unzu', 'ElRubius', 'Samantha Hudosn', 'Roma Gallardo',\n",
       "       'DalasReview', 'Sindy Takanashi', 'Dulceida', 'IlloJuan',\n",
       "       'Laura Escanes', 'Violeta Mangriñan', 'Ines Hernand',\n",
       "       'Angel Martín', 'Verdeliss', 'Vecinarubia', 'Ratolina', 'Grefg',\n",
       "       'Victoria Martín', 'Andrea Compton', 'Carolina Iglesias',\n",
       "       'Lola Lolita', 'Djmariio', 'Jaime Altozano'], dtype=object)"
      ]
     },
     "execution_count": 113,
     "metadata": {},
     "output_type": "execute_result"
    }
   ],
   "source": [
    "df_influencers['influencer\\'s name'].unique()"
   ]
  },
  {
   "cell_type": "code",
   "execution_count": 114,
   "metadata": {},
   "outputs": [
    {
     "data": {
      "text/plain": [
       "id                     0\n",
       "influencer's name      0\n",
       "real name              0\n",
       "age                    0\n",
       "ref. edad              1\n",
       "education              3\n",
       "ref. educacion         3\n",
       "previous_occupation    1\n",
       "ref. ocupacion         2\n",
       "main platform          0\n",
       "secondary platform     2\n",
       "# follower             0\n",
       "link_plataforma        1\n",
       "dtype: int64"
      ]
     },
     "execution_count": 114,
     "metadata": {},
     "output_type": "execute_result"
    }
   ],
   "source": [
    "df_influencers.isna().sum()"
   ]
  },
  {
   "cell_type": "code",
   "execution_count": 115,
   "metadata": {},
   "outputs": [
    {
     "data": {
      "text/plain": [
       "0                                         ibai - Twitch\n",
       "1                 https://www.instagram.com/mariapombo/\n",
       "2          https://www.tiktok.com/@naimdarrechi?lang=es\n",
       "3                            The Wild Project - YouTube\n",
       "4                Iker Unzu (@ikerunzu) oficial | TikTok\n",
       "5           https://www.youtube.com/@elrubiusOMG/videos\n",
       "6     Samantha Hudson (@badbixsamantha) • Fotos y vi...\n",
       "7             https://www.youtube.com/@romagallardo7504\n",
       "8                                                   NaN\n",
       "9             https://www.instagram.com/sindytakanashi/\n",
       "10    Aida Domenech (@dulceida) • Fotos y videos de ...\n",
       "11            https://www.youtube.com/@IlloJuan_/videos\n",
       "12              https://www.instagram.com/lauraescanes/\n",
       "13                   https://www.instagram.com/violeta/\n",
       "14               https://www.instagram.com/ineshernand/\n",
       "15                https://www.youtube.com/@angel_martin\n",
       "16    verdeliss | Estefi Unzu (@verdeliss) • Fotos y...\n",
       "17    La Vecina Rubia (@lavecinarubia) • Fotos y vid...\n",
       "18                    https://www.youtube.com/@ratolina\n",
       "19                                   TheGrefg - YouTube\n",
       "20            https://www.instagram.com/livingpostureo/\n",
       "21                          youtube.com/@andreacomptonn\n",
       "22             https://www.youtube.com/@Percebesygrelos\n",
       "23    https://www.tiktok.com/@lolalolita?_t=8abrhMQn...\n",
       "24                    https://www.youtube.com/@DjMaRiiO\n",
       "25                             Jaime Altozano - YouTube\n",
       "Name: link_plataforma, dtype: object"
      ]
     },
     "execution_count": 115,
     "metadata": {},
     "output_type": "execute_result"
    }
   ],
   "source": [
    "df_influencers['link_plataforma']"
   ]
  },
  {
   "cell_type": "code",
   "execution_count": 116,
   "metadata": {},
   "outputs": [
    {
     "data": {
      "text/plain": [
       "Index(['id', 'influencer's name', 'real name', 'age', 'ref. edad', 'education',\n",
       "       'ref. educacion', 'previous_occupation', 'ref. ocupacion',\n",
       "       'main platform', 'secondary platform', '# follower', 'link_plataforma'],\n",
       "      dtype='object')"
      ]
     },
     "execution_count": 116,
     "metadata": {},
     "output_type": "execute_result"
    }
   ],
   "source": [
    "df_influencers.columns"
   ]
  },
  {
   "cell_type": "code",
   "execution_count": 117,
   "metadata": {},
   "outputs": [
    {
     "data": {
      "text/plain": [
       "array(['▷ Ibai Llanos Wiki ≫ Biografía de este Influencer【2023】 (mejorinfluencer.com)',\n",
       "       nan, '-', 'https://es.wikipedia.org/wiki/El_Rubius',\n",
       "       'Samantha Hudson - Wikipedia, la enciclopedia libre',\n",
       "       'https://www.flooxernow.com/noticias/sindy-takanashi-el-feminismo-me-hizo-darme-cuenta-de-que-habia-sido-violada-durante-ano-y-medio_201806265b3291ee0cf25c12398dc42e.html',\n",
       "       'Biografía de Aida Domènech, Dulceida (modelocurriculum.net)',\n",
       "       'https://es.wikipedia.org/wiki/Laura_Escanes',\n",
       "       'https://andreampds.com/violeta-mangrinan-wikipedia/#:~:text=Violeta%20Mangri%C3%B1%C3%A1n%20naci%C3%B3%20en%20Valencia,Violeta%20mide%201%2C68%20metros.',\n",
       "       'https://es.wikipedia.org/wiki/In%C3%A9s_Hernand',\n",
       "       'Ángel Martín - Wikipedia, la enciclopedia libre',\n",
       "       '¿Quién es Verdeliss? Edad de la influencer, hijos, casa, estado de salud - Legit.ng',\n",
       "       'https://es.wikipedia.org/wiki/Victoria_Mart%C3%ADn',\n",
       "       'Carolina Iglesias - Wikipedia, la enciclopedia libre'],\n",
       "      dtype=object)"
      ]
     },
     "execution_count": 117,
     "metadata": {},
     "output_type": "execute_result"
    }
   ],
   "source": [
    "df_influencers['ref. ocupacion'].unique()"
   ]
  },
  {
   "cell_type": "code",
   "execution_count": 118,
   "metadata": {},
   "outputs": [],
   "source": [
    "#remove columns \n",
    "\n",
    "df_influencers = df_influencers.drop(['id','real name', 'ref. edad', 'education','ref. educacion', 'previous_occupation', 'ref. ocupacion','link_plataforma'], axis = 1)"
   ]
  },
  {
   "cell_type": "code",
   "execution_count": 119,
   "metadata": {},
   "outputs": [
    {
     "data": {
      "text/html": [
       "<div>\n",
       "<style scoped>\n",
       "    .dataframe tbody tr th:only-of-type {\n",
       "        vertical-align: middle;\n",
       "    }\n",
       "\n",
       "    .dataframe tbody tr th {\n",
       "        vertical-align: top;\n",
       "    }\n",
       "\n",
       "    .dataframe thead th {\n",
       "        text-align: right;\n",
       "    }\n",
       "</style>\n",
       "<table border=\"1\" class=\"dataframe\">\n",
       "  <thead>\n",
       "    <tr style=\"text-align: right;\">\n",
       "      <th></th>\n",
       "      <th>influencer's name</th>\n",
       "      <th>age</th>\n",
       "      <th>main platform</th>\n",
       "      <th>secondary platform</th>\n",
       "      <th># follower</th>\n",
       "    </tr>\n",
       "  </thead>\n",
       "  <tbody>\n",
       "    <tr>\n",
       "      <th>0</th>\n",
       "      <td>Ibai Llanos</td>\n",
       "      <td>28</td>\n",
       "      <td>Twitch</td>\n",
       "      <td>Youtube</td>\n",
       "      <td>12,8M</td>\n",
       "    </tr>\n",
       "    <tr>\n",
       "      <th>1</th>\n",
       "      <td>Maria Pombo</td>\n",
       "      <td>28</td>\n",
       "      <td>Instagram</td>\n",
       "      <td>NaN</td>\n",
       "      <td>2,9M</td>\n",
       "    </tr>\n",
       "    <tr>\n",
       "      <th>2</th>\n",
       "      <td>Naim Darrechi</td>\n",
       "      <td>20</td>\n",
       "      <td>TikTok</td>\n",
       "      <td>Instagram</td>\n",
       "      <td>29M</td>\n",
       "    </tr>\n",
       "    <tr>\n",
       "      <th>3</th>\n",
       "      <td>Jordi Wild</td>\n",
       "      <td>38</td>\n",
       "      <td>YouTube</td>\n",
       "      <td>Twitter</td>\n",
       "      <td>3,59M</td>\n",
       "    </tr>\n",
       "    <tr>\n",
       "      <th>4</th>\n",
       "      <td>Iker Unzu</td>\n",
       "      <td>18</td>\n",
       "      <td>TikTok</td>\n",
       "      <td>YouTube</td>\n",
       "      <td>11,4M</td>\n",
       "    </tr>\n",
       "    <tr>\n",
       "      <th>5</th>\n",
       "      <td>ElRubius</td>\n",
       "      <td>33</td>\n",
       "      <td>YouTube</td>\n",
       "      <td>Twitch</td>\n",
       "      <td>40,4M</td>\n",
       "    </tr>\n",
       "    <tr>\n",
       "      <th>6</th>\n",
       "      <td>Samantha Hudosn</td>\n",
       "      <td>23</td>\n",
       "      <td>Instagram</td>\n",
       "      <td>Twitter</td>\n",
       "      <td>308K</td>\n",
       "    </tr>\n",
       "    <tr>\n",
       "      <th>7</th>\n",
       "      <td>Roma Gallardo</td>\n",
       "      <td>34</td>\n",
       "      <td>YouTube</td>\n",
       "      <td>Twitter</td>\n",
       "      <td>1,75M</td>\n",
       "    </tr>\n",
       "    <tr>\n",
       "      <th>8</th>\n",
       "      <td>DalasReview</td>\n",
       "      <td>26</td>\n",
       "      <td>YouTube</td>\n",
       "      <td>Twitter</td>\n",
       "      <td>10,5M</td>\n",
       "    </tr>\n",
       "    <tr>\n",
       "      <th>9</th>\n",
       "      <td>Sindy Takanashi</td>\n",
       "      <td>30</td>\n",
       "      <td>Instagram</td>\n",
       "      <td>NaN</td>\n",
       "      <td>264K</td>\n",
       "    </tr>\n",
       "    <tr>\n",
       "      <th>10</th>\n",
       "      <td>Dulceida</td>\n",
       "      <td>33</td>\n",
       "      <td>Instagram</td>\n",
       "      <td>YouTube</td>\n",
       "      <td>3,2M</td>\n",
       "    </tr>\n",
       "    <tr>\n",
       "      <th>11</th>\n",
       "      <td>IlloJuan</td>\n",
       "      <td>28</td>\n",
       "      <td>YouTube</td>\n",
       "      <td>Twitch</td>\n",
       "      <td>1,53M</td>\n",
       "    </tr>\n",
       "    <tr>\n",
       "      <th>12</th>\n",
       "      <td>Laura Escanes</td>\n",
       "      <td>26</td>\n",
       "      <td>Instagram</td>\n",
       "      <td>TikTok</td>\n",
       "      <td>1,9M</td>\n",
       "    </tr>\n",
       "    <tr>\n",
       "      <th>13</th>\n",
       "      <td>Violeta Mangriñan</td>\n",
       "      <td>29</td>\n",
       "      <td>Instagram</td>\n",
       "      <td>TikTok</td>\n",
       "      <td>2,2M</td>\n",
       "    </tr>\n",
       "    <tr>\n",
       "      <th>14</th>\n",
       "      <td>Ines Hernand</td>\n",
       "      <td>30</td>\n",
       "      <td>Instagram</td>\n",
       "      <td>YouTube</td>\n",
       "      <td>468K</td>\n",
       "    </tr>\n",
       "    <tr>\n",
       "      <th>15</th>\n",
       "      <td>Angel Martín</td>\n",
       "      <td>45</td>\n",
       "      <td>YouTube</td>\n",
       "      <td>Twitter</td>\n",
       "      <td>207K</td>\n",
       "    </tr>\n",
       "    <tr>\n",
       "      <th>16</th>\n",
       "      <td>Verdeliss</td>\n",
       "      <td>37</td>\n",
       "      <td>Instagram</td>\n",
       "      <td>YouTube</td>\n",
       "      <td>1,5M</td>\n",
       "    </tr>\n",
       "    <tr>\n",
       "      <th>17</th>\n",
       "      <td>Vecinarubia</td>\n",
       "      <td>37</td>\n",
       "      <td>Instagram</td>\n",
       "      <td>Twitter</td>\n",
       "      <td>2,8M</td>\n",
       "    </tr>\n",
       "    <tr>\n",
       "      <th>18</th>\n",
       "      <td>Ratolina</td>\n",
       "      <td>33</td>\n",
       "      <td>YouTube</td>\n",
       "      <td>Instagram</td>\n",
       "      <td>1,36M</td>\n",
       "    </tr>\n",
       "    <tr>\n",
       "      <th>19</th>\n",
       "      <td>Grefg</td>\n",
       "      <td>25</td>\n",
       "      <td>YouTube</td>\n",
       "      <td>Twitch</td>\n",
       "      <td>17,9M</td>\n",
       "    </tr>\n",
       "    <tr>\n",
       "      <th>20</th>\n",
       "      <td>Victoria Martín</td>\n",
       "      <td>33</td>\n",
       "      <td>Instagram</td>\n",
       "      <td>YouTube</td>\n",
       "      <td>323K</td>\n",
       "    </tr>\n",
       "    <tr>\n",
       "      <th>21</th>\n",
       "      <td>Andrea Compton</td>\n",
       "      <td>31</td>\n",
       "      <td>YouTube</td>\n",
       "      <td>Instagram</td>\n",
       "      <td>699K</td>\n",
       "    </tr>\n",
       "    <tr>\n",
       "      <th>22</th>\n",
       "      <td>Carolina Iglesias</td>\n",
       "      <td>29</td>\n",
       "      <td>YouTube</td>\n",
       "      <td>Twitter</td>\n",
       "      <td>166K</td>\n",
       "    </tr>\n",
       "    <tr>\n",
       "      <th>23</th>\n",
       "      <td>Lola Lolita</td>\n",
       "      <td>20</td>\n",
       "      <td>TikTok</td>\n",
       "      <td>Instagram</td>\n",
       "      <td>10,2M</td>\n",
       "    </tr>\n",
       "    <tr>\n",
       "      <th>24</th>\n",
       "      <td>Djmariio</td>\n",
       "      <td>32</td>\n",
       "      <td>YouTube</td>\n",
       "      <td>Twitch</td>\n",
       "      <td>8,71M</td>\n",
       "    </tr>\n",
       "    <tr>\n",
       "      <th>25</th>\n",
       "      <td>Jaime Altozano</td>\n",
       "      <td>29</td>\n",
       "      <td>YouTube</td>\n",
       "      <td>Twitter</td>\n",
       "      <td>3,23M</td>\n",
       "    </tr>\n",
       "  </tbody>\n",
       "</table>\n",
       "</div>"
      ],
      "text/plain": [
       "    influencer's name  age main platform secondary platform # follower\n",
       "0         Ibai Llanos   28        Twitch            Youtube      12,8M\n",
       "1         Maria Pombo   28     Instagram                NaN       2,9M\n",
       "2       Naim Darrechi   20        TikTok          Instagram        29M\n",
       "3          Jordi Wild   38       YouTube            Twitter      3,59M\n",
       "4           Iker Unzu   18        TikTok            YouTube      11,4M\n",
       "5            ElRubius   33       YouTube             Twitch      40,4M\n",
       "6     Samantha Hudosn   23     Instagram            Twitter       308K\n",
       "7       Roma Gallardo   34       YouTube            Twitter      1,75M\n",
       "8         DalasReview   26       YouTube            Twitter      10,5M\n",
       "9     Sindy Takanashi   30     Instagram                NaN       264K\n",
       "10           Dulceida   33     Instagram            YouTube       3,2M\n",
       "11           IlloJuan   28       YouTube             Twitch      1,53M\n",
       "12      Laura Escanes   26     Instagram             TikTok       1,9M\n",
       "13  Violeta Mangriñan   29     Instagram             TikTok       2,2M\n",
       "14       Ines Hernand   30     Instagram            YouTube       468K\n",
       "15       Angel Martín   45       YouTube            Twitter       207K\n",
       "16          Verdeliss   37     Instagram            YouTube       1,5M\n",
       "17        Vecinarubia   37     Instagram            Twitter       2,8M\n",
       "18           Ratolina   33       YouTube          Instagram      1,36M\n",
       "19              Grefg   25       YouTube             Twitch      17,9M\n",
       "20    Victoria Martín   33     Instagram            YouTube       323K\n",
       "21     Andrea Compton   31       YouTube          Instagram       699K\n",
       "22  Carolina Iglesias   29       YouTube            Twitter       166K\n",
       "23        Lola Lolita   20        TikTok          Instagram      10,2M\n",
       "24           Djmariio   32       YouTube             Twitch      8,71M\n",
       "25     Jaime Altozano   29       YouTube            Twitter      3,23M"
      ]
     },
     "execution_count": 119,
     "metadata": {},
     "output_type": "execute_result"
    }
   ],
   "source": [
    "df_influencers"
   ]
  },
  {
   "cell_type": "code",
   "execution_count": 120,
   "metadata": {},
   "outputs": [
    {
     "data": {
      "text/html": [
       "<div>\n",
       "<style scoped>\n",
       "    .dataframe tbody tr th:only-of-type {\n",
       "        vertical-align: middle;\n",
       "    }\n",
       "\n",
       "    .dataframe tbody tr th {\n",
       "        vertical-align: top;\n",
       "    }\n",
       "\n",
       "    .dataframe thead th {\n",
       "        text-align: right;\n",
       "    }\n",
       "</style>\n",
       "<table border=\"1\" class=\"dataframe\">\n",
       "  <thead>\n",
       "    <tr style=\"text-align: right;\">\n",
       "      <th></th>\n",
       "      <th>age</th>\n",
       "    </tr>\n",
       "  </thead>\n",
       "  <tbody>\n",
       "    <tr>\n",
       "      <th>count</th>\n",
       "      <td>26.000000</td>\n",
       "    </tr>\n",
       "    <tr>\n",
       "      <th>mean</th>\n",
       "      <td>29.807692</td>\n",
       "    </tr>\n",
       "    <tr>\n",
       "      <th>std</th>\n",
       "      <td>6.026735</td>\n",
       "    </tr>\n",
       "    <tr>\n",
       "      <th>min</th>\n",
       "      <td>18.000000</td>\n",
       "    </tr>\n",
       "    <tr>\n",
       "      <th>25%</th>\n",
       "      <td>26.500000</td>\n",
       "    </tr>\n",
       "    <tr>\n",
       "      <th>50%</th>\n",
       "      <td>29.500000</td>\n",
       "    </tr>\n",
       "    <tr>\n",
       "      <th>75%</th>\n",
       "      <td>33.000000</td>\n",
       "    </tr>\n",
       "    <tr>\n",
       "      <th>max</th>\n",
       "      <td>45.000000</td>\n",
       "    </tr>\n",
       "  </tbody>\n",
       "</table>\n",
       "</div>"
      ],
      "text/plain": [
       "             age\n",
       "count  26.000000\n",
       "mean   29.807692\n",
       "std     6.026735\n",
       "min    18.000000\n",
       "25%    26.500000\n",
       "50%    29.500000\n",
       "75%    33.000000\n",
       "max    45.000000"
      ]
     },
     "execution_count": 120,
     "metadata": {},
     "output_type": "execute_result"
    }
   ],
   "source": [
    "df_influencers.describe() #age"
   ]
  },
  {
   "cell_type": "code",
   "execution_count": 121,
   "metadata": {},
   "outputs": [
    {
     "name": "stdout",
     "output_type": "stream",
     "text": [
      "<class 'pandas.core.frame.DataFrame'>\n",
      "RangeIndex: 26 entries, 0 to 25\n",
      "Data columns (total 5 columns):\n",
      " #   Column              Non-Null Count  Dtype \n",
      "---  ------              --------------  ----- \n",
      " 0   influencer's name   26 non-null     object\n",
      " 1   age                 26 non-null     int64 \n",
      " 2   main platform       26 non-null     object\n",
      " 3   secondary platform  24 non-null     object\n",
      " 4   # follower          26 non-null     object\n",
      "dtypes: int64(1), object(4)\n",
      "memory usage: 1.1+ KB\n"
     ]
    }
   ],
   "source": [
    "df_influencers.info()"
   ]
  },
  {
   "cell_type": "code",
   "execution_count": 122,
   "metadata": {},
   "outputs": [],
   "source": [
    "df_influencers.rename(columns={'# follower': 'followers'}, inplace=True)"
   ]
  },
  {
   "cell_type": "code",
   "execution_count": 123,
   "metadata": {},
   "outputs": [
    {
     "data": {
      "text/plain": [
       "0     12,8M\n",
       "1      2,9M\n",
       "2       29M\n",
       "3     3,59M\n",
       "4     11,4M\n",
       "5     40,4M\n",
       "6      308K\n",
       "7     1,75M\n",
       "8     10,5M\n",
       "9      264K\n",
       "10     3,2M\n",
       "11    1,53M\n",
       "12     1,9M\n",
       "13     2,2M\n",
       "14     468K\n",
       "15     207K\n",
       "16     1,5M\n",
       "17     2,8M\n",
       "18    1,36M\n",
       "19    17,9M\n",
       "20     323K\n",
       "21     699K\n",
       "22     166K\n",
       "23    10,2M\n",
       "24    8,71M\n",
       "25    3,23M\n",
       "Name: followers, dtype: object"
      ]
     },
     "execution_count": 123,
     "metadata": {},
     "output_type": "execute_result"
    }
   ],
   "source": [
    "df_influencers['followers']"
   ]
  },
  {
   "cell_type": "code",
   "execution_count": 124,
   "metadata": {},
   "outputs": [],
   "source": [
    "df_influencers['followers'] = df_influencers['followers'].apply(lambda x: float(x.replace('M', '').replace('K', '').replace(',', '.')) * 1e6)"
   ]
  },
  {
   "cell_type": "code",
   "execution_count": 125,
   "metadata": {},
   "outputs": [
    {
     "data": {
      "text/plain": [
       "0      12800000.0\n",
       "1       2900000.0\n",
       "2      29000000.0\n",
       "3       3590000.0\n",
       "4      11400000.0\n",
       "5      40400000.0\n",
       "6     308000000.0\n",
       "7       1750000.0\n",
       "8      10500000.0\n",
       "9     264000000.0\n",
       "10      3200000.0\n",
       "11      1530000.0\n",
       "12      1900000.0\n",
       "13      2200000.0\n",
       "14    468000000.0\n",
       "15    207000000.0\n",
       "16      1500000.0\n",
       "17      2800000.0\n",
       "18      1360000.0\n",
       "19     17900000.0\n",
       "20    323000000.0\n",
       "21    699000000.0\n",
       "22    166000000.0\n",
       "23     10200000.0\n",
       "24      8710000.0\n",
       "25      3230000.0\n",
       "Name: followers, dtype: float64"
      ]
     },
     "execution_count": 125,
     "metadata": {},
     "output_type": "execute_result"
    }
   ],
   "source": [
    "df_influencers['followers']"
   ]
  },
  {
   "cell_type": "code",
   "execution_count": 126,
   "metadata": {},
   "outputs": [
    {
     "data": {
      "text/plain": [
       "dtype('float64')"
      ]
     },
     "execution_count": 126,
     "metadata": {},
     "output_type": "execute_result"
    }
   ],
   "source": [
    "df_influencers['followers'].dtype"
   ]
  },
  {
   "cell_type": "code",
   "execution_count": 127,
   "metadata": {},
   "outputs": [
    {
     "data": {
      "image/png": "[encoded data removed]",
      "text/plain": [
       "<Figure size 640x480 with 1 Axes>"
      ]
     },
     "metadata": {},
     "output_type": "display_data"
    }
   ],
   "source": [
    "import pandas as pd\n",
    "import matplotlib.pyplot as plt\n",
    "\n",
    "# Barchart of main platforms\n",
    "df_influencers['main platform'].value_counts().plot(kind='bar', color='lightgreen')\n",
    "plt.title('Influencer\\'s Main Plataforms')\n",
    "plt.xlabel('Plataform')\n",
    "plt.ylabel('Influencers')\n",
    "plt.show()"
   ]
  },
  {
   "cell_type": "code",
   "execution_count": 129,
   "metadata": {},
   "outputs": [
    {
     "data": {
      "text/plain": [
       "<bound method Series.unique of 0      12800000.0\n",
       "1       2900000.0\n",
       "2      29000000.0\n",
       "3       3590000.0\n",
       "4      11400000.0\n",
       "5      40400000.0\n",
       "6     308000000.0\n",
       "7       1750000.0\n",
       "8      10500000.0\n",
       "9     264000000.0\n",
       "10      3200000.0\n",
       "11      1530000.0\n",
       "12      1900000.0\n",
       "13      2200000.0\n",
       "14    468000000.0\n",
       "15    207000000.0\n",
       "16      1500000.0\n",
       "17      2800000.0\n",
       "18      1360000.0\n",
       "19     17900000.0\n",
       "20    323000000.0\n",
       "21    699000000.0\n",
       "22    166000000.0\n",
       "23     10200000.0\n",
       "24      8710000.0\n",
       "25      3230000.0\n",
       "Name: followers, dtype: float64>"
      ]
     },
     "execution_count": 129,
     "metadata": {},
     "output_type": "execute_result"
    }
   ],
   "source": [
    "df_influencers['followers'].unique"
   ]
  },
  {
   "cell_type": "code",
   "execution_count": 130,
   "metadata": {},
   "outputs": [
    {
     "name": "stdout",
     "output_type": "stream",
     "text": [
      "   age   followers\n",
      "0   28  12800000.0\n",
      "1   28   2900000.0\n",
      "2   20  29000000.0\n",
      "3   38   3590000.0\n",
      "4   18  11400000.0\n"
     ]
    }
   ],
   "source": [
    "print(df_influencers[['age', 'followers']].head())\n"
   ]
  },
  {
   "cell_type": "code",
   "execution_count": 128,
   "metadata": {},
   "outputs": [
    {
     "data": {
      "image/png": "[encoded data removed]",
      "text/plain": [
       "<Figure size 800x600 with 1 Axes>"
      ]
     },
     "metadata": {},
     "output_type": "display_data"
    }
   ],
   "source": [
    "# Scatterplot age vs. follower\n",
    "plt.figure(figsize=(8, 6))\n",
    "plt.scatter(df_influencers['age'], df_influencers['followers'], color='coral')\n",
    "plt.title('Age vs. Followers')\n",
    "plt.xlabel('Age')\n",
    "plt.ylabel('Followers')\n",
    "plt.show()"
   ]
  },
  {
   "cell_type": "code",
   "execution_count": 140,
   "metadata": {},
   "outputs": [
    {
     "data": {
      "image/png": "[encoded data removed]",
      "text/plain": [
       "<Figure size 800x600 with 1 Axes>"
      ]
     },
     "metadata": {},
     "output_type": "display_data"
    }
   ],
   "source": [
    "import matplotlib.ticker as ticker\n",
    "\n",
    "plt.figure(figsize=(8, 6))\n",
    "plt.scatter(df_influencers['age'], df_influencers['followers'], color='coral')\n",
    "plt.title('Age vs. Followers')\n",
    "plt.xlabel('Age')\n",
    "plt.ylabel('Followers')\n",
    "\n",
    "#  Formato de  ejes\n",
    "ax = plt.gca()  \n",
    "ax.yaxis.set_major_formatter(ticker.StrMethodFormatter('{x:,.0f}'))  # formato sin notación científica\n",
    "plt.show()\n"
   ]
  },
  {
   "cell_type": "code",
   "execution_count": 102,
   "metadata": {},
   "outputs": [
    {
     "name": "stdout",
     "output_type": "stream",
     "text": [
      "Correlación entre edad y número de seguidores: 0.09\n"
     ]
    }
   ],
   "source": [
    "import pandas as pd\n",
    "import matplotlib.pyplot as plt\n",
    "import seaborn as sns\n",
    "from scipy.stats import pearsonr\n",
    "\n",
    "# correlación\n",
    "correlation, _ = pearsonr(df_influencers['age'], df_influencers['followers'])\n",
    "print(f'Correlación entre edad y número de seguidores: {correlation:.2f}')\n"
   ]
  },
  {
   "cell_type": "markdown",
   "metadata": {},
   "source": [
    "## Influencers content dataset"
   ]
  },
  {
   "cell_type": "code",
   "execution_count": 103,
   "metadata": {},
   "outputs": [
    {
     "data": {
      "text/html": [
       "<div>\n",
       "<style scoped>\n",
       "    .dataframe tbody tr th:only-of-type {\n",
       "        vertical-align: middle;\n",
       "    }\n",
       "\n",
       "    .dataframe tbody tr th {\n",
       "        vertical-align: top;\n",
       "    }\n",
       "\n",
       "    .dataframe thead th {\n",
       "        text-align: right;\n",
       "    }\n",
       "</style>\n",
       "<table border=\"1\" class=\"dataframe\">\n",
       "  <thead>\n",
       "    <tr style=\"text-align: right;\">\n",
       "      <th></th>\n",
       "      <th>Influencer's Name</th>\n",
       "      <th>Week</th>\n",
       "      <th>Codification</th>\n",
       "      <th>Main phrase or publication</th>\n",
       "      <th>Time Stamp</th>\n",
       "      <th>Social Media Platform</th>\n",
       "      <th>Link</th>\n",
       "      <th>General description of the content (in Spanish)</th>\n",
       "      <th># Publication in this week</th>\n",
       "      <th>Views/Likes</th>\n",
       "    </tr>\n",
       "  </thead>\n",
       "  <tbody>\n",
       "    <tr>\n",
       "      <th>0</th>\n",
       "      <td>Andrea Compton</td>\n",
       "      <td>19 Septiembre - 25 Septiembre</td>\n",
       "      <td>98</td>\n",
       "      <td>Sin contenido</td>\n",
       "      <td>NaN</td>\n",
       "      <td>Youtube</td>\n",
       "      <td>NaN</td>\n",
       "      <td>NaN</td>\n",
       "      <td>NaN</td>\n",
       "      <td>NaN</td>\n",
       "    </tr>\n",
       "    <tr>\n",
       "      <th>1</th>\n",
       "      <td>Andrea Compton</td>\n",
       "      <td>26 Septiembre - 2 Octubre</td>\n",
       "      <td>34</td>\n",
       "      <td>LAS MEJORES ESCENAS DE JUEGO DE TRONOS | Andre...</td>\n",
       "      <td>NaN</td>\n",
       "      <td>Youtube</td>\n",
       "      <td>https://www.youtube.com/watch?v=sO7idHTgtPE&amp;ab...</td>\n",
       "      <td>Video de Andrea Compton comentando las escenas...</td>\n",
       "      <td>1.0</td>\n",
       "      <td>7500</td>\n",
       "    </tr>\n",
       "    <tr>\n",
       "      <th>2</th>\n",
       "      <td>Andrea Compton</td>\n",
       "      <td>3 Octubre - 9 Octubre</td>\n",
       "      <td>35</td>\n",
       "      <td>HABLEMOS DE LANA DEL REY | Andrea Compton</td>\n",
       "      <td>NaN</td>\n",
       "      <td>Youtube</td>\n",
       "      <td>https://www.youtube.com/watch?v=n-Ytp6PARis&amp;ab...</td>\n",
       "      <td>Video de Andrea Compton hablando de la vida de...</td>\n",
       "      <td>1.0</td>\n",
       "      <td>15000</td>\n",
       "    </tr>\n",
       "    <tr>\n",
       "      <th>3</th>\n",
       "      <td>Andrea Compton</td>\n",
       "      <td>10 Octubre - 17 Octubre</td>\n",
       "      <td>98</td>\n",
       "      <td>Sin contenido</td>\n",
       "      <td>NaN</td>\n",
       "      <td>Youtube</td>\n",
       "      <td>NaN</td>\n",
       "      <td>NaN</td>\n",
       "      <td>NaN</td>\n",
       "      <td>NaN</td>\n",
       "    </tr>\n",
       "    <tr>\n",
       "      <th>4</th>\n",
       "      <td>Andrea Compton</td>\n",
       "      <td>17 Octubre - 23 Octubre</td>\n",
       "      <td>34</td>\n",
       "      <td>REPASANDO THE WALKING DEAD (LAS 11 TEMPORADAS)...</td>\n",
       "      <td>NaN</td>\n",
       "      <td>Youtube</td>\n",
       "      <td>https://www.youtube.com/watch?v=H7HJtE1L_zE&amp;ab...</td>\n",
       "      <td>Video de Andrea Compton comentando 'The walkin...</td>\n",
       "      <td>1.0</td>\n",
       "      <td>10000</td>\n",
       "    </tr>\n",
       "  </tbody>\n",
       "</table>\n",
       "</div>"
      ],
      "text/plain": [
       "  Influencer's Name                           Week Codification  \\\n",
       "0    Andrea Compton  19 Septiembre - 25 Septiembre           98   \n",
       "1    Andrea Compton      26 Septiembre - 2 Octubre           34   \n",
       "2    Andrea Compton          3 Octubre - 9 Octubre           35   \n",
       "3    Andrea Compton        10 Octubre - 17 Octubre           98   \n",
       "4    Andrea Compton        17 Octubre - 23 Octubre           34   \n",
       "\n",
       "                          Main phrase or publication Time Stamp  \\\n",
       "0                                      Sin contenido        NaN   \n",
       "1  LAS MEJORES ESCENAS DE JUEGO DE TRONOS | Andre...        NaN   \n",
       "2          HABLEMOS DE LANA DEL REY | Andrea Compton        NaN   \n",
       "3                                      Sin contenido        NaN   \n",
       "4  REPASANDO THE WALKING DEAD (LAS 11 TEMPORADAS)...        NaN   \n",
       "\n",
       "  Social Media Platform                                               Link  \\\n",
       "0               Youtube                                                NaN   \n",
       "1               Youtube  https://www.youtube.com/watch?v=sO7idHTgtPE&ab...   \n",
       "2               Youtube  https://www.youtube.com/watch?v=n-Ytp6PARis&ab...   \n",
       "3               Youtube                                                NaN   \n",
       "4               Youtube  https://www.youtube.com/watch?v=H7HJtE1L_zE&ab...   \n",
       "\n",
       "     General description of the content (in Spanish)  \\\n",
       "0                                                NaN   \n",
       "1  Video de Andrea Compton comentando las escenas...   \n",
       "2  Video de Andrea Compton hablando de la vida de...   \n",
       "3                                                NaN   \n",
       "4  Video de Andrea Compton comentando 'The walkin...   \n",
       "\n",
       "   # Publication in this week Views/Likes  \n",
       "0                         NaN         NaN  \n",
       "1                         1.0        7500  \n",
       "2                         1.0       15000  \n",
       "3                         NaN         NaN  \n",
       "4                         1.0       10000  "
      ]
     },
     "execution_count": 103,
     "metadata": {},
     "output_type": "execute_result"
    }
   ],
   "source": [
    "path_file_content = r\"C:\\Users\\Celeste\\Google Drive Streaming\\My Drive\\_CODEOP\\_Individual project\\influencers_data\\Influencers Content Analysis (September 22nd - December 22nd).xlsx\"\n",
    "\n",
    "df = pd.read_excel(path_file_content)\n",
    "\n",
    "df.head()"
   ]
  },
  {
   "cell_type": "code",
   "execution_count": 104,
   "metadata": {},
   "outputs": [
    {
     "data": {
      "text/plain": [
       "(364, 10)"
      ]
     },
     "execution_count": 104,
     "metadata": {},
     "output_type": "execute_result"
    }
   ],
   "source": [
    "df.shape"
   ]
  },
  {
   "cell_type": "code",
   "execution_count": 105,
   "metadata": {},
   "outputs": [
    {
     "data": {
      "text/plain": [
       "'Video de Carolina Iglesias entrevistando a Maxi Iglesias hablando de la amistad como tema central'"
      ]
     },
     "execution_count": 105,
     "metadata": {},
     "output_type": "execute_result"
    }
   ],
   "source": [
    "df['General description of the content (in Spanish)'][37]"
   ]
  },
  {
   "cell_type": "markdown",
   "metadata": {},
   "source": [
    "## Feminism and Anti-feminism Codebook"
   ]
  },
  {
   "cell_type": "code",
   "execution_count": 106,
   "metadata": {},
   "outputs": [
    {
     "data": {
      "text/html": [
       "<div>\n",
       "<style scoped>\n",
       "    .dataframe tbody tr th:only-of-type {\n",
       "        vertical-align: middle;\n",
       "    }\n",
       "\n",
       "    .dataframe tbody tr th {\n",
       "        vertical-align: top;\n",
       "    }\n",
       "\n",
       "    .dataframe thead th {\n",
       "        text-align: right;\n",
       "    }\n",
       "</style>\n",
       "<table border=\"1\" class=\"dataframe\">\n",
       "  <thead>\n",
       "    <tr style=\"text-align: right;\">\n",
       "      <th></th>\n",
       "      <th>ID</th>\n",
       "      <th>Code</th>\n",
       "      <th>Definition</th>\n",
       "      <th>Survey question / comments</th>\n",
       "      <th>Category</th>\n",
       "      <th>Sub-category</th>\n",
       "      <th>Feminism Stance</th>\n",
       "    </tr>\n",
       "  </thead>\n",
       "  <tbody>\n",
       "    <tr>\n",
       "      <th>0</th>\n",
       "      <td>1</td>\n",
       "      <td>Equating feminism and machismo</td>\n",
       "      <td>They do not deny discrimination against women,...</td>\n",
       "      <td>\"Tan peligroso es el machismo como el feminism...</td>\n",
       "      <td>Antifeminism</td>\n",
       "      <td>Explicit</td>\n",
       "      <td>Strongly opposing feminism</td>\n",
       "    </tr>\n",
       "    <tr>\n",
       "      <th>1</th>\n",
       "      <td>2</td>\n",
       "      <td>Denying the necessity of feminism</td>\n",
       "      <td>Emphasizing equality as the real goal and impl...</td>\n",
       "      <td>\"Lo importante no es el feminismo ni el machis...</td>\n",
       "      <td>Antifeminism</td>\n",
       "      <td>Explicit</td>\n",
       "      <td>Moderatedly opposing feminism</td>\n",
       "    </tr>\n",
       "    <tr>\n",
       "      <th>2</th>\n",
       "      <td>3</td>\n",
       "      <td>Minimizing gender inequality at the workplace</td>\n",
       "      <td>Skepticism about gender inequality in the work...</td>\n",
       "      <td>\"Las mujeres exageran los problemas que tienen...</td>\n",
       "      <td>Antifeminism</td>\n",
       "      <td>Latent</td>\n",
       "      <td>Opposing feminist issues</td>\n",
       "    </tr>\n",
       "    <tr>\n",
       "      <th>3</th>\n",
       "      <td>4</td>\n",
       "      <td>Supporting paternalistic behaviours</td>\n",
       "      <td>Defending the persistence of paternalistic beh...</td>\n",
       "      <td>\"Los hombres deberían proteger a las mujeres \"</td>\n",
       "      <td>Antifeminism</td>\n",
       "      <td>Latent</td>\n",
       "      <td>Opposing feminist issues</td>\n",
       "    </tr>\n",
       "    <tr>\n",
       "      <th>4</th>\n",
       "      <td>5</td>\n",
       "      <td>Minimizing Sexual Harassment</td>\n",
       "      <td>Accusing women of overreacting to flirting or ...</td>\n",
       "      <td>\"Actualmente las mujeres malinterpretan cualqu...</td>\n",
       "      <td>Antifeminism</td>\n",
       "      <td>Latent</td>\n",
       "      <td>Opposing feminist issues</td>\n",
       "    </tr>\n",
       "  </tbody>\n",
       "</table>\n",
       "</div>"
      ],
      "text/plain": [
       "   ID                                           Code  \\\n",
       "0   1                 Equating feminism and machismo   \n",
       "1   2              Denying the necessity of feminism   \n",
       "2   3  Minimizing gender inequality at the workplace   \n",
       "3   4            Supporting paternalistic behaviours   \n",
       "4   5                  Minimizing Sexual Harassment    \n",
       "\n",
       "                                          Definition  \\\n",
       "0  They do not deny discrimination against women,...   \n",
       "1  Emphasizing equality as the real goal and impl...   \n",
       "2  Skepticism about gender inequality in the work...   \n",
       "3  Defending the persistence of paternalistic beh...   \n",
       "4  Accusing women of overreacting to flirting or ...   \n",
       "\n",
       "                          Survey question / comments      Category  \\\n",
       "0  \"Tan peligroso es el machismo como el feminism...  Antifeminism   \n",
       "1  \"Lo importante no es el feminismo ni el machis...  Antifeminism   \n",
       "2  \"Las mujeres exageran los problemas que tienen...  Antifeminism   \n",
       "3     \"Los hombres deberían proteger a las mujeres \"  Antifeminism   \n",
       "4  \"Actualmente las mujeres malinterpretan cualqu...  Antifeminism   \n",
       "\n",
       "  Sub-category                Feminism Stance  \n",
       "0     Explicit     Strongly opposing feminism  \n",
       "1     Explicit  Moderatedly opposing feminism  \n",
       "2       Latent       Opposing feminist issues  \n",
       "3       Latent       Opposing feminist issues  \n",
       "4       Latent       Opposing feminist issues  "
      ]
     },
     "execution_count": 106,
     "metadata": {},
     "output_type": "execute_result"
    }
   ],
   "source": [
    "path_file_codebook = r\"C:\\Users\\Celeste\\Google Drive Streaming\\My Drive\\_CODEOP\\_Individual project\\influencers_data\\Codebook - Feminism and Anti-feminism.xlsx\"\n",
    "\n",
    "df_codebook = pd.read_excel(path_file_codebook)\n",
    "\n",
    "df_codebook.head()"
   ]
  },
  {
   "cell_type": "code",
   "execution_count": 107,
   "metadata": {},
   "outputs": [
    {
     "data": {
      "text/plain": [
       "Category\n",
       "Non-related content    19\n",
       "Antifeminism           18\n",
       "Feminism                9\n",
       "Neutral                 1\n",
       "No content              1\n",
       "Name: count, dtype: int64"
      ]
     },
     "execution_count": 107,
     "metadata": {},
     "output_type": "execute_result"
    }
   ],
   "source": [
    "df_codebook['Category'].value_counts() #noy balanced"
   ]
  },
  {
   "cell_type": "code",
   "execution_count": 108,
   "metadata": {},
   "outputs": [
    {
     "data": {
      "text/plain": [
       "48"
      ]
     },
     "execution_count": 108,
     "metadata": {},
     "output_type": "execute_result"
    }
   ],
   "source": [
    "df_codebook['Category'].value_counts().sum()"
   ]
  },
  {
   "cell_type": "code",
   "execution_count": null,
   "metadata": {},
   "outputs": [],
   "source": []
  }
 ],
 "metadata": {
  "kernelspec": {
   "display_name": "data-science",
   "language": "python",
   "name": "python3"
  },
  "language_info": {
   "codemirror_mode": {
    "name": "ipython",
    "version": 3
   },
   "file_extension": ".py",
   "mimetype": "text/x-python",
   "name": "python",
   "nbconvert_exporter": "python",
   "pygments_lexer": "ipython3",
   "version": "3.12.5"
  }
 },
 "nbformat": 4,
 "nbformat_minor": 2
}
