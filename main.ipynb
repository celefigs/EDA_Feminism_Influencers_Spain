{
 "cells": [
  {
   "cell_type": "markdown",
   "metadata": {},
   "source": [
    "# Has social media influenced Spanish society's opinion on feminism or antifeminism?"
   ]
  },
  {
   "cell_type": "raw",
   "metadata": {},
   "source": [
    "## Table of Contents\n",
    "\n",
    "- [Influencers initial dataset](#influencers-initial-dataset)\n",
    "  - [Visual Insights](#visual-insights)\n",
    "- [Feminism and Antifeminism Codebook](#feminism-and-Antifeminism-codebook)"
   ]
  },
  {
   "cell_type": "code",
   "execution_count": 28,
   "metadata": {},
   "outputs": [],
   "source": [
    "# # TO INSTALL\n",
    "# !pip install -U pip setuptools wheel\n",
    "# !pip install -U spacy\n",
    "# !pip install pandas openpyxl"
   ]
  },
  {
   "cell_type": "code",
   "execution_count": 8,
   "metadata": {},
   "outputs": [],
   "source": [
    "import pandas as pd\n",
    "import re"
   ]
  },
  {
   "cell_type": "markdown",
   "metadata": {},
   "source": [
    "## Influencers initial dataset"
   ]
  },
  {
   "cell_type": "code",
   "execution_count": 9,
   "metadata": {},
   "outputs": [
    {
     "data": {
      "text/html": [
       "<div>\n",
       "<style scoped>\n",
       "    .dataframe tbody tr th:only-of-type {\n",
       "        vertical-align: middle;\n",
       "    }\n",
       "\n",
       "    .dataframe tbody tr th {\n",
       "        vertical-align: top;\n",
       "    }\n",
       "\n",
       "    .dataframe thead th {\n",
       "        text-align: right;\n",
       "    }\n",
       "</style>\n",
       "<table border=\"1\" class=\"dataframe\">\n",
       "  <thead>\n",
       "    <tr style=\"text-align: right;\">\n",
       "      <th></th>\n",
       "      <th>id</th>\n",
       "      <th>influencer's name</th>\n",
       "      <th>real name</th>\n",
       "      <th>age</th>\n",
       "      <th>ref. edad</th>\n",
       "      <th>education</th>\n",
       "      <th>ref. educacion</th>\n",
       "      <th>previous_occupation</th>\n",
       "      <th>ref. ocupacion</th>\n",
       "      <th>main platform</th>\n",
       "      <th>secondary platform</th>\n",
       "      <th># follower</th>\n",
       "      <th>link_plataforma</th>\n",
       "    </tr>\n",
       "  </thead>\n",
       "  <tbody>\n",
       "    <tr>\n",
       "      <th>0</th>\n",
       "      <td>1</td>\n",
       "      <td>Ibai Llanos</td>\n",
       "      <td>Ibai Llanos Garatea</td>\n",
       "      <td>28</td>\n",
       "      <td>Ibai Llanos - Wikiwand</td>\n",
       "      <td>4</td>\n",
       "      <td>https://www.wikiwand.com/es/Ibai_Llanos</td>\n",
       "      <td>Narrador esports</td>\n",
       "      <td>▷ Ibai Llanos Wiki ≫ Biografía de este Influen...</td>\n",
       "      <td>Twitch</td>\n",
       "      <td>Youtube</td>\n",
       "      <td>12,8M</td>\n",
       "      <td>ibai - Twitch</td>\n",
       "    </tr>\n",
       "    <tr>\n",
       "      <th>1</th>\n",
       "      <td>2</td>\n",
       "      <td>Maria Pombo</td>\n",
       "      <td>María Pombo</td>\n",
       "      <td>28</td>\n",
       "      <td>https://www.modelocurriculum.net/biografias/in...</td>\n",
       "      <td>4</td>\n",
       "      <td>https://www.modelocurriculum.net/biografias/in...</td>\n",
       "      <td>NaN</td>\n",
       "      <td>NaN</td>\n",
       "      <td>Instagram</td>\n",
       "      <td>NaN</td>\n",
       "      <td>2,9M</td>\n",
       "      <td>https://www.instagram.com/mariapombo/</td>\n",
       "    </tr>\n",
       "    <tr>\n",
       "      <th>2</th>\n",
       "      <td>3</td>\n",
       "      <td>Naim Darrechi</td>\n",
       "      <td>Naim Darrechi</td>\n",
       "      <td>20</td>\n",
       "      <td>https://historia-biografia.com/naim-darrechi/</td>\n",
       "      <td>NaN</td>\n",
       "      <td>NaN</td>\n",
       "      <td>-</td>\n",
       "      <td>-</td>\n",
       "      <td>TikTok</td>\n",
       "      <td>Instagram</td>\n",
       "      <td>29M</td>\n",
       "      <td>https://www.tiktok.com/@naimdarrechi?lang=es</td>\n",
       "    </tr>\n",
       "    <tr>\n",
       "      <th>3</th>\n",
       "      <td>4</td>\n",
       "      <td>Jordi Wild</td>\n",
       "      <td>Jordi Carrillo de Albornoz Torres</td>\n",
       "      <td>38</td>\n",
       "      <td>▷ Jordi Wild Wiki ≫ Biografía de este Influenc...</td>\n",
       "      <td>6</td>\n",
       "      <td>▷ Jordi Wild Wiki ≫ Biografía de este Influenc...</td>\n",
       "      <td>-</td>\n",
       "      <td>NaN</td>\n",
       "      <td>YouTube</td>\n",
       "      <td>Twitter</td>\n",
       "      <td>3,59M</td>\n",
       "      <td>The Wild Project - YouTube</td>\n",
       "    </tr>\n",
       "    <tr>\n",
       "      <th>4</th>\n",
       "      <td>5</td>\n",
       "      <td>Iker Unzu</td>\n",
       "      <td>Iker Unzueta Ramos</td>\n",
       "      <td>18</td>\n",
       "      <td>Iker Unzu - Edad, Familia, Biografía | Famous ...</td>\n",
       "      <td>3</td>\n",
       "      <td>Iker Unzu | Wiki YouTube Pedia | Fandom</td>\n",
       "      <td>-</td>\n",
       "      <td>-</td>\n",
       "      <td>TikTok</td>\n",
       "      <td>YouTube</td>\n",
       "      <td>11,4M</td>\n",
       "      <td>Iker Unzu (@ikerunzu) oficial | TikTok</td>\n",
       "    </tr>\n",
       "  </tbody>\n",
       "</table>\n",
       "</div>"
      ],
      "text/plain": [
       "   id influencer's name                          real name  age  \\\n",
       "0   1       Ibai Llanos                Ibai Llanos Garatea   28   \n",
       "1   2       Maria Pombo                        María Pombo   28   \n",
       "2   3     Naim Darrechi                      Naim Darrechi   20   \n",
       "3   4        Jordi Wild  Jordi Carrillo de Albornoz Torres   38   \n",
       "4   5         Iker Unzu                 Iker Unzueta Ramos   18   \n",
       "\n",
       "                                           ref. edad education  \\\n",
       "0                             Ibai Llanos - Wikiwand         4   \n",
       "1  https://www.modelocurriculum.net/biografias/in...         4   \n",
       "2      https://historia-biografia.com/naim-darrechi/       NaN   \n",
       "3  ▷ Jordi Wild Wiki ≫ Biografía de este Influenc...         6   \n",
       "4  Iker Unzu - Edad, Familia, Biografía | Famous ...         3   \n",
       "\n",
       "                                      ref. educacion previous_occupation  \\\n",
       "0            https://www.wikiwand.com/es/Ibai_Llanos    Narrador esports   \n",
       "1  https://www.modelocurriculum.net/biografias/in...                 NaN   \n",
       "2                                                NaN                   -   \n",
       "3  ▷ Jordi Wild Wiki ≫ Biografía de este Influenc...                   -   \n",
       "4            Iker Unzu | Wiki YouTube Pedia | Fandom                   -   \n",
       "\n",
       "                                      ref. ocupacion main platform  \\\n",
       "0  ▷ Ibai Llanos Wiki ≫ Biografía de este Influen...        Twitch   \n",
       "1                                                NaN     Instagram   \n",
       "2                                                  -        TikTok   \n",
       "3                                                NaN       YouTube   \n",
       "4                                                  -        TikTok   \n",
       "\n",
       "  secondary platform # follower                               link_plataforma  \n",
       "0            Youtube      12,8M                                 ibai - Twitch  \n",
       "1                NaN       2,9M         https://www.instagram.com/mariapombo/  \n",
       "2          Instagram        29M  https://www.tiktok.com/@naimdarrechi?lang=es  \n",
       "3            Twitter      3,59M                    The Wild Project - YouTube  \n",
       "4            YouTube      11,4M        Iker Unzu (@ikerunzu) oficial | TikTok  "
      ]
     },
     "execution_count": 9,
     "metadata": {},
     "output_type": "execute_result"
    }
   ],
   "source": [
    "path_file_influencers = r\"C:\\Users\\Celeste\\Google Drive Streaming\\My Drive\\_CODEOP\\Feminism_Influencers_Spain\\data\\Influencers Initial Dataset.xlsx\"\n",
    "\n",
    "df_influencers = pd.read_excel(path_file_influencers)\n",
    "\n",
    "df_influencers.head()"
   ]
  },
  {
   "cell_type": "code",
   "execution_count": 10,
   "metadata": {},
   "outputs": [
    {
     "name": "stdout",
     "output_type": "stream",
     "text": [
      "<class 'pandas.core.frame.DataFrame'>\n",
      "RangeIndex: 26 entries, 0 to 25\n",
      "Data columns (total 13 columns):\n",
      " #   Column               Non-Null Count  Dtype \n",
      "---  ------               --------------  ----- \n",
      " 0   id                   26 non-null     int64 \n",
      " 1   influencer's name    26 non-null     object\n",
      " 2   real name            26 non-null     object\n",
      " 3   age                  26 non-null     int64 \n",
      " 4   ref. edad            25 non-null     object\n",
      " 5   education            23 non-null     object\n",
      " 6   ref. educacion       23 non-null     object\n",
      " 7   previous_occupation  25 non-null     object\n",
      " 8   ref. ocupacion       24 non-null     object\n",
      " 9   main platform        26 non-null     object\n",
      " 10  secondary platform   24 non-null     object\n",
      " 11  # follower           26 non-null     object\n",
      " 12  link_plataforma      25 non-null     object\n",
      "dtypes: int64(2), object(11)\n",
      "memory usage: 2.8+ KB\n"
     ]
    }
   ],
   "source": [
    "df_influencers.info()"
   ]
  },
  {
   "cell_type": "code",
   "execution_count": 11,
   "metadata": {},
   "outputs": [
    {
     "data": {
      "text/plain": [
       "(26, 13)"
      ]
     },
     "execution_count": 11,
     "metadata": {},
     "output_type": "execute_result"
    }
   ],
   "source": [
    "df_influencers.shape"
   ]
  },
  {
   "cell_type": "code",
   "execution_count": 12,
   "metadata": {},
   "outputs": [
    {
     "data": {
      "text/plain": [
       "id                     0\n",
       "influencer's name      0\n",
       "real name              0\n",
       "age                    0\n",
       "ref. edad              1\n",
       "education              3\n",
       "ref. educacion         3\n",
       "previous_occupation    1\n",
       "ref. ocupacion         2\n",
       "main platform          0\n",
       "secondary platform     2\n",
       "# follower             0\n",
       "link_plataforma        1\n",
       "dtype: int64"
      ]
     },
     "execution_count": 12,
     "metadata": {},
     "output_type": "execute_result"
    }
   ],
   "source": [
    "df_influencers.isna().sum() "
   ]
  },
  {
   "cell_type": "code",
   "execution_count": 13,
   "metadata": {},
   "outputs": [],
   "source": [
    "#remove columns \n",
    "\n",
    "df_influencers = df_influencers.drop(['id','real name', 'ref. edad', 'education','ref. educacion', 'previous_occupation', 'ref. ocupacion','link_plataforma'], axis = 1) "
   ]
  },
  {
   "cell_type": "code",
   "execution_count": 14,
   "metadata": {},
   "outputs": [],
   "source": [
    "df_influencers.rename(columns={'# follower': 'followers'}, inplace=True) "
   ]
  },
  {
   "cell_type": "code",
   "execution_count": 15,
   "metadata": {},
   "outputs": [
    {
     "data": {
      "text/plain": [
       "0    12,8M\n",
       "1     2,9M\n",
       "2      29M\n",
       "3    3,59M\n",
       "4    11,4M\n",
       "Name: followers, dtype: object"
      ]
     },
     "execution_count": 15,
     "metadata": {},
     "output_type": "execute_result"
    }
   ],
   "source": [
    "df_influencers['followers'].head() #I am going to do a simple process in which I transform objects to numbers using \"apply\" and \"lamda\" functions"
   ]
  },
  {
   "cell_type": "code",
   "execution_count": 16,
   "metadata": {},
   "outputs": [],
   "source": [
    "df_influencers['followers'] = df_influencers['followers'].apply(lambda x: float(x.replace('M', '').replace('K', '').replace(',', '.')) * 1e6)\n",
    "\n",
    "# df['followers'].str.replace(\"M\",\"\")\n",
    "# df['followers'].str.replace(\"K\",\"\")\n",
    "# pd.to_numeric(df['followers']) cuando de error, mirarlo y to_numeric dice qué caracter"
   ]
  },
  {
   "cell_type": "code",
   "execution_count": 24,
   "metadata": {},
   "outputs": [
    {
     "data": {
      "text/plain": [
       "0    12800000.0\n",
       "1     2900000.0\n",
       "2    29000000.0\n",
       "3     3590000.0\n",
       "4    11400000.0\n",
       "Name: followers, dtype: float64"
      ]
     },
     "execution_count": 24,
     "metadata": {},
     "output_type": "execute_result"
    }
   ],
   "source": [
    "df_influencers['followers'].head()  #this is just the \"sanity checking\""
   ]
  },
  {
   "cell_type": "code",
   "execution_count": 18,
   "metadata": {},
   "outputs": [
    {
     "data": {
      "text/html": [
       "<div>\n",
       "<style scoped>\n",
       "    .dataframe tbody tr th:only-of-type {\n",
       "        vertical-align: middle;\n",
       "    }\n",
       "\n",
       "    .dataframe tbody tr th {\n",
       "        vertical-align: top;\n",
       "    }\n",
       "\n",
       "    .dataframe thead th {\n",
       "        text-align: right;\n",
       "    }\n",
       "</style>\n",
       "<table border=\"1\" class=\"dataframe\">\n",
       "  <thead>\n",
       "    <tr style=\"text-align: right;\">\n",
       "      <th></th>\n",
       "      <th>influencer's name</th>\n",
       "      <th>age</th>\n",
       "      <th>main platform</th>\n",
       "      <th>secondary platform</th>\n",
       "      <th>followers</th>\n",
       "    </tr>\n",
       "  </thead>\n",
       "  <tbody>\n",
       "    <tr>\n",
       "      <th>0</th>\n",
       "      <td>Ibai Llanos</td>\n",
       "      <td>28</td>\n",
       "      <td>Twitch</td>\n",
       "      <td>Youtube</td>\n",
       "      <td>12800000.0</td>\n",
       "    </tr>\n",
       "    <tr>\n",
       "      <th>1</th>\n",
       "      <td>Maria Pombo</td>\n",
       "      <td>28</td>\n",
       "      <td>Instagram</td>\n",
       "      <td>NaN</td>\n",
       "      <td>2900000.0</td>\n",
       "    </tr>\n",
       "    <tr>\n",
       "      <th>2</th>\n",
       "      <td>Naim Darrechi</td>\n",
       "      <td>20</td>\n",
       "      <td>TikTok</td>\n",
       "      <td>Instagram</td>\n",
       "      <td>29000000.0</td>\n",
       "    </tr>\n",
       "    <tr>\n",
       "      <th>3</th>\n",
       "      <td>Jordi Wild</td>\n",
       "      <td>38</td>\n",
       "      <td>YouTube</td>\n",
       "      <td>Twitter</td>\n",
       "      <td>3590000.0</td>\n",
       "    </tr>\n",
       "    <tr>\n",
       "      <th>4</th>\n",
       "      <td>Iker Unzu</td>\n",
       "      <td>18</td>\n",
       "      <td>TikTok</td>\n",
       "      <td>YouTube</td>\n",
       "      <td>11400000.0</td>\n",
       "    </tr>\n",
       "    <tr>\n",
       "      <th>5</th>\n",
       "      <td>ElRubius</td>\n",
       "      <td>33</td>\n",
       "      <td>YouTube</td>\n",
       "      <td>Twitch</td>\n",
       "      <td>40400000.0</td>\n",
       "    </tr>\n",
       "    <tr>\n",
       "      <th>6</th>\n",
       "      <td>Samantha Hudosn</td>\n",
       "      <td>23</td>\n",
       "      <td>Instagram</td>\n",
       "      <td>Twitter</td>\n",
       "      <td>308000000.0</td>\n",
       "    </tr>\n",
       "    <tr>\n",
       "      <th>7</th>\n",
       "      <td>Roma Gallardo</td>\n",
       "      <td>34</td>\n",
       "      <td>YouTube</td>\n",
       "      <td>Twitter</td>\n",
       "      <td>1750000.0</td>\n",
       "    </tr>\n",
       "    <tr>\n",
       "      <th>8</th>\n",
       "      <td>DalasReview</td>\n",
       "      <td>26</td>\n",
       "      <td>YouTube</td>\n",
       "      <td>Twitter</td>\n",
       "      <td>10500000.0</td>\n",
       "    </tr>\n",
       "    <tr>\n",
       "      <th>9</th>\n",
       "      <td>Sindy Takanashi</td>\n",
       "      <td>30</td>\n",
       "      <td>Instagram</td>\n",
       "      <td>NaN</td>\n",
       "      <td>264000000.0</td>\n",
       "    </tr>\n",
       "    <tr>\n",
       "      <th>10</th>\n",
       "      <td>Dulceida</td>\n",
       "      <td>33</td>\n",
       "      <td>Instagram</td>\n",
       "      <td>YouTube</td>\n",
       "      <td>3200000.0</td>\n",
       "    </tr>\n",
       "    <tr>\n",
       "      <th>11</th>\n",
       "      <td>IlloJuan</td>\n",
       "      <td>28</td>\n",
       "      <td>YouTube</td>\n",
       "      <td>Twitch</td>\n",
       "      <td>1530000.0</td>\n",
       "    </tr>\n",
       "    <tr>\n",
       "      <th>12</th>\n",
       "      <td>Laura Escanes</td>\n",
       "      <td>26</td>\n",
       "      <td>Instagram</td>\n",
       "      <td>TikTok</td>\n",
       "      <td>1900000.0</td>\n",
       "    </tr>\n",
       "    <tr>\n",
       "      <th>13</th>\n",
       "      <td>Violeta Mangriñan</td>\n",
       "      <td>29</td>\n",
       "      <td>Instagram</td>\n",
       "      <td>TikTok</td>\n",
       "      <td>2200000.0</td>\n",
       "    </tr>\n",
       "    <tr>\n",
       "      <th>14</th>\n",
       "      <td>Ines Hernand</td>\n",
       "      <td>30</td>\n",
       "      <td>Instagram</td>\n",
       "      <td>YouTube</td>\n",
       "      <td>468000000.0</td>\n",
       "    </tr>\n",
       "    <tr>\n",
       "      <th>15</th>\n",
       "      <td>Angel Martín</td>\n",
       "      <td>45</td>\n",
       "      <td>YouTube</td>\n",
       "      <td>Twitter</td>\n",
       "      <td>207000000.0</td>\n",
       "    </tr>\n",
       "    <tr>\n",
       "      <th>16</th>\n",
       "      <td>Verdeliss</td>\n",
       "      <td>37</td>\n",
       "      <td>Instagram</td>\n",
       "      <td>YouTube</td>\n",
       "      <td>1500000.0</td>\n",
       "    </tr>\n",
       "    <tr>\n",
       "      <th>17</th>\n",
       "      <td>Vecinarubia</td>\n",
       "      <td>37</td>\n",
       "      <td>Instagram</td>\n",
       "      <td>Twitter</td>\n",
       "      <td>2800000.0</td>\n",
       "    </tr>\n",
       "    <tr>\n",
       "      <th>18</th>\n",
       "      <td>Ratolina</td>\n",
       "      <td>33</td>\n",
       "      <td>YouTube</td>\n",
       "      <td>Instagram</td>\n",
       "      <td>1360000.0</td>\n",
       "    </tr>\n",
       "    <tr>\n",
       "      <th>19</th>\n",
       "      <td>Grefg</td>\n",
       "      <td>25</td>\n",
       "      <td>YouTube</td>\n",
       "      <td>Twitch</td>\n",
       "      <td>17900000.0</td>\n",
       "    </tr>\n",
       "    <tr>\n",
       "      <th>20</th>\n",
       "      <td>Victoria Martín</td>\n",
       "      <td>33</td>\n",
       "      <td>Instagram</td>\n",
       "      <td>YouTube</td>\n",
       "      <td>323000000.0</td>\n",
       "    </tr>\n",
       "    <tr>\n",
       "      <th>21</th>\n",
       "      <td>Andrea Compton</td>\n",
       "      <td>31</td>\n",
       "      <td>YouTube</td>\n",
       "      <td>Instagram</td>\n",
       "      <td>699000000.0</td>\n",
       "    </tr>\n",
       "    <tr>\n",
       "      <th>22</th>\n",
       "      <td>Carolina Iglesias</td>\n",
       "      <td>29</td>\n",
       "      <td>YouTube</td>\n",
       "      <td>Twitter</td>\n",
       "      <td>166000000.0</td>\n",
       "    </tr>\n",
       "    <tr>\n",
       "      <th>23</th>\n",
       "      <td>Lola Lolita</td>\n",
       "      <td>20</td>\n",
       "      <td>TikTok</td>\n",
       "      <td>Instagram</td>\n",
       "      <td>10200000.0</td>\n",
       "    </tr>\n",
       "    <tr>\n",
       "      <th>24</th>\n",
       "      <td>Djmariio</td>\n",
       "      <td>32</td>\n",
       "      <td>YouTube</td>\n",
       "      <td>Twitch</td>\n",
       "      <td>8710000.0</td>\n",
       "    </tr>\n",
       "    <tr>\n",
       "      <th>25</th>\n",
       "      <td>Jaime Altozano</td>\n",
       "      <td>29</td>\n",
       "      <td>YouTube</td>\n",
       "      <td>Twitter</td>\n",
       "      <td>3230000.0</td>\n",
       "    </tr>\n",
       "  </tbody>\n",
       "</table>\n",
       "</div>"
      ],
      "text/plain": [
       "    influencer's name  age main platform secondary platform    followers\n",
       "0         Ibai Llanos   28        Twitch            Youtube   12800000.0\n",
       "1         Maria Pombo   28     Instagram                NaN    2900000.0\n",
       "2       Naim Darrechi   20        TikTok          Instagram   29000000.0\n",
       "3          Jordi Wild   38       YouTube            Twitter    3590000.0\n",
       "4           Iker Unzu   18        TikTok            YouTube   11400000.0\n",
       "5            ElRubius   33       YouTube             Twitch   40400000.0\n",
       "6     Samantha Hudosn   23     Instagram            Twitter  308000000.0\n",
       "7       Roma Gallardo   34       YouTube            Twitter    1750000.0\n",
       "8         DalasReview   26       YouTube            Twitter   10500000.0\n",
       "9     Sindy Takanashi   30     Instagram                NaN  264000000.0\n",
       "10           Dulceida   33     Instagram            YouTube    3200000.0\n",
       "11           IlloJuan   28       YouTube             Twitch    1530000.0\n",
       "12      Laura Escanes   26     Instagram             TikTok    1900000.0\n",
       "13  Violeta Mangriñan   29     Instagram             TikTok    2200000.0\n",
       "14       Ines Hernand   30     Instagram            YouTube  468000000.0\n",
       "15       Angel Martín   45       YouTube            Twitter  207000000.0\n",
       "16          Verdeliss   37     Instagram            YouTube    1500000.0\n",
       "17        Vecinarubia   37     Instagram            Twitter    2800000.0\n",
       "18           Ratolina   33       YouTube          Instagram    1360000.0\n",
       "19              Grefg   25       YouTube             Twitch   17900000.0\n",
       "20    Victoria Martín   33     Instagram            YouTube  323000000.0\n",
       "21     Andrea Compton   31       YouTube          Instagram  699000000.0\n",
       "22  Carolina Iglesias   29       YouTube            Twitter  166000000.0\n",
       "23        Lola Lolita   20        TikTok          Instagram   10200000.0\n",
       "24           Djmariio   32       YouTube             Twitch    8710000.0\n",
       "25     Jaime Altozano   29       YouTube            Twitter    3230000.0"
      ]
     },
     "execution_count": 18,
     "metadata": {},
     "output_type": "execute_result"
    }
   ],
   "source": [
    "df_influencers \n",
    "\n",
    "# at this point I am able to see what I want to analize, At this point, \n",
    "# I can see the structure of the df_influencers dataset and focus on the aspects I want to analyze, this leads us to the visual inssigths:"
   ]
  },
  {
   "cell_type": "code",
   "execution_count": 19,
   "metadata": {},
   "outputs": [
    {
     "data": {
      "text/plain": [
       "count    26.000000\n",
       "mean     29.807692\n",
       "std       6.026735\n",
       "min      18.000000\n",
       "25%      26.500000\n",
       "50%      29.500000\n",
       "75%      33.000000\n",
       "max      45.000000\n",
       "Name: age, dtype: float64"
      ]
     },
     "execution_count": 19,
     "metadata": {},
     "output_type": "execute_result"
    }
   ],
   "source": [
    "df_influencers['age'].describe() #about numerical data in dataframe"
   ]
  },
  {
   "cell_type": "code",
   "execution_count": 20,
   "metadata": {},
   "outputs": [
    {
     "data": {
      "text/html": [
       "<div>\n",
       "<style scoped>\n",
       "    .dataframe tbody tr th:only-of-type {\n",
       "        vertical-align: middle;\n",
       "    }\n",
       "\n",
       "    .dataframe tbody tr th {\n",
       "        vertical-align: top;\n",
       "    }\n",
       "\n",
       "    .dataframe thead th {\n",
       "        text-align: right;\n",
       "    }\n",
       "</style>\n",
       "<table border=\"1\" class=\"dataframe\">\n",
       "  <thead>\n",
       "    <tr style=\"text-align: right;\">\n",
       "      <th></th>\n",
       "      <th>influencer's name</th>\n",
       "      <th>main platform</th>\n",
       "      <th>secondary platform</th>\n",
       "    </tr>\n",
       "  </thead>\n",
       "  <tbody>\n",
       "    <tr>\n",
       "      <th>count</th>\n",
       "      <td>26</td>\n",
       "      <td>26</td>\n",
       "      <td>24</td>\n",
       "    </tr>\n",
       "    <tr>\n",
       "      <th>unique</th>\n",
       "      <td>26</td>\n",
       "      <td>4</td>\n",
       "      <td>6</td>\n",
       "    </tr>\n",
       "    <tr>\n",
       "      <th>top</th>\n",
       "      <td>Ibai Llanos</td>\n",
       "      <td>YouTube</td>\n",
       "      <td>Twitter</td>\n",
       "    </tr>\n",
       "    <tr>\n",
       "      <th>freq</th>\n",
       "      <td>1</td>\n",
       "      <td>12</td>\n",
       "      <td>8</td>\n",
       "    </tr>\n",
       "  </tbody>\n",
       "</table>\n",
       "</div>"
      ],
      "text/plain": [
       "       influencer's name main platform secondary platform\n",
       "count                 26            26                 24\n",
       "unique                26             4                  6\n",
       "top          Ibai Llanos       YouTube            Twitter\n",
       "freq                   1            12                  8"
      ]
     },
     "execution_count": 20,
     "metadata": {},
     "output_type": "execute_result"
    }
   ],
   "source": [
    "df_influencers.describe(exclude='number')"
   ]
  },
  {
   "cell_type": "markdown",
   "metadata": {},
   "source": [
    "### Visual Insights"
   ]
  },
  {
   "cell_type": "code",
   "execution_count": 27,
   "metadata": {},
   "outputs": [
    {
     "data": {
      "image/png": "[encoded data removed]",
      "text/plain": [
       "<Figure size 1100x800 with 1 Axes>"
      ]
     },
     "metadata": {},
     "output_type": "display_data"
    }
   ],
   "source": [
    "import matplotlib.pyplot as plt\n",
    "\n",
    "# Bar chart for Influencers' Main Platforms\n",
    "\n",
    "plt.figure(figsize=(11, 8))\n",
    "value_counts = df_influencers['main platform'].value_counts(ascending=True, normalize=True) * 100  # Convertir a porcentaje\n",
    "ax = value_counts.plot(kind='barh', color='lightgreen')\n",
    "\n",
    "\n",
    "plt.title(\"Influencer's Main Platforms\")\n",
    "plt.ylabel('')\n",
    "\n",
    "plt.xlim(0, 50) \n",
    "\n",
    "# Ticks for X axis\n",
    "ax.set_xticks(range(0, 51, 10))  \n",
    "ax.set_xticklabels([f'{int(x)}%' for x in ax.get_xticks()])  # Format the ticks as percentages\n",
    "\n",
    "plt.show()"
   ]
  },
  {
   "cell_type": "code",
   "execution_count": 22,
   "metadata": {},
   "outputs": [
    {
     "data": {
      "image/png": "[encoded data removed]",
      "text/plain": [
       "<Figure size 1200x600 with 1 Axes>"
      ]
     },
     "metadata": {},
     "output_type": "display_data"
    }
   ],
   "source": [
    "import matplotlib.ticker as ticker\n",
    "\n",
    "# Scatterplot age vs. follower\n",
    "plt.figure(figsize=(12, 6))\n",
    "plt.scatter(df_influencers['age'], df_influencers['followers']/1000, color='dodgerblue', alpha=0.8)\n",
    "plt.title('Age vs. Followers')\n",
    "plt.xlabel('Age')\n",
    "plt.ylabel('')\n",
    "\n",
    "ax = plt.gca()  \n",
    "ax.yaxis.set_major_formatter(ticker.StrMethodFormatter('{x:,.0f}K'))  # formato sin notación científica, \n",
    "plt.show()"
   ]
  },
  {
   "cell_type": "code",
   "execution_count": 23,
   "metadata": {},
   "outputs": [
    {
     "name": "stdout",
     "output_type": "stream",
     "text": [
      "Correlation between age and number of followers: 0.09\n",
      "p-value: 0.655\n"
     ]
    }
   ],
   "source": [
    "import seaborn as sns\n",
    "from scipy.stats import pearsonr\n",
    "\n",
    "correlation, p_value = pearsonr(df_influencers['age'], df_influencers['followers'])\n",
    "print(f'Correlation between age and number of followers: {correlation:.2f}')\n",
    "\n",
    "print(f'p-value: {p_value:.3f}') "
   ]
  }
 ],
 "metadata": {
  "kernelspec": {
   "display_name": "data-science",
   "language": "python",
   "name": "python3"
  },
  "language_info": {
   "codemirror_mode": {
    "name": "ipython",
    "version": 3
   },
   "file_extension": ".py",
   "mimetype": "text/x-python",
   "name": "python",
   "nbconvert_exporter": "python",
   "pygments_lexer": "ipython3",
   "version": "3.12.5"
  }
 },
 "nbformat": 4,
 "nbformat_minor": 2
}
