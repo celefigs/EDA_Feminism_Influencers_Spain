{
 "cells": [
  {
   "cell_type": "markdown",
   "metadata": {},
   "source": [
    "# EDA Individual Project\n",
    "\n",
    "## \"Has social media influenced Spanish society's opinion on feminism (or anti-feminism)?\"\n",
    "\n",
    "## Table of Contents\n",
    "\n",
    "- [Influencers initial dataset](#influencers-initial-dataset)\n",
    "  - [Visual Insights](#visual-insights)\n",
    "  \n",
    "- [Influencers content dataset](#influencers-content-dataset)\n",
    "\n",
    "- [Feminism and Antifeminism Codebook](#feminism-and-Antifeminism-codebook)\n"
   ]
  },
  {
   "cell_type": "code",
   "execution_count": 86,
   "metadata": {},
   "outputs": [
    {
     "name": "stdout",
     "output_type": "stream",
     "text": [
      "Requirement already satisfied: pip in c:\\users\\celeste\\anaconda3\\envs\\data-science\\lib\\site-packages (24.2)\n",
      "Requirement already satisfied: setuptools in c:\\users\\celeste\\anaconda3\\envs\\data-science\\lib\\site-packages (72.1.0)\n",
      "Collecting setuptools\n",
      "  Downloading setuptools-75.1.0-py3-none-any.whl.metadata (6.9 kB)\n",
      "Requirement already satisfied: wheel in c:\\users\\celeste\\anaconda3\\envs\\data-science\\lib\\site-packages (0.44.0)\n",
      "Downloading setuptools-75.1.0-py3-none-any.whl (1.2 MB)\n",
      "   ---------------------------------------- 0.0/1.2 MB ? eta -:--:--\n",
      "   ---------------------------------------- 1.2/1.2 MB 10.5 MB/s eta 0:00:00\n",
      "Installing collected packages: setuptools\n",
      "  Attempting uninstall: setuptools\n",
      "    Found existing installation: setuptools 72.1.0\n",
      "    Uninstalling setuptools-72.1.0:\n",
      "      Successfully uninstalled setuptools-72.1.0\n",
      "Successfully installed setuptools-75.1.0\n",
      "Collecting spacy\n",
      "  Downloading spacy-3.7.6-cp312-cp312-win_amd64.whl.metadata (27 kB)\n",
      "Collecting spacy-legacy<3.1.0,>=3.0.11 (from spacy)\n",
      "  Downloading spacy_legacy-3.0.12-py2.py3-none-any.whl.metadata (2.8 kB)\n",
      "Collecting spacy-loggers<2.0.0,>=1.0.0 (from spacy)\n",
      "  Downloading spacy_loggers-1.0.5-py3-none-any.whl.metadata (23 kB)\n",
      "Collecting murmurhash<1.1.0,>=0.28.0 (from spacy)\n",
      "  Downloading murmurhash-1.0.10-cp312-cp312-win_amd64.whl.metadata (2.0 kB)\n",
      "Collecting cymem<2.1.0,>=2.0.2 (from spacy)\n",
      "  Downloading cymem-2.0.8-cp312-cp312-win_amd64.whl.metadata (8.6 kB)\n",
      "Collecting preshed<3.1.0,>=3.0.2 (from spacy)\n",
      "  Downloading preshed-3.0.9-cp312-cp312-win_amd64.whl.metadata (2.2 kB)\n",
      "Collecting thinc<8.3.0,>=8.2.2 (from spacy)\n",
      "  Downloading thinc-8.2.5-cp312-cp312-win_amd64.whl.metadata (15 kB)\n",
      "Collecting wasabi<1.2.0,>=0.9.1 (from spacy)\n",
      "  Downloading wasabi-1.1.3-py3-none-any.whl.metadata (28 kB)\n",
      "Collecting srsly<3.0.0,>=2.4.3 (from spacy)\n",
      "  Downloading srsly-2.4.8-cp312-cp312-win_amd64.whl.metadata (20 kB)\n",
      "Collecting catalogue<2.1.0,>=2.0.6 (from spacy)\n",
      "  Downloading catalogue-2.0.10-py3-none-any.whl.metadata (14 kB)\n",
      "Collecting weasel<0.5.0,>=0.1.0 (from spacy)\n",
      "  Downloading weasel-0.4.1-py3-none-any.whl.metadata (4.6 kB)\n",
      "Collecting typer<1.0.0,>=0.3.0 (from spacy)\n",
      "  Downloading typer-0.12.5-py3-none-any.whl.metadata (15 kB)\n",
      "Requirement already satisfied: tqdm<5.0.0,>=4.38.0 in c:\\users\\celeste\\anaconda3\\envs\\data-science\\lib\\site-packages (from spacy) (4.66.5)\n",
      "Requirement already satisfied: requests<3.0.0,>=2.13.0 in c:\\users\\celeste\\anaconda3\\envs\\data-science\\lib\\site-packages (from spacy) (2.32.3)\n",
      "Collecting pydantic!=1.8,!=1.8.1,<3.0.0,>=1.7.4 (from spacy)\n",
      "  Downloading pydantic-2.9.2-py3-none-any.whl.metadata (149 kB)\n",
      "Requirement already satisfied: jinja2 in c:\\users\\celeste\\anaconda3\\envs\\data-science\\lib\\site-packages (from spacy) (3.1.4)\n",
      "Requirement already satisfied: setuptools in c:\\users\\celeste\\anaconda3\\envs\\data-science\\lib\\site-packages (from spacy) (75.1.0)\n",
      "Requirement already satisfied: packaging>=20.0 in c:\\users\\celeste\\anaconda3\\envs\\data-science\\lib\\site-packages (from spacy) (24.1)\n",
      "Collecting langcodes<4.0.0,>=3.2.0 (from spacy)\n",
      "  Downloading langcodes-3.4.1-py3-none-any.whl.metadata (29 kB)\n",
      "Requirement already satisfied: numpy>=1.19.0 in c:\\users\\celeste\\anaconda3\\envs\\data-science\\lib\\site-packages (from spacy) (1.26.4)\n",
      "Collecting language-data>=1.2 (from langcodes<4.0.0,>=3.2.0->spacy)\n",
      "  Downloading language_data-1.2.0-py3-none-any.whl.metadata (4.3 kB)\n",
      "Collecting annotated-types>=0.6.0 (from pydantic!=1.8,!=1.8.1,<3.0.0,>=1.7.4->spacy)\n",
      "  Downloading annotated_types-0.7.0-py3-none-any.whl.metadata (15 kB)\n",
      "Collecting pydantic-core==2.23.4 (from pydantic!=1.8,!=1.8.1,<3.0.0,>=1.7.4->spacy)\n",
      "  Downloading pydantic_core-2.23.4-cp312-none-win_amd64.whl.metadata (6.7 kB)\n",
      "Requirement already satisfied: typing-extensions>=4.6.1 in c:\\users\\celeste\\anaconda3\\envs\\data-science\\lib\\site-packages (from pydantic!=1.8,!=1.8.1,<3.0.0,>=1.7.4->spacy) (4.11.0)\n",
      "Requirement already satisfied: charset-normalizer<4,>=2 in c:\\users\\celeste\\anaconda3\\envs\\data-science\\lib\\site-packages (from requests<3.0.0,>=2.13.0->spacy) (3.3.2)\n",
      "Requirement already satisfied: idna<4,>=2.5 in c:\\users\\celeste\\anaconda3\\envs\\data-science\\lib\\site-packages (from requests<3.0.0,>=2.13.0->spacy) (3.7)\n",
      "Requirement already satisfied: urllib3<3,>=1.21.1 in c:\\users\\celeste\\anaconda3\\envs\\data-science\\lib\\site-packages (from requests<3.0.0,>=2.13.0->spacy) (2.2.2)\n",
      "Requirement already satisfied: certifi>=2017.4.17 in c:\\users\\celeste\\anaconda3\\envs\\data-science\\lib\\site-packages (from requests<3.0.0,>=2.13.0->spacy) (2024.8.30)\n",
      "Collecting blis<0.8.0,>=0.7.8 (from thinc<8.3.0,>=8.2.2->spacy)\n",
      "  Downloading blis-0.7.11-cp312-cp312-win_amd64.whl.metadata (7.6 kB)\n",
      "Collecting confection<1.0.0,>=0.0.1 (from thinc<8.3.0,>=8.2.2->spacy)\n",
      "  Downloading confection-0.1.5-py3-none-any.whl.metadata (19 kB)\n",
      "Requirement already satisfied: colorama in c:\\users\\celeste\\anaconda3\\envs\\data-science\\lib\\site-packages (from tqdm<5.0.0,>=4.38.0->spacy) (0.4.6)\n",
      "Requirement already satisfied: click>=8.0.0 in c:\\users\\celeste\\anaconda3\\envs\\data-science\\lib\\site-packages (from typer<1.0.0,>=0.3.0->spacy) (8.1.7)\n",
      "Collecting shellingham>=1.3.0 (from typer<1.0.0,>=0.3.0->spacy)\n",
      "  Downloading shellingham-1.5.4-py2.py3-none-any.whl.metadata (3.5 kB)\n",
      "Collecting rich>=10.11.0 (from typer<1.0.0,>=0.3.0->spacy)\n",
      "  Downloading rich-13.8.1-py3-none-any.whl.metadata (18 kB)\n",
      "Collecting cloudpathlib<1.0.0,>=0.7.0 (from weasel<0.5.0,>=0.1.0->spacy)\n",
      "  Downloading cloudpathlib-0.19.0-py3-none-any.whl.metadata (14 kB)\n",
      "Collecting smart-open<8.0.0,>=5.2.1 (from weasel<0.5.0,>=0.1.0->spacy)\n",
      "  Downloading smart_open-7.0.4-py3-none-any.whl.metadata (23 kB)\n",
      "Requirement already satisfied: MarkupSafe>=2.0 in c:\\users\\celeste\\anaconda3\\envs\\data-science\\lib\\site-packages (from jinja2->spacy) (2.1.3)\n",
      "Collecting marisa-trie>=0.7.7 (from language-data>=1.2->langcodes<4.0.0,>=3.2.0->spacy)\n",
      "  Downloading marisa_trie-1.2.0-cp312-cp312-win_amd64.whl.metadata (9.0 kB)\n",
      "Collecting markdown-it-py>=2.2.0 (from rich>=10.11.0->typer<1.0.0,>=0.3.0->spacy)\n",
      "  Downloading markdown_it_py-3.0.0-py3-none-any.whl.metadata (6.9 kB)\n",
      "Requirement already satisfied: pygments<3.0.0,>=2.13.0 in c:\\users\\celeste\\anaconda3\\envs\\data-science\\lib\\site-packages (from rich>=10.11.0->typer<1.0.0,>=0.3.0->spacy) (2.15.1)\n",
      "Collecting wrapt (from smart-open<8.0.0,>=5.2.1->weasel<0.5.0,>=0.1.0->spacy)\n",
      "  Downloading wrapt-1.16.0-cp312-cp312-win_amd64.whl.metadata (6.8 kB)\n",
      "Collecting mdurl~=0.1 (from markdown-it-py>=2.2.0->rich>=10.11.0->typer<1.0.0,>=0.3.0->spacy)\n",
      "  Downloading mdurl-0.1.2-py3-none-any.whl.metadata (1.6 kB)\n",
      "Downloading spacy-3.7.6-cp312-cp312-win_amd64.whl (11.7 MB)\n",
      "   ---------------------------------------- 0.0/11.7 MB ? eta -:--:--\n",
      "   ---------- ----------------------------- 3.1/11.7 MB 16.8 MB/s eta 0:00:01\n",
      "   ------------------------ --------------- 7.1/11.7 MB 16.8 MB/s eta 0:00:01\n",
      "   ---------------------------------------  11.5/11.7 MB 19.0 MB/s eta 0:00:01\n",
      "   ---------------------------------------- 11.7/11.7 MB 17.9 MB/s eta 0:00:00\n",
      "Downloading catalogue-2.0.10-py3-none-any.whl (17 kB)\n",
      "Downloading cymem-2.0.8-cp312-cp312-win_amd64.whl (39 kB)\n",
      "Downloading langcodes-3.4.1-py3-none-any.whl (182 kB)\n",
      "Downloading murmurhash-1.0.10-cp312-cp312-win_amd64.whl (25 kB)\n",
      "Downloading preshed-3.0.9-cp312-cp312-win_amd64.whl (122 kB)\n",
      "Downloading pydantic-2.9.2-py3-none-any.whl (434 kB)\n",
      "Downloading pydantic_core-2.23.4-cp312-none-win_amd64.whl (1.9 MB)\n",
      "   ---------------------------------------- 0.0/1.9 MB ? eta -:--:--\n",
      "   ---------------------------------------- 1.9/1.9 MB 8.8 MB/s eta 0:00:00\n",
      "Downloading spacy_legacy-3.0.12-py2.py3-none-any.whl (29 kB)\n",
      "Downloading spacy_loggers-1.0.5-py3-none-any.whl (22 kB)\n",
      "Downloading srsly-2.4.8-cp312-cp312-win_amd64.whl (478 kB)\n",
      "Downloading thinc-8.2.5-cp312-cp312-win_amd64.whl (1.4 MB)\n",
      "   ---------------------------------------- 0.0/1.4 MB ? eta -:--:--\n",
      "   ---------------------------------------- 1.4/1.4 MB 18.8 MB/s eta 0:00:00\n",
      "Downloading typer-0.12.5-py3-none-any.whl (47 kB)\n",
      "Downloading wasabi-1.1.3-py3-none-any.whl (27 kB)\n",
      "Downloading weasel-0.4.1-py3-none-any.whl (50 kB)\n",
      "Downloading annotated_types-0.7.0-py3-none-any.whl (13 kB)\n",
      "Downloading blis-0.7.11-cp312-cp312-win_amd64.whl (6.6 MB)\n",
      "   ---------------------------------------- 0.0/6.6 MB ? eta -:--:--\n",
      "   --------------------------------- ------ 5.5/6.6 MB 25.7 MB/s eta 0:00:01\n",
      "   ---------------------------------------- 6.6/6.6 MB 22.6 MB/s eta 0:00:00\n",
      "Downloading cloudpathlib-0.19.0-py3-none-any.whl (49 kB)\n",
      "Downloading confection-0.1.5-py3-none-any.whl (35 kB)\n",
      "Downloading language_data-1.2.0-py3-none-any.whl (5.4 MB)\n",
      "   ---------------------------------------- 0.0/5.4 MB ? eta -:--:--\n",
      "   ----------------------------------- ---- 4.7/5.4 MB 23.7 MB/s eta 0:00:01\n",
      "   ---------------------------------------- 5.4/5.4 MB 21.9 MB/s eta 0:00:00\n",
      "Downloading rich-13.8.1-py3-none-any.whl (241 kB)\n",
      "Downloading shellingham-1.5.4-py2.py3-none-any.whl (9.8 kB)\n",
      "Downloading smart_open-7.0.4-py3-none-any.whl (61 kB)\n",
      "Downloading marisa_trie-1.2.0-cp312-cp312-win_amd64.whl (151 kB)\n",
      "Downloading markdown_it_py-3.0.0-py3-none-any.whl (87 kB)\n",
      "Downloading wrapt-1.16.0-cp312-cp312-win_amd64.whl (37 kB)\n",
      "Downloading mdurl-0.1.2-py3-none-any.whl (10.0 kB)\n",
      "Installing collected packages: cymem, wrapt, wasabi, spacy-loggers, spacy-legacy, shellingham, pydantic-core, murmurhash, mdurl, marisa-trie, cloudpathlib, catalogue, blis, annotated-types, srsly, smart-open, pydantic, preshed, markdown-it-py, language-data, rich, langcodes, confection, typer, thinc, weasel, spacy\n",
      "Successfully installed annotated-types-0.7.0 blis-0.7.11 catalogue-2.0.10 cloudpathlib-0.19.0 confection-0.1.5 cymem-2.0.8 langcodes-3.4.1 language-data-1.2.0 marisa-trie-1.2.0 markdown-it-py-3.0.0 mdurl-0.1.2 murmurhash-1.0.10 preshed-3.0.9 pydantic-2.9.2 pydantic-core-2.23.4 rich-13.8.1 shellingham-1.5.4 smart-open-7.0.4 spacy-3.7.6 spacy-legacy-3.0.12 spacy-loggers-1.0.5 srsly-2.4.8 thinc-8.2.5 typer-0.12.5 wasabi-1.1.3 weasel-0.4.1 wrapt-1.16.0\n"
     ]
    }
   ],
   "source": [
    "# TO INSTALL\n",
    "!pip install -U pip setuptools wheel\n",
    "!pip install -U spacy"
   ]
  },
  {
   "cell_type": "code",
   "execution_count": 87,
   "metadata": {},
   "outputs": [
    {
     "ename": "OSError",
     "evalue": "[E050] Can't find model 'en_core_web_sm'. It doesn't seem to be a Python package or a valid path to a data directory.",
     "output_type": "error",
     "traceback": [
      "\u001b[1;31m---------------------------------------------------------------------------\u001b[0m",
      "\u001b[1;31mOSError\u001b[0m                                   Traceback (most recent call last)",
      "Cell \u001b[1;32mIn[87], line 2\u001b[0m\n\u001b[0;32m      1\u001b[0m \u001b[38;5;28;01mimport\u001b[39;00m \u001b[38;5;21;01mspacy\u001b[39;00m\n\u001b[1;32m----> 2\u001b[0m spacy_nlp \u001b[38;5;241m=\u001b[39m spacy\u001b[38;5;241m.\u001b[39mload(\u001b[38;5;124m\"\u001b[39m\u001b[38;5;124men_core_web_sm\u001b[39m\u001b[38;5;124m\"\u001b[39m)\n",
      "File \u001b[1;32mc:\\Users\\Celeste\\anaconda3\\envs\\data-science\\Lib\\site-packages\\spacy\\__init__.py:51\u001b[0m, in \u001b[0;36mload\u001b[1;34m(name, vocab, disable, enable, exclude, config)\u001b[0m\n\u001b[0;32m     27\u001b[0m \u001b[38;5;28;01mdef\u001b[39;00m \u001b[38;5;21mload\u001b[39m(\n\u001b[0;32m     28\u001b[0m     name: Union[\u001b[38;5;28mstr\u001b[39m, Path],\n\u001b[0;32m     29\u001b[0m     \u001b[38;5;241m*\u001b[39m,\n\u001b[1;32m   (...)\u001b[0m\n\u001b[0;32m     34\u001b[0m     config: Union[Dict[\u001b[38;5;28mstr\u001b[39m, Any], Config] \u001b[38;5;241m=\u001b[39m util\u001b[38;5;241m.\u001b[39mSimpleFrozenDict(),\n\u001b[0;32m     35\u001b[0m ) \u001b[38;5;241m-\u001b[39m\u001b[38;5;241m>\u001b[39m Language:\n\u001b[0;32m     36\u001b[0m \u001b[38;5;250m    \u001b[39m\u001b[38;5;124;03m\"\"\"Load a spaCy model from an installed package or a local path.\u001b[39;00m\n\u001b[0;32m     37\u001b[0m \n\u001b[0;32m     38\u001b[0m \u001b[38;5;124;03m    name (str): Package name or model path.\u001b[39;00m\n\u001b[1;32m   (...)\u001b[0m\n\u001b[0;32m     49\u001b[0m \u001b[38;5;124;03m    RETURNS (Language): The loaded nlp object.\u001b[39;00m\n\u001b[0;32m     50\u001b[0m \u001b[38;5;124;03m    \"\"\"\u001b[39;00m\n\u001b[1;32m---> 51\u001b[0m     \u001b[38;5;28;01mreturn\u001b[39;00m util\u001b[38;5;241m.\u001b[39mload_model(\n\u001b[0;32m     52\u001b[0m         name,\n\u001b[0;32m     53\u001b[0m         vocab\u001b[38;5;241m=\u001b[39mvocab,\n\u001b[0;32m     54\u001b[0m         disable\u001b[38;5;241m=\u001b[39mdisable,\n\u001b[0;32m     55\u001b[0m         enable\u001b[38;5;241m=\u001b[39menable,\n\u001b[0;32m     56\u001b[0m         exclude\u001b[38;5;241m=\u001b[39mexclude,\n\u001b[0;32m     57\u001b[0m         config\u001b[38;5;241m=\u001b[39mconfig,\n\u001b[0;32m     58\u001b[0m     )\n",
      "File \u001b[1;32mc:\\Users\\Celeste\\anaconda3\\envs\\data-science\\Lib\\site-packages\\spacy\\util.py:472\u001b[0m, in \u001b[0;36mload_model\u001b[1;34m(name, vocab, disable, enable, exclude, config)\u001b[0m\n\u001b[0;32m    470\u001b[0m \u001b[38;5;28;01mif\u001b[39;00m name \u001b[38;5;129;01min\u001b[39;00m OLD_MODEL_SHORTCUTS:\n\u001b[0;32m    471\u001b[0m     \u001b[38;5;28;01mraise\u001b[39;00m \u001b[38;5;167;01mIOError\u001b[39;00m(Errors\u001b[38;5;241m.\u001b[39mE941\u001b[38;5;241m.\u001b[39mformat(name\u001b[38;5;241m=\u001b[39mname, full\u001b[38;5;241m=\u001b[39mOLD_MODEL_SHORTCUTS[name]))  \u001b[38;5;66;03m# type: ignore[index]\u001b[39;00m\n\u001b[1;32m--> 472\u001b[0m \u001b[38;5;28;01mraise\u001b[39;00m \u001b[38;5;167;01mIOError\u001b[39;00m(Errors\u001b[38;5;241m.\u001b[39mE050\u001b[38;5;241m.\u001b[39mformat(name\u001b[38;5;241m=\u001b[39mname))\n",
      "\u001b[1;31mOSError\u001b[0m: [E050] Can't find model 'en_core_web_sm'. It doesn't seem to be a Python package or a valid path to a data directory."
     ]
    }
   ],
   "source": [
    "import spacy\n",
    "spacy_nlp = spacy.load(\"en_core_web_sm\")"
   ]
  },
  {
   "cell_type": "code",
   "execution_count": 8,
   "metadata": {},
   "outputs": [],
   "source": [
    "#purpuse--> i'm going to traing to explain, and the basic ideas I have\n",
    "# got from diferents sources. They will try to support what im trying to explain in my project. \n",
    "# during what period?? I got this info from datas and sources taken from librearies social media during 2022"
   ]
  },
  {
   "cell_type": "code",
   "execution_count": 9,
   "metadata": {},
   "outputs": [],
   "source": [
    "#pip install pandas openpyxl\n",
    "import pandas as pd\n",
    "import re\n",
    "\n",
    "from io import StringIO"
   ]
  },
  {
   "cell_type": "markdown",
   "metadata": {},
   "source": [
    "## Influencers initial dataset"
   ]
  },
  {
   "cell_type": "code",
   "execution_count": 10,
   "metadata": {},
   "outputs": [
    {
     "data": {
      "text/html": [
       "<div>\n",
       "<style scoped>\n",
       "    .dataframe tbody tr th:only-of-type {\n",
       "        vertical-align: middle;\n",
       "    }\n",
       "\n",
       "    .dataframe tbody tr th {\n",
       "        vertical-align: top;\n",
       "    }\n",
       "\n",
       "    .dataframe thead th {\n",
       "        text-align: right;\n",
       "    }\n",
       "</style>\n",
       "<table border=\"1\" class=\"dataframe\">\n",
       "  <thead>\n",
       "    <tr style=\"text-align: right;\">\n",
       "      <th></th>\n",
       "      <th>id</th>\n",
       "      <th>influencer's name</th>\n",
       "      <th>real name</th>\n",
       "      <th>age</th>\n",
       "      <th>ref. edad</th>\n",
       "      <th>education</th>\n",
       "      <th>ref. educacion</th>\n",
       "      <th>previous_occupation</th>\n",
       "      <th>ref. ocupacion</th>\n",
       "      <th>main platform</th>\n",
       "      <th>secondary platform</th>\n",
       "      <th># follower</th>\n",
       "      <th>link_plataforma</th>\n",
       "    </tr>\n",
       "  </thead>\n",
       "  <tbody>\n",
       "    <tr>\n",
       "      <th>0</th>\n",
       "      <td>1</td>\n",
       "      <td>Ibai Llanos</td>\n",
       "      <td>Ibai Llanos Garatea</td>\n",
       "      <td>28</td>\n",
       "      <td>Ibai Llanos - Wikiwand</td>\n",
       "      <td>4</td>\n",
       "      <td>https://www.wikiwand.com/es/Ibai_Llanos</td>\n",
       "      <td>Narrador esports</td>\n",
       "      <td>▷ Ibai Llanos Wiki ≫ Biografía de este Influen...</td>\n",
       "      <td>Twitch</td>\n",
       "      <td>Youtube</td>\n",
       "      <td>12,8M</td>\n",
       "      <td>ibai - Twitch</td>\n",
       "    </tr>\n",
       "    <tr>\n",
       "      <th>1</th>\n",
       "      <td>2</td>\n",
       "      <td>Maria Pombo</td>\n",
       "      <td>María Pombo</td>\n",
       "      <td>28</td>\n",
       "      <td>https://www.modelocurriculum.net/biografias/in...</td>\n",
       "      <td>4</td>\n",
       "      <td>https://www.modelocurriculum.net/biografias/in...</td>\n",
       "      <td>NaN</td>\n",
       "      <td>NaN</td>\n",
       "      <td>Instagram</td>\n",
       "      <td>NaN</td>\n",
       "      <td>2,9M</td>\n",
       "      <td>https://www.instagram.com/mariapombo/</td>\n",
       "    </tr>\n",
       "    <tr>\n",
       "      <th>2</th>\n",
       "      <td>3</td>\n",
       "      <td>Naim Darrechi</td>\n",
       "      <td>Naim Darrechi</td>\n",
       "      <td>20</td>\n",
       "      <td>https://historia-biografia.com/naim-darrechi/</td>\n",
       "      <td>NaN</td>\n",
       "      <td>NaN</td>\n",
       "      <td>-</td>\n",
       "      <td>-</td>\n",
       "      <td>TikTok</td>\n",
       "      <td>Instagram</td>\n",
       "      <td>29M</td>\n",
       "      <td>https://www.tiktok.com/@naimdarrechi?lang=es</td>\n",
       "    </tr>\n",
       "    <tr>\n",
       "      <th>3</th>\n",
       "      <td>4</td>\n",
       "      <td>Jordi Wild</td>\n",
       "      <td>Jordi Carrillo de Albornoz Torres</td>\n",
       "      <td>38</td>\n",
       "      <td>▷ Jordi Wild Wiki ≫ Biografía de este Influenc...</td>\n",
       "      <td>6</td>\n",
       "      <td>▷ Jordi Wild Wiki ≫ Biografía de este Influenc...</td>\n",
       "      <td>-</td>\n",
       "      <td>NaN</td>\n",
       "      <td>YouTube</td>\n",
       "      <td>Twitter</td>\n",
       "      <td>3,59M</td>\n",
       "      <td>The Wild Project - YouTube</td>\n",
       "    </tr>\n",
       "    <tr>\n",
       "      <th>4</th>\n",
       "      <td>5</td>\n",
       "      <td>Iker Unzu</td>\n",
       "      <td>Iker Unzueta Ramos</td>\n",
       "      <td>18</td>\n",
       "      <td>Iker Unzu - Edad, Familia, Biografía | Famous ...</td>\n",
       "      <td>3</td>\n",
       "      <td>Iker Unzu | Wiki YouTube Pedia | Fandom</td>\n",
       "      <td>-</td>\n",
       "      <td>-</td>\n",
       "      <td>TikTok</td>\n",
       "      <td>YouTube</td>\n",
       "      <td>11,4M</td>\n",
       "      <td>Iker Unzu (@ikerunzu) oficial | TikTok</td>\n",
       "    </tr>\n",
       "    <tr>\n",
       "      <th>5</th>\n",
       "      <td>6</td>\n",
       "      <td>ElRubius</td>\n",
       "      <td>Rubén Doblas Gundersen</td>\n",
       "      <td>33</td>\n",
       "      <td>https://es.wikipedia.org/wiki/El_Rubius</td>\n",
       "      <td>5</td>\n",
       "      <td>https://es.wikipedia.org/wiki/El_Rubius</td>\n",
       "      <td>Dependiente</td>\n",
       "      <td>https://es.wikipedia.org/wiki/El_Rubius</td>\n",
       "      <td>YouTube</td>\n",
       "      <td>Twitch</td>\n",
       "      <td>40,4M</td>\n",
       "      <td>https://www.youtube.com/@elrubiusOMG/videos</td>\n",
       "    </tr>\n",
       "    <tr>\n",
       "      <th>6</th>\n",
       "      <td>7</td>\n",
       "      <td>Samantha Hudosn</td>\n",
       "      <td>(nombre de nacimiento): Iván González Ranedo</td>\n",
       "      <td>23</td>\n",
       "      <td>Samantha Hudson - Wikipedia, la enciclopedia l...</td>\n",
       "      <td>4</td>\n",
       "      <td>Samantha Hudson - Wikipedia, la enciclopedia l...</td>\n",
       "      <td>Artista</td>\n",
       "      <td>Samantha Hudson - Wikipedia, la enciclopedia l...</td>\n",
       "      <td>Instagram</td>\n",
       "      <td>Twitter</td>\n",
       "      <td>308K</td>\n",
       "      <td>Samantha Hudson (@badbixsamantha) • Fotos y vi...</td>\n",
       "    </tr>\n",
       "    <tr>\n",
       "      <th>7</th>\n",
       "      <td>8</td>\n",
       "      <td>Roma Gallardo</td>\n",
       "      <td>Alfonso Gallardo</td>\n",
       "      <td>34</td>\n",
       "      <td>https://youtube.fandom.com/es/wiki/Roma_Gallardo</td>\n",
       "      <td>NaN</td>\n",
       "      <td>NaN</td>\n",
       "      <td>-</td>\n",
       "      <td>-</td>\n",
       "      <td>YouTube</td>\n",
       "      <td>Twitter</td>\n",
       "      <td>1,75M</td>\n",
       "      <td>https://www.youtube.com/@romagallardo7504</td>\n",
       "    </tr>\n",
       "    <tr>\n",
       "      <th>8</th>\n",
       "      <td>9</td>\n",
       "      <td>DalasReview</td>\n",
       "      <td>Daniel José Santomé Lemus</td>\n",
       "      <td>26</td>\n",
       "      <td>https://twitter.com/DalasReview?ref_src=twsrc%...</td>\n",
       "      <td>4</td>\n",
       "      <td>Dalas Review | Biblioteca Virtual Fandom | Fandom</td>\n",
       "      <td>-</td>\n",
       "      <td>-</td>\n",
       "      <td>YouTube</td>\n",
       "      <td>Twitter</td>\n",
       "      <td>10,5M</td>\n",
       "      <td>NaN</td>\n",
       "    </tr>\n",
       "  </tbody>\n",
       "</table>\n",
       "</div>"
      ],
      "text/plain": [
       "   id influencer's name                                     real name  age  \\\n",
       "0   1       Ibai Llanos                           Ibai Llanos Garatea   28   \n",
       "1   2       Maria Pombo                                   María Pombo   28   \n",
       "2   3     Naim Darrechi                                 Naim Darrechi   20   \n",
       "3   4        Jordi Wild             Jordi Carrillo de Albornoz Torres   38   \n",
       "4   5         Iker Unzu                            Iker Unzueta Ramos   18   \n",
       "5   6          ElRubius                        Rubén Doblas Gundersen   33   \n",
       "6   7   Samantha Hudosn  (nombre de nacimiento): Iván González Ranedo   23   \n",
       "7   8     Roma Gallardo                              Alfonso Gallardo   34   \n",
       "8   9       DalasReview                     Daniel José Santomé Lemus   26   \n",
       "\n",
       "                                           ref. edad education  \\\n",
       "0                             Ibai Llanos - Wikiwand         4   \n",
       "1  https://www.modelocurriculum.net/biografias/in...         4   \n",
       "2      https://historia-biografia.com/naim-darrechi/       NaN   \n",
       "3  ▷ Jordi Wild Wiki ≫ Biografía de este Influenc...         6   \n",
       "4  Iker Unzu - Edad, Familia, Biografía | Famous ...         3   \n",
       "5            https://es.wikipedia.org/wiki/El_Rubius         5   \n",
       "6  Samantha Hudson - Wikipedia, la enciclopedia l...         4   \n",
       "7   https://youtube.fandom.com/es/wiki/Roma_Gallardo       NaN   \n",
       "8  https://twitter.com/DalasReview?ref_src=twsrc%...         4   \n",
       "\n",
       "                                      ref. educacion previous_occupation  \\\n",
       "0            https://www.wikiwand.com/es/Ibai_Llanos    Narrador esports   \n",
       "1  https://www.modelocurriculum.net/biografias/in...                 NaN   \n",
       "2                                                NaN                   -   \n",
       "3  ▷ Jordi Wild Wiki ≫ Biografía de este Influenc...                   -   \n",
       "4            Iker Unzu | Wiki YouTube Pedia | Fandom                   -   \n",
       "5            https://es.wikipedia.org/wiki/El_Rubius         Dependiente   \n",
       "6  Samantha Hudson - Wikipedia, la enciclopedia l...             Artista   \n",
       "7                                                NaN                   -   \n",
       "8  Dalas Review | Biblioteca Virtual Fandom | Fandom                   -   \n",
       "\n",
       "                                      ref. ocupacion main platform  \\\n",
       "0  ▷ Ibai Llanos Wiki ≫ Biografía de este Influen...        Twitch   \n",
       "1                                                NaN     Instagram   \n",
       "2                                                  -        TikTok   \n",
       "3                                                NaN       YouTube   \n",
       "4                                                  -        TikTok   \n",
       "5            https://es.wikipedia.org/wiki/El_Rubius       YouTube   \n",
       "6  Samantha Hudson - Wikipedia, la enciclopedia l...     Instagram   \n",
       "7                                                  -       YouTube   \n",
       "8                                                  -       YouTube   \n",
       "\n",
       "  secondary platform # follower  \\\n",
       "0            Youtube      12,8M   \n",
       "1                NaN       2,9M   \n",
       "2          Instagram        29M   \n",
       "3            Twitter      3,59M   \n",
       "4            YouTube      11,4M   \n",
       "5             Twitch      40,4M   \n",
       "6            Twitter       308K   \n",
       "7            Twitter      1,75M   \n",
       "8            Twitter      10,5M   \n",
       "\n",
       "                                     link_plataforma  \n",
       "0                                      ibai - Twitch  \n",
       "1              https://www.instagram.com/mariapombo/  \n",
       "2       https://www.tiktok.com/@naimdarrechi?lang=es  \n",
       "3                         The Wild Project - YouTube  \n",
       "4             Iker Unzu (@ikerunzu) oficial | TikTok  \n",
       "5        https://www.youtube.com/@elrubiusOMG/videos  \n",
       "6  Samantha Hudson (@badbixsamantha) • Fotos y vi...  \n",
       "7          https://www.youtube.com/@romagallardo7504  \n",
       "8                                                NaN  "
      ]
     },
     "execution_count": 10,
     "metadata": {},
     "output_type": "execute_result"
    }
   ],
   "source": [
    "path_file_influencers = r\"C:\\Users\\Celeste\\Google Drive Streaming\\My Drive\\_CODEOP\\EDA_Feminism_Influencers_Spain\\data\\Influencers Initial Dataset.xlsx\"\n",
    "\n",
    "df_influencers = pd.read_excel(path_file_influencers)\n",
    "\n",
    "df_influencers.head(9)\n",
    "\n",
    "#repasar signos de puntuación \"brackets\", \"curly brackets\", \"colon\" \"quotation marks\", \"slash\"\n",
    "\n",
    "#these are the fountains where I got enough material to do my research, different kind of information"
   ]
  },
  {
   "cell_type": "code",
   "execution_count": 11,
   "metadata": {},
   "outputs": [
    {
     "name": "stdout",
     "output_type": "stream",
     "text": [
      "<class 'pandas.core.frame.DataFrame'>\n",
      "RangeIndex: 26 entries, 0 to 25\n",
      "Data columns (total 13 columns):\n",
      " #   Column               Non-Null Count  Dtype \n",
      "---  ------               --------------  ----- \n",
      " 0   id                   26 non-null     int64 \n",
      " 1   influencer's name    26 non-null     object\n",
      " 2   real name            26 non-null     object\n",
      " 3   age                  26 non-null     int64 \n",
      " 4   ref. edad            25 non-null     object\n",
      " 5   education            23 non-null     object\n",
      " 6   ref. educacion       23 non-null     object\n",
      " 7   previous_occupation  25 non-null     object\n",
      " 8   ref. ocupacion       24 non-null     object\n",
      " 9   main platform        26 non-null     object\n",
      " 10  secondary platform   24 non-null     object\n",
      " 11  # follower           26 non-null     object\n",
      " 12  link_plataforma      25 non-null     object\n",
      "dtypes: int64(2), object(11)\n",
      "memory usage: 2.8+ KB\n"
     ]
    }
   ],
   "source": [
    "df_influencers.info()"
   ]
  },
  {
   "cell_type": "code",
   "execution_count": 12,
   "metadata": {},
   "outputs": [
    {
     "data": {
      "text/plain": [
       "(26, 13)"
      ]
     },
     "execution_count": 12,
     "metadata": {},
     "output_type": "execute_result"
    }
   ],
   "source": [
    "df_influencers.shape"
   ]
  },
  {
   "cell_type": "code",
   "execution_count": 13,
   "metadata": {},
   "outputs": [
    {
     "data": {
      "text/plain": [
       "array(['Ibai Llanos', 'Maria Pombo', 'Naim Darrechi', 'Jordi Wild',\n",
       "       'Iker Unzu', 'ElRubius', 'Samantha Hudosn', 'Roma Gallardo',\n",
       "       'DalasReview', 'Sindy Takanashi', 'Dulceida', 'IlloJuan',\n",
       "       'Laura Escanes', 'Violeta Mangriñan', 'Ines Hernand',\n",
       "       'Angel Martín', 'Verdeliss', 'Vecinarubia', 'Ratolina', 'Grefg',\n",
       "       'Victoria Martín', 'Andrea Compton', 'Carolina Iglesias',\n",
       "       'Lola Lolita', 'Djmariio', 'Jaime Altozano'], dtype=object)"
      ]
     },
     "execution_count": 13,
     "metadata": {},
     "output_type": "execute_result"
    }
   ],
   "source": [
    "df_influencers['influencer\\'s name'].unique()"
   ]
  },
  {
   "cell_type": "code",
   "execution_count": 14,
   "metadata": {},
   "outputs": [
    {
     "data": {
      "text/plain": [
       "id                     0\n",
       "influencer's name      0\n",
       "real name              0\n",
       "age                    0\n",
       "ref. edad              1\n",
       "education              3\n",
       "ref. educacion         3\n",
       "previous_occupation    1\n",
       "ref. ocupacion         2\n",
       "main platform          0\n",
       "secondary platform     2\n",
       "# follower             0\n",
       "link_plataforma        1\n",
       "dtype: int64"
      ]
     },
     "execution_count": 14,
     "metadata": {},
     "output_type": "execute_result"
    }
   ],
   "source": [
    "df_influencers.isna().sum() #explicar un poco la toma de decision\n",
    "#it is important to known if we had a lack of information in whichever file of the dataframe\n",
    "# at the age column we can see that we have no NAN values, \n",
    "# you can choose to change it if you think that  it could  be influent in a harmful way or in a good one"
   ]
  },
  {
   "cell_type": "code",
   "execution_count": 15,
   "metadata": {},
   "outputs": [
    {
     "data": {
      "text/plain": [
       "0                                         ibai - Twitch\n",
       "1                 https://www.instagram.com/mariapombo/\n",
       "2          https://www.tiktok.com/@naimdarrechi?lang=es\n",
       "3                            The Wild Project - YouTube\n",
       "4                Iker Unzu (@ikerunzu) oficial | TikTok\n",
       "5           https://www.youtube.com/@elrubiusOMG/videos\n",
       "6     Samantha Hudson (@badbixsamantha) • Fotos y vi...\n",
       "7             https://www.youtube.com/@romagallardo7504\n",
       "8                                                   NaN\n",
       "9             https://www.instagram.com/sindytakanashi/\n",
       "10    Aida Domenech (@dulceida) • Fotos y videos de ...\n",
       "11            https://www.youtube.com/@IlloJuan_/videos\n",
       "12              https://www.instagram.com/lauraescanes/\n",
       "13                   https://www.instagram.com/violeta/\n",
       "14               https://www.instagram.com/ineshernand/\n",
       "15                https://www.youtube.com/@angel_martin\n",
       "16    verdeliss | Estefi Unzu (@verdeliss) • Fotos y...\n",
       "17    La Vecina Rubia (@lavecinarubia) • Fotos y vid...\n",
       "18                    https://www.youtube.com/@ratolina\n",
       "19                                   TheGrefg - YouTube\n",
       "20            https://www.instagram.com/livingpostureo/\n",
       "21                          youtube.com/@andreacomptonn\n",
       "22             https://www.youtube.com/@Percebesygrelos\n",
       "23    https://www.tiktok.com/@lolalolita?_t=8abrhMQn...\n",
       "24                    https://www.youtube.com/@DjMaRiiO\n",
       "25                             Jaime Altozano - YouTube\n",
       "Name: link_plataforma, dtype: object"
      ]
     },
     "execution_count": 15,
     "metadata": {},
     "output_type": "execute_result"
    }
   ],
   "source": [
    "df_influencers['link_plataforma']"
   ]
  },
  {
   "cell_type": "code",
   "execution_count": 16,
   "metadata": {},
   "outputs": [
    {
     "data": {
      "text/plain": [
       "Index(['id', 'influencer's name', 'real name', 'age', 'ref. edad', 'education',\n",
       "       'ref. educacion', 'previous_occupation', 'ref. ocupacion',\n",
       "       'main platform', 'secondary platform', '# follower', 'link_plataforma'],\n",
       "      dtype='object')"
      ]
     },
     "execution_count": 16,
     "metadata": {},
     "output_type": "execute_result"
    }
   ],
   "source": [
    "df_influencers.columns"
   ]
  },
  {
   "cell_type": "code",
   "execution_count": 17,
   "metadata": {},
   "outputs": [
    {
     "data": {
      "text/plain": [
       "array(['▷ Ibai Llanos Wiki ≫ Biografía de este Influencer【2023】 (mejorinfluencer.com)',\n",
       "       nan, '-', 'https://es.wikipedia.org/wiki/El_Rubius',\n",
       "       'Samantha Hudson - Wikipedia, la enciclopedia libre',\n",
       "       'https://www.flooxernow.com/noticias/sindy-takanashi-el-feminismo-me-hizo-darme-cuenta-de-que-habia-sido-violada-durante-ano-y-medio_201806265b3291ee0cf25c12398dc42e.html',\n",
       "       'Biografía de Aida Domènech, Dulceida (modelocurriculum.net)',\n",
       "       'https://es.wikipedia.org/wiki/Laura_Escanes',\n",
       "       'https://andreampds.com/violeta-mangrinan-wikipedia/#:~:text=Violeta%20Mangri%C3%B1%C3%A1n%20naci%C3%B3%20en%20Valencia,Violeta%20mide%201%2C68%20metros.',\n",
       "       'https://es.wikipedia.org/wiki/In%C3%A9s_Hernand',\n",
       "       'Ángel Martín - Wikipedia, la enciclopedia libre',\n",
       "       '¿Quién es Verdeliss? Edad de la influencer, hijos, casa, estado de salud - Legit.ng',\n",
       "       'https://es.wikipedia.org/wiki/Victoria_Mart%C3%ADn',\n",
       "       'Carolina Iglesias - Wikipedia, la enciclopedia libre'],\n",
       "      dtype=object)"
      ]
     },
     "execution_count": 17,
     "metadata": {},
     "output_type": "execute_result"
    }
   ],
   "source": [
    "df_influencers['ref. ocupacion'].unique() #extra sources"
   ]
  },
  {
   "cell_type": "code",
   "execution_count": 18,
   "metadata": {},
   "outputs": [],
   "source": [
    "#remove columns \n",
    "\n",
    "df_influencers = df_influencers.drop(['id','real name', 'ref. edad', 'education','ref. educacion', 'previous_occupation', 'ref. ocupacion','link_plataforma'], axis = 1) "
   ]
  },
  {
   "cell_type": "code",
   "execution_count": 19,
   "metadata": {},
   "outputs": [
    {
     "data": {
      "text/html": [
       "<div>\n",
       "<style scoped>\n",
       "    .dataframe tbody tr th:only-of-type {\n",
       "        vertical-align: middle;\n",
       "    }\n",
       "\n",
       "    .dataframe tbody tr th {\n",
       "        vertical-align: top;\n",
       "    }\n",
       "\n",
       "    .dataframe thead th {\n",
       "        text-align: right;\n",
       "    }\n",
       "</style>\n",
       "<table border=\"1\" class=\"dataframe\">\n",
       "  <thead>\n",
       "    <tr style=\"text-align: right;\">\n",
       "      <th></th>\n",
       "      <th>influencer's name</th>\n",
       "      <th>age</th>\n",
       "      <th>main platform</th>\n",
       "      <th>secondary platform</th>\n",
       "      <th># follower</th>\n",
       "    </tr>\n",
       "  </thead>\n",
       "  <tbody>\n",
       "    <tr>\n",
       "      <th>0</th>\n",
       "      <td>Ibai Llanos</td>\n",
       "      <td>28</td>\n",
       "      <td>Twitch</td>\n",
       "      <td>Youtube</td>\n",
       "      <td>12,8M</td>\n",
       "    </tr>\n",
       "    <tr>\n",
       "      <th>1</th>\n",
       "      <td>Maria Pombo</td>\n",
       "      <td>28</td>\n",
       "      <td>Instagram</td>\n",
       "      <td>NaN</td>\n",
       "      <td>2,9M</td>\n",
       "    </tr>\n",
       "    <tr>\n",
       "      <th>2</th>\n",
       "      <td>Naim Darrechi</td>\n",
       "      <td>20</td>\n",
       "      <td>TikTok</td>\n",
       "      <td>Instagram</td>\n",
       "      <td>29M</td>\n",
       "    </tr>\n",
       "    <tr>\n",
       "      <th>3</th>\n",
       "      <td>Jordi Wild</td>\n",
       "      <td>38</td>\n",
       "      <td>YouTube</td>\n",
       "      <td>Twitter</td>\n",
       "      <td>3,59M</td>\n",
       "    </tr>\n",
       "    <tr>\n",
       "      <th>4</th>\n",
       "      <td>Iker Unzu</td>\n",
       "      <td>18</td>\n",
       "      <td>TikTok</td>\n",
       "      <td>YouTube</td>\n",
       "      <td>11,4M</td>\n",
       "    </tr>\n",
       "    <tr>\n",
       "      <th>5</th>\n",
       "      <td>ElRubius</td>\n",
       "      <td>33</td>\n",
       "      <td>YouTube</td>\n",
       "      <td>Twitch</td>\n",
       "      <td>40,4M</td>\n",
       "    </tr>\n",
       "    <tr>\n",
       "      <th>6</th>\n",
       "      <td>Samantha Hudosn</td>\n",
       "      <td>23</td>\n",
       "      <td>Instagram</td>\n",
       "      <td>Twitter</td>\n",
       "      <td>308K</td>\n",
       "    </tr>\n",
       "    <tr>\n",
       "      <th>7</th>\n",
       "      <td>Roma Gallardo</td>\n",
       "      <td>34</td>\n",
       "      <td>YouTube</td>\n",
       "      <td>Twitter</td>\n",
       "      <td>1,75M</td>\n",
       "    </tr>\n",
       "    <tr>\n",
       "      <th>8</th>\n",
       "      <td>DalasReview</td>\n",
       "      <td>26</td>\n",
       "      <td>YouTube</td>\n",
       "      <td>Twitter</td>\n",
       "      <td>10,5M</td>\n",
       "    </tr>\n",
       "    <tr>\n",
       "      <th>9</th>\n",
       "      <td>Sindy Takanashi</td>\n",
       "      <td>30</td>\n",
       "      <td>Instagram</td>\n",
       "      <td>NaN</td>\n",
       "      <td>264K</td>\n",
       "    </tr>\n",
       "    <tr>\n",
       "      <th>10</th>\n",
       "      <td>Dulceida</td>\n",
       "      <td>33</td>\n",
       "      <td>Instagram</td>\n",
       "      <td>YouTube</td>\n",
       "      <td>3,2M</td>\n",
       "    </tr>\n",
       "    <tr>\n",
       "      <th>11</th>\n",
       "      <td>IlloJuan</td>\n",
       "      <td>28</td>\n",
       "      <td>YouTube</td>\n",
       "      <td>Twitch</td>\n",
       "      <td>1,53M</td>\n",
       "    </tr>\n",
       "    <tr>\n",
       "      <th>12</th>\n",
       "      <td>Laura Escanes</td>\n",
       "      <td>26</td>\n",
       "      <td>Instagram</td>\n",
       "      <td>TikTok</td>\n",
       "      <td>1,9M</td>\n",
       "    </tr>\n",
       "    <tr>\n",
       "      <th>13</th>\n",
       "      <td>Violeta Mangriñan</td>\n",
       "      <td>29</td>\n",
       "      <td>Instagram</td>\n",
       "      <td>TikTok</td>\n",
       "      <td>2,2M</td>\n",
       "    </tr>\n",
       "    <tr>\n",
       "      <th>14</th>\n",
       "      <td>Ines Hernand</td>\n",
       "      <td>30</td>\n",
       "      <td>Instagram</td>\n",
       "      <td>YouTube</td>\n",
       "      <td>468K</td>\n",
       "    </tr>\n",
       "    <tr>\n",
       "      <th>15</th>\n",
       "      <td>Angel Martín</td>\n",
       "      <td>45</td>\n",
       "      <td>YouTube</td>\n",
       "      <td>Twitter</td>\n",
       "      <td>207K</td>\n",
       "    </tr>\n",
       "    <tr>\n",
       "      <th>16</th>\n",
       "      <td>Verdeliss</td>\n",
       "      <td>37</td>\n",
       "      <td>Instagram</td>\n",
       "      <td>YouTube</td>\n",
       "      <td>1,5M</td>\n",
       "    </tr>\n",
       "    <tr>\n",
       "      <th>17</th>\n",
       "      <td>Vecinarubia</td>\n",
       "      <td>37</td>\n",
       "      <td>Instagram</td>\n",
       "      <td>Twitter</td>\n",
       "      <td>2,8M</td>\n",
       "    </tr>\n",
       "    <tr>\n",
       "      <th>18</th>\n",
       "      <td>Ratolina</td>\n",
       "      <td>33</td>\n",
       "      <td>YouTube</td>\n",
       "      <td>Instagram</td>\n",
       "      <td>1,36M</td>\n",
       "    </tr>\n",
       "    <tr>\n",
       "      <th>19</th>\n",
       "      <td>Grefg</td>\n",
       "      <td>25</td>\n",
       "      <td>YouTube</td>\n",
       "      <td>Twitch</td>\n",
       "      <td>17,9M</td>\n",
       "    </tr>\n",
       "    <tr>\n",
       "      <th>20</th>\n",
       "      <td>Victoria Martín</td>\n",
       "      <td>33</td>\n",
       "      <td>Instagram</td>\n",
       "      <td>YouTube</td>\n",
       "      <td>323K</td>\n",
       "    </tr>\n",
       "    <tr>\n",
       "      <th>21</th>\n",
       "      <td>Andrea Compton</td>\n",
       "      <td>31</td>\n",
       "      <td>YouTube</td>\n",
       "      <td>Instagram</td>\n",
       "      <td>699K</td>\n",
       "    </tr>\n",
       "    <tr>\n",
       "      <th>22</th>\n",
       "      <td>Carolina Iglesias</td>\n",
       "      <td>29</td>\n",
       "      <td>YouTube</td>\n",
       "      <td>Twitter</td>\n",
       "      <td>166K</td>\n",
       "    </tr>\n",
       "    <tr>\n",
       "      <th>23</th>\n",
       "      <td>Lola Lolita</td>\n",
       "      <td>20</td>\n",
       "      <td>TikTok</td>\n",
       "      <td>Instagram</td>\n",
       "      <td>10,2M</td>\n",
       "    </tr>\n",
       "    <tr>\n",
       "      <th>24</th>\n",
       "      <td>Djmariio</td>\n",
       "      <td>32</td>\n",
       "      <td>YouTube</td>\n",
       "      <td>Twitch</td>\n",
       "      <td>8,71M</td>\n",
       "    </tr>\n",
       "    <tr>\n",
       "      <th>25</th>\n",
       "      <td>Jaime Altozano</td>\n",
       "      <td>29</td>\n",
       "      <td>YouTube</td>\n",
       "      <td>Twitter</td>\n",
       "      <td>3,23M</td>\n",
       "    </tr>\n",
       "  </tbody>\n",
       "</table>\n",
       "</div>"
      ],
      "text/plain": [
       "    influencer's name  age main platform secondary platform # follower\n",
       "0         Ibai Llanos   28        Twitch            Youtube      12,8M\n",
       "1         Maria Pombo   28     Instagram                NaN       2,9M\n",
       "2       Naim Darrechi   20        TikTok          Instagram        29M\n",
       "3          Jordi Wild   38       YouTube            Twitter      3,59M\n",
       "4           Iker Unzu   18        TikTok            YouTube      11,4M\n",
       "5            ElRubius   33       YouTube             Twitch      40,4M\n",
       "6     Samantha Hudosn   23     Instagram            Twitter       308K\n",
       "7       Roma Gallardo   34       YouTube            Twitter      1,75M\n",
       "8         DalasReview   26       YouTube            Twitter      10,5M\n",
       "9     Sindy Takanashi   30     Instagram                NaN       264K\n",
       "10           Dulceida   33     Instagram            YouTube       3,2M\n",
       "11           IlloJuan   28       YouTube             Twitch      1,53M\n",
       "12      Laura Escanes   26     Instagram             TikTok       1,9M\n",
       "13  Violeta Mangriñan   29     Instagram             TikTok       2,2M\n",
       "14       Ines Hernand   30     Instagram            YouTube       468K\n",
       "15       Angel Martín   45       YouTube            Twitter       207K\n",
       "16          Verdeliss   37     Instagram            YouTube       1,5M\n",
       "17        Vecinarubia   37     Instagram            Twitter       2,8M\n",
       "18           Ratolina   33       YouTube          Instagram      1,36M\n",
       "19              Grefg   25       YouTube             Twitch      17,9M\n",
       "20    Victoria Martín   33     Instagram            YouTube       323K\n",
       "21     Andrea Compton   31       YouTube          Instagram       699K\n",
       "22  Carolina Iglesias   29       YouTube            Twitter       166K\n",
       "23        Lola Lolita   20        TikTok          Instagram      10,2M\n",
       "24           Djmariio   32       YouTube             Twitch      8,71M\n",
       "25     Jaime Altozano   29       YouTube            Twitter      3,23M"
      ]
     },
     "execution_count": 19,
     "metadata": {},
     "output_type": "execute_result"
    }
   ],
   "source": [
    "df_influencers #at this point I am able to see whhat I want to analize"
   ]
  },
  {
   "cell_type": "code",
   "execution_count": 20,
   "metadata": {},
   "outputs": [
    {
     "data": {
      "text/html": [
       "<div>\n",
       "<style scoped>\n",
       "    .dataframe tbody tr th:only-of-type {\n",
       "        vertical-align: middle;\n",
       "    }\n",
       "\n",
       "    .dataframe tbody tr th {\n",
       "        vertical-align: top;\n",
       "    }\n",
       "\n",
       "    .dataframe thead th {\n",
       "        text-align: right;\n",
       "    }\n",
       "</style>\n",
       "<table border=\"1\" class=\"dataframe\">\n",
       "  <thead>\n",
       "    <tr style=\"text-align: right;\">\n",
       "      <th></th>\n",
       "      <th>age</th>\n",
       "    </tr>\n",
       "  </thead>\n",
       "  <tbody>\n",
       "    <tr>\n",
       "      <th>count</th>\n",
       "      <td>26.000000</td>\n",
       "    </tr>\n",
       "    <tr>\n",
       "      <th>mean</th>\n",
       "      <td>29.807692</td>\n",
       "    </tr>\n",
       "    <tr>\n",
       "      <th>std</th>\n",
       "      <td>6.026735</td>\n",
       "    </tr>\n",
       "    <tr>\n",
       "      <th>min</th>\n",
       "      <td>18.000000</td>\n",
       "    </tr>\n",
       "    <tr>\n",
       "      <th>25%</th>\n",
       "      <td>26.500000</td>\n",
       "    </tr>\n",
       "    <tr>\n",
       "      <th>50%</th>\n",
       "      <td>29.500000</td>\n",
       "    </tr>\n",
       "    <tr>\n",
       "      <th>75%</th>\n",
       "      <td>33.000000</td>\n",
       "    </tr>\n",
       "    <tr>\n",
       "      <th>max</th>\n",
       "      <td>45.000000</td>\n",
       "    </tr>\n",
       "  </tbody>\n",
       "</table>\n",
       "</div>"
      ],
      "text/plain": [
       "             age\n",
       "count  26.000000\n",
       "mean   29.807692\n",
       "std     6.026735\n",
       "min    18.000000\n",
       "25%    26.500000\n",
       "50%    29.500000\n",
       "75%    33.000000\n",
       "max    45.000000"
      ]
     },
     "execution_count": 20,
     "metadata": {},
     "output_type": "execute_result"
    }
   ],
   "source": [
    "df_influencers.describe() #about numerical data in dataframe"
   ]
  },
  {
   "cell_type": "code",
   "execution_count": 21,
   "metadata": {},
   "outputs": [
    {
     "data": {
      "text/html": [
       "<div>\n",
       "<style scoped>\n",
       "    .dataframe tbody tr th:only-of-type {\n",
       "        vertical-align: middle;\n",
       "    }\n",
       "\n",
       "    .dataframe tbody tr th {\n",
       "        vertical-align: top;\n",
       "    }\n",
       "\n",
       "    .dataframe thead th {\n",
       "        text-align: right;\n",
       "    }\n",
       "</style>\n",
       "<table border=\"1\" class=\"dataframe\">\n",
       "  <thead>\n",
       "    <tr style=\"text-align: right;\">\n",
       "      <th></th>\n",
       "      <th>influencer's name</th>\n",
       "      <th>main platform</th>\n",
       "      <th>secondary platform</th>\n",
       "      <th># follower</th>\n",
       "    </tr>\n",
       "  </thead>\n",
       "  <tbody>\n",
       "    <tr>\n",
       "      <th>count</th>\n",
       "      <td>26</td>\n",
       "      <td>26</td>\n",
       "      <td>24</td>\n",
       "      <td>26</td>\n",
       "    </tr>\n",
       "    <tr>\n",
       "      <th>unique</th>\n",
       "      <td>26</td>\n",
       "      <td>4</td>\n",
       "      <td>6</td>\n",
       "      <td>26</td>\n",
       "    </tr>\n",
       "    <tr>\n",
       "      <th>top</th>\n",
       "      <td>Ibai Llanos</td>\n",
       "      <td>YouTube</td>\n",
       "      <td>Twitter</td>\n",
       "      <td>12,8M</td>\n",
       "    </tr>\n",
       "    <tr>\n",
       "      <th>freq</th>\n",
       "      <td>1</td>\n",
       "      <td>12</td>\n",
       "      <td>8</td>\n",
       "      <td>1</td>\n",
       "    </tr>\n",
       "  </tbody>\n",
       "</table>\n",
       "</div>"
      ],
      "text/plain": [
       "       influencer's name main platform secondary platform # follower\n",
       "count                 26            26                 24         26\n",
       "unique                26             4                  6         26\n",
       "top          Ibai Llanos       YouTube            Twitter      12,8M\n",
       "freq                   1            12                  8          1"
      ]
     },
     "execution_count": 21,
     "metadata": {},
     "output_type": "execute_result"
    }
   ],
   "source": [
    "df_influencers.describe(exclude='number') #explicar este cuadro, interesante"
   ]
  },
  {
   "cell_type": "code",
   "execution_count": 22,
   "metadata": {},
   "outputs": [],
   "source": [
    "df_influencers.rename(columns={'# follower': 'followers'}, inplace=True)"
   ]
  },
  {
   "cell_type": "code",
   "execution_count": 23,
   "metadata": {},
   "outputs": [
    {
     "data": {
      "text/plain": [
       "0     12,8M\n",
       "1      2,9M\n",
       "2       29M\n",
       "3     3,59M\n",
       "4     11,4M\n",
       "5     40,4M\n",
       "6      308K\n",
       "7     1,75M\n",
       "8     10,5M\n",
       "9      264K\n",
       "10     3,2M\n",
       "11    1,53M\n",
       "12     1,9M\n",
       "13     2,2M\n",
       "14     468K\n",
       "15     207K\n",
       "16     1,5M\n",
       "17     2,8M\n",
       "18    1,36M\n",
       "19    17,9M\n",
       "20     323K\n",
       "21     699K\n",
       "22     166K\n",
       "23    10,2M\n",
       "24    8,71M\n",
       "25    3,23M\n",
       "Name: followers, dtype: object"
      ]
     },
     "execution_count": 23,
     "metadata": {},
     "output_type": "execute_result"
    }
   ],
   "source": [
    "df_influencers['followers'] #I am going to do a simple process in which I transform objects to numbers using \"apply\" and \"lamda\" functions"
   ]
  },
  {
   "cell_type": "code",
   "execution_count": 24,
   "metadata": {},
   "outputs": [],
   "source": [
    "df_influencers['followers'] = df_influencers['followers'].apply(lambda x: float(x.replace('M', '').replace('K', '').replace(',', '.')) * 1e6)\n",
    "\n",
    "# df['followers'].str.replace(\"M\",\"\")\n",
    "# df['followers'].str.replace(\"K\",\"\")\n",
    "# pd.to_numeric(df['followers']) cuando de error, mirarlo y to_numerci dice qué caracter"
   ]
  },
  {
   "cell_type": "code",
   "execution_count": 25,
   "metadata": {},
   "outputs": [
    {
     "data": {
      "text/plain": [
       "0      12800000.0\n",
       "1       2900000.0\n",
       "2      29000000.0\n",
       "3       3590000.0\n",
       "4      11400000.0\n",
       "5      40400000.0\n",
       "6     308000000.0\n",
       "7       1750000.0\n",
       "8      10500000.0\n",
       "9     264000000.0\n",
       "10      3200000.0\n",
       "11      1530000.0\n",
       "12      1900000.0\n",
       "13      2200000.0\n",
       "14    468000000.0\n",
       "15    207000000.0\n",
       "16      1500000.0\n",
       "17      2800000.0\n",
       "18      1360000.0\n",
       "19     17900000.0\n",
       "20    323000000.0\n",
       "21    699000000.0\n",
       "22    166000000.0\n",
       "23     10200000.0\n",
       "24      8710000.0\n",
       "25      3230000.0\n",
       "Name: followers, dtype: float64"
      ]
     },
     "execution_count": 25,
     "metadata": {},
     "output_type": "execute_result"
    }
   ],
   "source": [
    "df_influencers['followers']  #this is just the \"sanity checking\""
   ]
  },
  {
   "cell_type": "markdown",
   "metadata": {},
   "source": [
    "### Visual Insights"
   ]
  },
  {
   "cell_type": "code",
   "execution_count": 26,
   "metadata": {},
   "outputs": [
    {
     "data": {
      "image/png": "[encoded data removed]",
      "text/plain": [
       "<Figure size 640x480 with 1 Axes>"
      ]
     },
     "metadata": {},
     "output_type": "display_data"
    }
   ],
   "source": [
    "import matplotlib.pyplot as plt\n",
    "\n",
    "# Barchart of main platforms\n",
    "df_influencers['main platform'].value_counts(ascending=True, normalize=True).plot(kind='barh', color='lightgreen')\n",
    "plt.title('Influencer\\'s Main Plataforms')\n",
    "# plt.xlabel('Plataform')\n",
    "plt.ylabel('')\n",
    "plt.xlim(0, 0.5)\n",
    "plt.show()\n",
    "\n",
    "#que pretendo con este plot.? add porcentage? stronger msg\n",
    "\n",
    "# I am starting using plots to visualize the datast "
   ]
  },
  {
   "cell_type": "code",
   "execution_count": 29,
   "metadata": {},
   "outputs": [
    {
     "data": {
      "image/png": "[encoded data removed]",
      "text/plain": [
       "<Figure size 800x600 with 1 Axes>"
      ]
     },
     "metadata": {},
     "output_type": "display_data"
    }
   ],
   "source": [
    "import matplotlib.ticker as ticker\n",
    "\n",
    "plt.figure(figsize=(8, 6))\n",
    "plt.scatter(df_influencers['age'], df_influencers['followers']/1000, color='coral')\n",
    "plt.title('Age vs. Followers')\n",
    "plt.xlabel('Age')\n",
    "plt.ylabel('')\n",
    "\n",
    "#  Formato de  ejes\n",
    "ax = plt.gca()  \n",
    "ax.yaxis.set_major_formatter(ticker.StrMethodFormatter('{x:,.0f}K'))  # formato sin notación científica, \n",
    "plt.show()\n",
    "\n",
    "\n",
    "#chek the values/nr\n",
    "# Scatterplot age vs. follower\n",
    "#  I want to find out if there is any relation in between age and followers, then I'm going to print out a Scatterplot\n",
    "\n",
    "# when we are watching this graphuics, or looking at thhis grafcit, you can see that the ponts are in a shape of T, what does it mean? \n",
    "# patrones?? patterns"
   ]
  },
  {
   "cell_type": "code",
   "execution_count": 30,
   "metadata": {},
   "outputs": [
    {
     "name": "stdout",
     "output_type": "stream",
     "text": [
      "Correlación entre edad y número de seguidores: 0.09\n",
      "0.6551948246009751\n"
     ]
    }
   ],
   "source": [
    "import seaborn as sns\n",
    "from scipy.stats import pearsonr\n",
    "\n",
    "#I expect to find any correlation in between these two variables\n",
    "# correlación\n",
    "correlation, alfa = pearsonr(df_influencers['age'], df_influencers['followers'])\n",
    "print(f'Correlación entre edad y número de seguidores: {correlation:.2f}')\n",
    "\n",
    "#no correlation\n",
    "\n",
    "print(alfa) #need to read about it, p value gives me the certainty I can trust this number. All in all, \n",
    "\n",
    "#it is non linear \n"
   ]
  },
  {
   "cell_type": "code",
   "execution_count": 31,
   "metadata": {},
   "outputs": [],
   "source": [
    "#pearsonr? #high p value"
   ]
  },
  {
   "cell_type": "markdown",
   "metadata": {},
   "source": [
    "## Influencers content dataset"
   ]
  },
  {
   "cell_type": "code",
   "execution_count": 32,
   "metadata": {},
   "outputs": [
    {
     "data": {
      "text/html": [
       "<div>\n",
       "<style scoped>\n",
       "    .dataframe tbody tr th:only-of-type {\n",
       "        vertical-align: middle;\n",
       "    }\n",
       "\n",
       "    .dataframe tbody tr th {\n",
       "        vertical-align: top;\n",
       "    }\n",
       "\n",
       "    .dataframe thead th {\n",
       "        text-align: right;\n",
       "    }\n",
       "</style>\n",
       "<table border=\"1\" class=\"dataframe\">\n",
       "  <thead>\n",
       "    <tr style=\"text-align: right;\">\n",
       "      <th></th>\n",
       "      <th>Influencer's Name</th>\n",
       "      <th>Week</th>\n",
       "      <th>Codification</th>\n",
       "      <th>Main phrase or publication</th>\n",
       "      <th>Time Stamp</th>\n",
       "      <th>Social Media Platform</th>\n",
       "      <th>Link</th>\n",
       "      <th>General description of the content (in Spanish)</th>\n",
       "      <th># Publication in this week</th>\n",
       "      <th>Views/Likes</th>\n",
       "    </tr>\n",
       "  </thead>\n",
       "  <tbody>\n",
       "    <tr>\n",
       "      <th>0</th>\n",
       "      <td>Andrea Compton</td>\n",
       "      <td>19 Septiembre - 25 Septiembre</td>\n",
       "      <td>98</td>\n",
       "      <td>Sin contenido</td>\n",
       "      <td>NaN</td>\n",
       "      <td>Youtube</td>\n",
       "      <td>NaN</td>\n",
       "      <td>NaN</td>\n",
       "      <td>NaN</td>\n",
       "      <td>NaN</td>\n",
       "    </tr>\n",
       "    <tr>\n",
       "      <th>1</th>\n",
       "      <td>Andrea Compton</td>\n",
       "      <td>26 Septiembre - 2 Octubre</td>\n",
       "      <td>34</td>\n",
       "      <td>LAS MEJORES ESCENAS DE JUEGO DE TRONOS | Andre...</td>\n",
       "      <td>NaN</td>\n",
       "      <td>Youtube</td>\n",
       "      <td>https://www.youtube.com/watch?v=sO7idHTgtPE&amp;ab...</td>\n",
       "      <td>Video de Andrea Compton comentando las escenas...</td>\n",
       "      <td>1.0</td>\n",
       "      <td>7500</td>\n",
       "    </tr>\n",
       "    <tr>\n",
       "      <th>2</th>\n",
       "      <td>Andrea Compton</td>\n",
       "      <td>3 Octubre - 9 Octubre</td>\n",
       "      <td>35</td>\n",
       "      <td>HABLEMOS DE LANA DEL REY | Andrea Compton</td>\n",
       "      <td>NaN</td>\n",
       "      <td>Youtube</td>\n",
       "      <td>https://www.youtube.com/watch?v=n-Ytp6PARis&amp;ab...</td>\n",
       "      <td>Video de Andrea Compton hablando de la vida de...</td>\n",
       "      <td>1.0</td>\n",
       "      <td>15000</td>\n",
       "    </tr>\n",
       "    <tr>\n",
       "      <th>3</th>\n",
       "      <td>Andrea Compton</td>\n",
       "      <td>10 Octubre - 17 Octubre</td>\n",
       "      <td>98</td>\n",
       "      <td>Sin contenido</td>\n",
       "      <td>NaN</td>\n",
       "      <td>Youtube</td>\n",
       "      <td>NaN</td>\n",
       "      <td>NaN</td>\n",
       "      <td>NaN</td>\n",
       "      <td>NaN</td>\n",
       "    </tr>\n",
       "    <tr>\n",
       "      <th>4</th>\n",
       "      <td>Andrea Compton</td>\n",
       "      <td>17 Octubre - 23 Octubre</td>\n",
       "      <td>34</td>\n",
       "      <td>REPASANDO THE WALKING DEAD (LAS 11 TEMPORADAS)...</td>\n",
       "      <td>NaN</td>\n",
       "      <td>Youtube</td>\n",
       "      <td>https://www.youtube.com/watch?v=H7HJtE1L_zE&amp;ab...</td>\n",
       "      <td>Video de Andrea Compton comentando 'The walkin...</td>\n",
       "      <td>1.0</td>\n",
       "      <td>10000</td>\n",
       "    </tr>\n",
       "  </tbody>\n",
       "</table>\n",
       "</div>"
      ],
      "text/plain": [
       "  Influencer's Name                           Week Codification  \\\n",
       "0    Andrea Compton  19 Septiembre - 25 Septiembre           98   \n",
       "1    Andrea Compton      26 Septiembre - 2 Octubre           34   \n",
       "2    Andrea Compton          3 Octubre - 9 Octubre           35   \n",
       "3    Andrea Compton        10 Octubre - 17 Octubre           98   \n",
       "4    Andrea Compton        17 Octubre - 23 Octubre           34   \n",
       "\n",
       "                          Main phrase or publication Time Stamp  \\\n",
       "0                                      Sin contenido        NaN   \n",
       "1  LAS MEJORES ESCENAS DE JUEGO DE TRONOS | Andre...        NaN   \n",
       "2          HABLEMOS DE LANA DEL REY | Andrea Compton        NaN   \n",
       "3                                      Sin contenido        NaN   \n",
       "4  REPASANDO THE WALKING DEAD (LAS 11 TEMPORADAS)...        NaN   \n",
       "\n",
       "  Social Media Platform                                               Link  \\\n",
       "0               Youtube                                                NaN   \n",
       "1               Youtube  https://www.youtube.com/watch?v=sO7idHTgtPE&ab...   \n",
       "2               Youtube  https://www.youtube.com/watch?v=n-Ytp6PARis&ab...   \n",
       "3               Youtube                                                NaN   \n",
       "4               Youtube  https://www.youtube.com/watch?v=H7HJtE1L_zE&ab...   \n",
       "\n",
       "     General description of the content (in Spanish)  \\\n",
       "0                                                NaN   \n",
       "1  Video de Andrea Compton comentando las escenas...   \n",
       "2  Video de Andrea Compton hablando de la vida de...   \n",
       "3                                                NaN   \n",
       "4  Video de Andrea Compton comentando 'The walkin...   \n",
       "\n",
       "   # Publication in this week Views/Likes  \n",
       "0                         NaN         NaN  \n",
       "1                         1.0        7500  \n",
       "2                         1.0       15000  \n",
       "3                         NaN         NaN  \n",
       "4                         1.0       10000  "
      ]
     },
     "execution_count": 32,
     "metadata": {},
     "output_type": "execute_result"
    }
   ],
   "source": [
    "path_file_content = r\"C:\\Users\\Celeste\\Google Drive Streaming\\My Drive\\_CODEOP\\EDA_Feminism_Influencers_Spain\\data\\Influencers Content Analysis (September 22nd_December 22nd).xlsx\"\n",
    "\n",
    "df_content = pd.read_excel(path_file_content)\n",
    "\n",
    "df_content.head()"
   ]
  },
  {
   "cell_type": "code",
   "execution_count": 33,
   "metadata": {},
   "outputs": [
    {
     "data": {
      "text/plain": [
       "(364, 10)"
      ]
     },
     "execution_count": 33,
     "metadata": {},
     "output_type": "execute_result"
    }
   ],
   "source": [
    "df_content.shape"
   ]
  },
  {
   "cell_type": "code",
   "execution_count": 34,
   "metadata": {},
   "outputs": [
    {
     "data": {
      "text/plain": [
       "Codification\n",
       "32            53\n",
       "98            52\n",
       "30            20\n",
       "32, 47        14\n",
       "45            13\n",
       "              ..\n",
       "36, 42         1\n",
       "19, 36, 47     1\n",
       "19, 32         1\n",
       "42, 47         1\n",
       "31. 47         1\n",
       "Name: count, Length: 126, dtype: int64"
      ]
     },
     "execution_count": 34,
     "metadata": {},
     "output_type": "execute_result"
    }
   ],
   "source": [
    "df_content['Codification'].value_counts()\n"
   ]
  },
  {
   "cell_type": "code",
   "execution_count": 35,
   "metadata": {},
   "outputs": [],
   "source": [
    "cod_36 = df_content[df_content['Codification'] == 36]\n"
   ]
  },
  {
   "cell_type": "code",
   "execution_count": 36,
   "metadata": {},
   "outputs": [
    {
     "data": {
      "text/html": [
       "<div>\n",
       "<style scoped>\n",
       "    .dataframe tbody tr th:only-of-type {\n",
       "        vertical-align: middle;\n",
       "    }\n",
       "\n",
       "    .dataframe tbody tr th {\n",
       "        vertical-align: top;\n",
       "    }\n",
       "\n",
       "    .dataframe thead th {\n",
       "        text-align: right;\n",
       "    }\n",
       "</style>\n",
       "<table border=\"1\" class=\"dataframe\">\n",
       "  <thead>\n",
       "    <tr style=\"text-align: right;\">\n",
       "      <th></th>\n",
       "      <th>Influencer's Name</th>\n",
       "      <th>Week</th>\n",
       "      <th>Codification</th>\n",
       "      <th>Main phrase or publication</th>\n",
       "      <th>Time Stamp</th>\n",
       "      <th>Social Media Platform</th>\n",
       "      <th>Link</th>\n",
       "      <th>General description of the content (in Spanish)</th>\n",
       "      <th># Publication in this week</th>\n",
       "      <th>Views/Likes</th>\n",
       "    </tr>\n",
       "  </thead>\n",
       "  <tbody>\n",
       "    <tr>\n",
       "      <th>126</th>\n",
       "      <td>Iker Unzu</td>\n",
       "      <td>19 Septiembre - 25 Septiembre</td>\n",
       "      <td>36</td>\n",
       "      <td>Lol #parati  #ikerunzu</td>\n",
       "      <td>NaN</td>\n",
       "      <td>TikTok</td>\n",
       "      <td>https://www.tiktok.com/@ikerunzu/video/7146618...</td>\n",
       "      <td>Video en el que aparece probando un filtro com...</td>\n",
       "      <td>7.0</td>\n",
       "      <td>1300000</td>\n",
       "    </tr>\n",
       "    <tr>\n",
       "      <th>128</th>\n",
       "      <td>Iker Unzu</td>\n",
       "      <td>3 Octubre - 9 Octubre</td>\n",
       "      <td>36</td>\n",
       "      <td>Será verdad? 😂 @palomaresmagic  #stitch  #para...</td>\n",
       "      <td>NaN</td>\n",
       "      <td>TikTok</td>\n",
       "      <td>https://www.tiktok.com/@ikerunzu/video/7150351...</td>\n",
       "      <td>Intenta replicar un truco que sale mal y deja ...</td>\n",
       "      <td>2.0</td>\n",
       "      <td>2500000</td>\n",
       "    </tr>\n",
       "    <tr>\n",
       "      <th>132</th>\n",
       "      <td>Iker Unzu</td>\n",
       "      <td>31 Octubre - 6 Noviembre</td>\n",
       "      <td>36</td>\n",
       "      <td>Aunque lo abriese silenciosamente 😂 #parati  #...</td>\n",
       "      <td>NaN</td>\n",
       "      <td>TikTok</td>\n",
       "      <td>https://www.tiktok.com/@ikerunzu/video/7161469...</td>\n",
       "      <td>Simula cuando abrías un paquete de galletas en...</td>\n",
       "      <td>5.0</td>\n",
       "      <td>5700000</td>\n",
       "    </tr>\n",
       "    <tr>\n",
       "      <th>133</th>\n",
       "      <td>Iker Unzu</td>\n",
       "      <td>7 Noviembre - 13 Noviembre</td>\n",
       "      <td>36</td>\n",
       "      <td>Tú lo sabías?! 😂 #parati  #fyp  #ikerunzu  #gr...</td>\n",
       "      <td>NaN</td>\n",
       "      <td>TikTok</td>\n",
       "      <td>https://www.tiktok.com/@ikerunzu/video/7164838...</td>\n",
       "      <td>Quejándose de que TikTok avisa al resto de usu...</td>\n",
       "      <td>1.0</td>\n",
       "      <td>2600000</td>\n",
       "    </tr>\n",
       "    <tr>\n",
       "      <th>137</th>\n",
       "      <td>Iker Unzu</td>\n",
       "      <td>5 Diciembre - 11 Diciembre</td>\n",
       "      <td>36</td>\n",
       "      <td>Las batallas de baile son lo mejor 😂 #parati  ...</td>\n",
       "      <td>NaN</td>\n",
       "      <td>TikTok</td>\n",
       "      <td>https://www.tiktok.com/@ikerunzu/video/7174850...</td>\n",
       "      <td>Mofándose de las batallas de baile que aparece...</td>\n",
       "      <td>3.0</td>\n",
       "      <td>6400000</td>\n",
       "    </tr>\n",
       "  </tbody>\n",
       "</table>\n",
       "</div>"
      ],
      "text/plain": [
       "    Influencer's Name                           Week Codification  \\\n",
       "126         Iker Unzu  19 Septiembre - 25 Septiembre           36   \n",
       "128         Iker Unzu          3 Octubre - 9 Octubre           36   \n",
       "132         Iker Unzu       31 Octubre - 6 Noviembre           36   \n",
       "133         Iker Unzu     7 Noviembre - 13 Noviembre           36   \n",
       "137         Iker Unzu     5 Diciembre - 11 Diciembre           36   \n",
       "\n",
       "                            Main phrase or publication Time Stamp  \\\n",
       "126                             Lol #parati  #ikerunzu        NaN   \n",
       "128  Será verdad? 😂 @palomaresmagic  #stitch  #para...        NaN   \n",
       "132  Aunque lo abriese silenciosamente 😂 #parati  #...        NaN   \n",
       "133  Tú lo sabías?! 😂 #parati  #fyp  #ikerunzu  #gr...        NaN   \n",
       "137  Las batallas de baile son lo mejor 😂 #parati  ...        NaN   \n",
       "\n",
       "    Social Media Platform                                               Link  \\\n",
       "126                TikTok  https://www.tiktok.com/@ikerunzu/video/7146618...   \n",
       "128                TikTok  https://www.tiktok.com/@ikerunzu/video/7150351...   \n",
       "132                TikTok  https://www.tiktok.com/@ikerunzu/video/7161469...   \n",
       "133                TikTok  https://www.tiktok.com/@ikerunzu/video/7164838...   \n",
       "137                TikTok  https://www.tiktok.com/@ikerunzu/video/7174850...   \n",
       "\n",
       "       General description of the content (in Spanish)  \\\n",
       "126  Video en el que aparece probando un filtro com...   \n",
       "128  Intenta replicar un truco que sale mal y deja ...   \n",
       "132  Simula cuando abrías un paquete de galletas en...   \n",
       "133  Quejándose de que TikTok avisa al resto de usu...   \n",
       "137  Mofándose de las batallas de baile que aparece...   \n",
       "\n",
       "     # Publication in this week Views/Likes  \n",
       "126                         7.0     1300000  \n",
       "128                         2.0     2500000  \n",
       "132                         5.0     5700000  \n",
       "133                         1.0     2600000  \n",
       "137                         3.0     6400000  "
      ]
     },
     "execution_count": 36,
     "metadata": {},
     "output_type": "execute_result"
    }
   ],
   "source": [
    "cod_36.head()"
   ]
  },
  {
   "cell_type": "code",
   "execution_count": 37,
   "metadata": {},
   "outputs": [
    {
     "data": {
      "text/plain": [
       "'Video de Carolina Iglesias entrevistando a Maxi Iglesias hablando de la amistad como tema central'"
      ]
     },
     "execution_count": 37,
     "metadata": {},
     "output_type": "execute_result"
    }
   ],
   "source": [
    "df_content['General description of the content (in Spanish)'][37]"
   ]
  },
  {
   "cell_type": "markdown",
   "metadata": {},
   "source": [
    "## Feminism and Antifeminism Codebook"
   ]
  },
  {
   "cell_type": "code",
   "execution_count": 38,
   "metadata": {},
   "outputs": [],
   "source": [
    "import matplotlib.pyplot as plt\n",
    "import nltk\n",
    "\n",
    "from nltk import word_tokenize\n",
    "from nltk.stem import WordNetLemmatizer\n",
    "from nltk.stem.snowball import SnowballStemmer\n",
    "from nltk.tokenize import RegexpTokenizer\n",
    "\n",
    "from sklearn import svm\n",
    "from sklearn.feature_extraction.text import CountVectorizer\n",
    "from sklearn.feature_extraction.text import TfidfVectorizer\n",
    "from sklearn.metrics import confusion_matrix\n",
    "from sklearn.model_selection import train_test_split\n",
    "from sklearn.naive_bayes import MultinomialNB\n",
    "from sklearn.pipeline import Pipeline"
   ]
  },
  {
   "cell_type": "code",
   "execution_count": 39,
   "metadata": {},
   "outputs": [
    {
     "data": {
      "text/html": [
       "<div>\n",
       "<style scoped>\n",
       "    .dataframe tbody tr th:only-of-type {\n",
       "        vertical-align: middle;\n",
       "    }\n",
       "\n",
       "    .dataframe tbody tr th {\n",
       "        vertical-align: top;\n",
       "    }\n",
       "\n",
       "    .dataframe thead th {\n",
       "        text-align: right;\n",
       "    }\n",
       "</style>\n",
       "<table border=\"1\" class=\"dataframe\">\n",
       "  <thead>\n",
       "    <tr style=\"text-align: right;\">\n",
       "      <th></th>\n",
       "      <th>ID</th>\n",
       "      <th>Code</th>\n",
       "      <th>Definition</th>\n",
       "      <th>Survey question / comments</th>\n",
       "      <th>Category</th>\n",
       "      <th>Sub-category</th>\n",
       "      <th>Feminism Stance</th>\n",
       "    </tr>\n",
       "  </thead>\n",
       "  <tbody>\n",
       "    <tr>\n",
       "      <th>0</th>\n",
       "      <td>1</td>\n",
       "      <td>Equating feminism and machismo</td>\n",
       "      <td>They do not deny discrimination against women,...</td>\n",
       "      <td>\"Tan peligroso es el machismo como el feminism...</td>\n",
       "      <td>Antifeminism</td>\n",
       "      <td>Explicit</td>\n",
       "      <td>Strongly opposing feminism</td>\n",
       "    </tr>\n",
       "    <tr>\n",
       "      <th>1</th>\n",
       "      <td>2</td>\n",
       "      <td>Denying the necessity of feminism</td>\n",
       "      <td>Emphasizing equality as the real goal and impl...</td>\n",
       "      <td>\"Lo importante no es el feminismo ni el machis...</td>\n",
       "      <td>Antifeminism</td>\n",
       "      <td>Explicit</td>\n",
       "      <td>Moderatedly opposing feminism</td>\n",
       "    </tr>\n",
       "    <tr>\n",
       "      <th>2</th>\n",
       "      <td>3</td>\n",
       "      <td>Minimizing gender inequality at the workplace</td>\n",
       "      <td>Skepticism about gender inequality in the work...</td>\n",
       "      <td>\"Las mujeres exageran los problemas que tienen...</td>\n",
       "      <td>Antifeminism</td>\n",
       "      <td>Latent</td>\n",
       "      <td>Opposing feminist issues</td>\n",
       "    </tr>\n",
       "    <tr>\n",
       "      <th>3</th>\n",
       "      <td>4</td>\n",
       "      <td>Supporting paternalistic behaviours</td>\n",
       "      <td>Defending the persistence of paternalistic beh...</td>\n",
       "      <td>\"Los hombres deberían proteger a las mujeres \"</td>\n",
       "      <td>Antifeminism</td>\n",
       "      <td>Latent</td>\n",
       "      <td>Opposing feminist issues</td>\n",
       "    </tr>\n",
       "    <tr>\n",
       "      <th>4</th>\n",
       "      <td>5</td>\n",
       "      <td>Minimizing Sexual Harassment</td>\n",
       "      <td>Accusing women of overreacting to flirting or ...</td>\n",
       "      <td>\"Actualmente las mujeres malinterpretan cualqu...</td>\n",
       "      <td>Antifeminism</td>\n",
       "      <td>Latent</td>\n",
       "      <td>Opposing feminist issues</td>\n",
       "    </tr>\n",
       "  </tbody>\n",
       "</table>\n",
       "</div>"
      ],
      "text/plain": [
       "   ID                                           Code  \\\n",
       "0   1                 Equating feminism and machismo   \n",
       "1   2              Denying the necessity of feminism   \n",
       "2   3  Minimizing gender inequality at the workplace   \n",
       "3   4            Supporting paternalistic behaviours   \n",
       "4   5                  Minimizing Sexual Harassment    \n",
       "\n",
       "                                          Definition  \\\n",
       "0  They do not deny discrimination against women,...   \n",
       "1  Emphasizing equality as the real goal and impl...   \n",
       "2  Skepticism about gender inequality in the work...   \n",
       "3  Defending the persistence of paternalistic beh...   \n",
       "4  Accusing women of overreacting to flirting or ...   \n",
       "\n",
       "                          Survey question / comments      Category  \\\n",
       "0  \"Tan peligroso es el machismo como el feminism...  Antifeminism   \n",
       "1  \"Lo importante no es el feminismo ni el machis...  Antifeminism   \n",
       "2  \"Las mujeres exageran los problemas que tienen...  Antifeminism   \n",
       "3     \"Los hombres deberían proteger a las mujeres \"  Antifeminism   \n",
       "4  \"Actualmente las mujeres malinterpretan cualqu...  Antifeminism   \n",
       "\n",
       "  Sub-category                Feminism Stance  \n",
       "0     Explicit     Strongly opposing feminism  \n",
       "1     Explicit  Moderatedly opposing feminism  \n",
       "2       Latent       Opposing feminist issues  \n",
       "3       Latent       Opposing feminist issues  \n",
       "4       Latent       Opposing feminist issues  "
      ]
     },
     "execution_count": 39,
     "metadata": {},
     "output_type": "execute_result"
    }
   ],
   "source": [
    "path_file_codebook = r\"C:\\Users\\Celeste\\Google Drive Streaming\\My Drive\\_CODEOP\\EDA_Feminism_Influencers_Spain\\data\\Codebook - Feminism and Anti-feminism.xlsx\"\n",
    "\n",
    "df_codebook = pd.read_excel(path_file_codebook)\n",
    "\n",
    "df_codebook.head()"
   ]
  },
  {
   "cell_type": "code",
   "execution_count": 40,
   "metadata": {},
   "outputs": [
    {
     "data": {
      "text/plain": [
       "(48, 7)"
      ]
     },
     "execution_count": 40,
     "metadata": {},
     "output_type": "execute_result"
    }
   ],
   "source": [
    "df_codebook.shape"
   ]
  },
  {
   "cell_type": "code",
   "execution_count": 41,
   "metadata": {},
   "outputs": [
    {
     "data": {
      "text/plain": [
       "Category\n",
       "Non-related content    19\n",
       "Antifeminism           18\n",
       "Feminism                9\n",
       "Neutral                 1\n",
       "No content              1\n",
       "Name: count, dtype: int64"
      ]
     },
     "execution_count": 41,
     "metadata": {},
     "output_type": "execute_result"
    }
   ],
   "source": [
    "df_codebook['Category'].value_counts() #not balanced"
   ]
  },
  {
   "cell_type": "code",
   "execution_count": 42,
   "metadata": {},
   "outputs": [
    {
     "data": {
      "text/plain": [
       "ID                             0\n",
       "Code                           0\n",
       "Definition                    19\n",
       "Survey question / comments    27\n",
       "Category                       0\n",
       "Sub-category                  20\n",
       "Feminism Stance                0\n",
       "dtype: int64"
      ]
     },
     "execution_count": 42,
     "metadata": {},
     "output_type": "execute_result"
    }
   ],
   "source": [
    "df_codebook.isna().sum()"
   ]
  },
  {
   "cell_type": "code",
   "execution_count": 43,
   "metadata": {},
   "outputs": [
    {
     "name": "stdout",
     "output_type": "stream",
     "text": [
      "I can see that in the 'Definition' column there is a 39.58% of NaN values, \n",
      "in the 'Survey question / comments' column there is a 56.25% of NaN values and\n",
      "in the 'Sub-category' column there is a 41.67% of NaN values\n"
     ]
    }
   ],
   "source": [
    "nan_percentage_def= (19 / 48) * 100\n",
    "nan_percentage_survey= (27 / 48) * 100\n",
    "nan_percentage_sub= (20 / 48) * 100\n",
    "\n",
    "print(f\"I can see that in the 'Definition' column there is a {nan_percentage_def:.2f}% of NaN values, \")\n",
    "print(f\"in the 'Survey question / comments' column there is a {nan_percentage_survey:.2f}% of NaN values and\")\n",
    "print(f\"in the 'Sub-category' column there is a {nan_percentage_sub:.2f}% of NaN values\")\n"
   ]
  },
  {
   "cell_type": "code",
   "execution_count": 44,
   "metadata": {},
   "outputs": [
    {
     "data": {
      "text/html": [
       "<div>\n",
       "<style scoped>\n",
       "    .dataframe tbody tr th:only-of-type {\n",
       "        vertical-align: middle;\n",
       "    }\n",
       "\n",
       "    .dataframe tbody tr th {\n",
       "        vertical-align: top;\n",
       "    }\n",
       "\n",
       "    .dataframe thead th {\n",
       "        text-align: right;\n",
       "    }\n",
       "</style>\n",
       "<table border=\"1\" class=\"dataframe\">\n",
       "  <thead>\n",
       "    <tr style=\"text-align: right;\">\n",
       "      <th></th>\n",
       "      <th>Category</th>\n",
       "      <th>Sub-category</th>\n",
       "    </tr>\n",
       "  </thead>\n",
       "  <tbody>\n",
       "    <tr>\n",
       "      <th>28</th>\n",
       "      <td>Non-related content</td>\n",
       "      <td>NaN</td>\n",
       "    </tr>\n",
       "    <tr>\n",
       "      <th>29</th>\n",
       "      <td>Non-related content</td>\n",
       "      <td>NaN</td>\n",
       "    </tr>\n",
       "    <tr>\n",
       "      <th>30</th>\n",
       "      <td>Non-related content</td>\n",
       "      <td>NaN</td>\n",
       "    </tr>\n",
       "    <tr>\n",
       "      <th>31</th>\n",
       "      <td>Non-related content</td>\n",
       "      <td>NaN</td>\n",
       "    </tr>\n",
       "    <tr>\n",
       "      <th>32</th>\n",
       "      <td>Non-related content</td>\n",
       "      <td>NaN</td>\n",
       "    </tr>\n",
       "    <tr>\n",
       "      <th>33</th>\n",
       "      <td>Non-related content</td>\n",
       "      <td>NaN</td>\n",
       "    </tr>\n",
       "    <tr>\n",
       "      <th>34</th>\n",
       "      <td>Non-related content</td>\n",
       "      <td>NaN</td>\n",
       "    </tr>\n",
       "    <tr>\n",
       "      <th>35</th>\n",
       "      <td>Non-related content</td>\n",
       "      <td>NaN</td>\n",
       "    </tr>\n",
       "    <tr>\n",
       "      <th>36</th>\n",
       "      <td>Non-related content</td>\n",
       "      <td>NaN</td>\n",
       "    </tr>\n",
       "    <tr>\n",
       "      <th>37</th>\n",
       "      <td>Non-related content</td>\n",
       "      <td>NaN</td>\n",
       "    </tr>\n",
       "    <tr>\n",
       "      <th>38</th>\n",
       "      <td>Non-related content</td>\n",
       "      <td>NaN</td>\n",
       "    </tr>\n",
       "    <tr>\n",
       "      <th>39</th>\n",
       "      <td>Non-related content</td>\n",
       "      <td>NaN</td>\n",
       "    </tr>\n",
       "    <tr>\n",
       "      <th>40</th>\n",
       "      <td>Non-related content</td>\n",
       "      <td>NaN</td>\n",
       "    </tr>\n",
       "    <tr>\n",
       "      <th>41</th>\n",
       "      <td>Non-related content</td>\n",
       "      <td>NaN</td>\n",
       "    </tr>\n",
       "    <tr>\n",
       "      <th>42</th>\n",
       "      <td>Non-related content</td>\n",
       "      <td>NaN</td>\n",
       "    </tr>\n",
       "    <tr>\n",
       "      <th>43</th>\n",
       "      <td>Non-related content</td>\n",
       "      <td>NaN</td>\n",
       "    </tr>\n",
       "    <tr>\n",
       "      <th>44</th>\n",
       "      <td>Non-related content</td>\n",
       "      <td>NaN</td>\n",
       "    </tr>\n",
       "    <tr>\n",
       "      <th>45</th>\n",
       "      <td>Non-related content</td>\n",
       "      <td>NaN</td>\n",
       "    </tr>\n",
       "    <tr>\n",
       "      <th>46</th>\n",
       "      <td>Non-related content</td>\n",
       "      <td>NaN</td>\n",
       "    </tr>\n",
       "    <tr>\n",
       "      <th>47</th>\n",
       "      <td>No content</td>\n",
       "      <td>NaN</td>\n",
       "    </tr>\n",
       "  </tbody>\n",
       "</table>\n",
       "</div>"
      ],
      "text/plain": [
       "               Category Sub-category\n",
       "28  Non-related content          NaN\n",
       "29  Non-related content          NaN\n",
       "30  Non-related content          NaN\n",
       "31  Non-related content          NaN\n",
       "32  Non-related content          NaN\n",
       "33  Non-related content          NaN\n",
       "34  Non-related content          NaN\n",
       "35  Non-related content          NaN\n",
       "36  Non-related content          NaN\n",
       "37  Non-related content          NaN\n",
       "38  Non-related content          NaN\n",
       "39  Non-related content          NaN\n",
       "40  Non-related content          NaN\n",
       "41  Non-related content          NaN\n",
       "42  Non-related content          NaN\n",
       "43  Non-related content          NaN\n",
       "44  Non-related content          NaN\n",
       "45  Non-related content          NaN\n",
       "46  Non-related content          NaN\n",
       "47           No content          NaN"
      ]
     },
     "execution_count": 44,
     "metadata": {},
     "output_type": "execute_result"
    }
   ],
   "source": [
    "# Filter the NaN rows in 'Sub-category' column, leaving 'Category'\n",
    "# why keep 'Category' column?\n",
    "# provides additional context and help to interpret the meaning of NaN values based on their associated categories.\n",
    "\n",
    "sub_nan_rows = df_codebook[df_codebook['Sub-category'].isna()][['Category', 'Sub-category']]\n",
    "sub_nan_rows\n",
    "\n",
    "\n",
    "# Upon reviewing the filtered results, I notice that every instance where the 'Sub-category' is NaN corresponds to a category that lacks \n",
    "# related content to the subject. This implies that the primary category does not have specific content that pertains to the topic we are investigating.\n",
    "\n",
    "## Reflection -> I need to consider approaching this differently. While this dataset contains limited data, what if I had a larger dataset?"
   ]
  },
  {
   "cell_type": "code",
   "execution_count": 45,
   "metadata": {},
   "outputs": [
    {
     "data": {
      "text/plain": [
       "Index(['ID', 'Code', 'Definition', 'Survey question / comments', 'Category',\n",
       "       'Sub-category', 'Feminism Stance'],\n",
       "      dtype='object')"
      ]
     },
     "execution_count": 45,
     "metadata": {},
     "output_type": "execute_result"
    }
   ],
   "source": [
    "df_codebook.columns"
   ]
  },
  {
   "cell_type": "code",
   "execution_count": 51,
   "metadata": {},
   "outputs": [
    {
     "data": {
      "text/plain": [
       "Definition\n",
       "False    29\n",
       "True     19\n",
       "Name: count, dtype: int64"
      ]
     },
     "execution_count": 51,
     "metadata": {},
     "output_type": "execute_result"
    }
   ],
   "source": [
    "df_codebook['Definition'].isna().value_counts()"
   ]
  },
  {
   "cell_type": "markdown",
   "metadata": {},
   "source": [
    "# TASK 1: Start with pre-processing text\n",
    "\n",
    "**Pre-processing**\n",
    "- Use the tokenization from nltk (word_tokenize)\n",
    "- Use the 2 regex cleaning rules for your data\n",
    "- Run lemmatization\n",
    "- Lower-case"
   ]
  },
  {
   "cell_type": "code",
   "execution_count": null,
   "metadata": {},
   "outputs": [],
   "source": [
    "def my_clean_data(text):\n",
    "\n",
    "return "
   ]
  },
  {
   "cell_type": "code",
   "execution_count": 78,
   "metadata": {},
   "outputs": [
    {
     "data": {
      "text/plain": [
       "'They do not deny discrimination against women, but express that feminism is just as dangerous as discrimination against women.'"
      ]
     },
     "execution_count": 78,
     "metadata": {},
     "output_type": "execute_result"
    }
   ],
   "source": [
    "sample_definition = df_codebook['Definition'][0]\n",
    "sample_definition"
   ]
  },
  {
   "cell_type": "code",
   "execution_count": 79,
   "metadata": {},
   "outputs": [
    {
     "name": "stderr",
     "output_type": "stream",
     "text": [
      "<>:1: SyntaxWarning: invalid escape sequence '\\['\n",
      "<>:2: SyntaxWarning: invalid escape sequence '\\s'\n",
      "<>:1: SyntaxWarning: invalid escape sequence '\\['\n",
      "<>:2: SyntaxWarning: invalid escape sequence '\\s'\n",
      "C:\\Users\\Celeste\\AppData\\Local\\Temp\\ipykernel_12184\\524117050.py:1: SyntaxWarning: invalid escape sequence '\\['\n",
      "  REPLACE_NO_SPACE = re.compile(\"[.;:!\\'?,\\\"()\\[\\]]\")\n",
      "C:\\Users\\Celeste\\AppData\\Local\\Temp\\ipykernel_12184\\524117050.py:2: SyntaxWarning: invalid escape sequence '\\s'\n",
      "  REPLACE_WITH_SPACE = re.compile(\"(<br\\s*/><br\\s*/>)|(\\-)|(\\/)\")\n"
     ]
    }
   ],
   "source": [
    "REPLACE_NO_SPACE = re.compile(\"[.;:!\\'?,\\\"()\\[\\]]\")\n",
    "REPLACE_WITH_SPACE = re.compile(\"(<br\\s*/><br\\s*/>)|(\\-)|(\\/)\")"
   ]
  },
  {
   "cell_type": "code",
   "execution_count": 82,
   "metadata": {},
   "outputs": [],
   "source": [
    "#remove special characters\n",
    "sample_definition = re.sub(REPLACE_NO_SPACE, \"\", sample_definition)\n",
    "\n",
    "#token\n",
    "tokens = word_tokenize(sample_definition)\n",
    "\n",
    "#lower\n",
    "sample_definition = sample_definition.lower()\n",
    "\n",
    "#lemmas\n",
    "lemmatiser = WordNetLemmatizer()\n",
    "\n",
    "lemmas = [lemmatiser.lemmatize(token, pos='v') for token in tokens]"
   ]
  },
  {
   "cell_type": "code",
   "execution_count": 83,
   "metadata": {},
   "outputs": [
    {
     "data": {
      "text/plain": [
       "'they do not deny discrimination against women but express that feminism is just as dangerous as discrimination against women'"
      ]
     },
     "execution_count": 83,
     "metadata": {},
     "output_type": "execute_result"
    }
   ],
   "source": [
    "sample_definition"
   ]
  },
  {
   "cell_type": "code",
   "execution_count": 84,
   "metadata": {},
   "outputs": [
    {
     "name": "stdout",
     "output_type": "stream",
     "text": [
      "before cleaning:  They do not deny discrimination against women, but express that feminism is just as dangerous as discrimination against women.\n",
      "\n",
      "\n",
      "after cleaning:  they do not deny discrimination against women but express that feminism is just as dangerous as discrimination against women\n"
     ]
    }
   ],
   "source": [
    "text = df_codebook['Definition'][0]\n",
    "\n",
    "\n",
    "print('before cleaning: ', text)\n",
    "print('\\n')\n",
    "print('after cleaning: ', sample_definition)"
   ]
  },
  {
   "cell_type": "code",
   "execution_count": 89,
   "metadata": {},
   "outputs": [
    {
     "name": "stdout",
     "output_type": "stream",
     "text": [
      "Hola PROPN\n",
      ", PUNCT\n",
      "esta PRON\n",
      "es AUX\n",
      "una DET\n",
      "oración NOUN\n",
      "de ADP\n",
      "prueba NOUN\n",
      ". PUNCT\n"
     ]
    }
   ],
   "source": [
    "import spacy\n",
    "\n",
    "# Cargar el modelo en español\n",
    "nlp_es = spacy.load(\"es_core_news_sm\")\n",
    "\n",
    "# Probar el modelo con un texto en español\n",
    "doc = nlp_es(\"Hola, esta es una oración de prueba.\")\n",
    "for token in doc:\n",
    "    print(token.text, token.pos_)\n"
   ]
  },
  {
   "cell_type": "code",
   "execution_count": 90,
   "metadata": {},
   "outputs": [
    {
     "name": "stdout",
     "output_type": "stream",
     "text": [
      "Hello INTJ\n",
      ", PUNCT\n",
      "this PRON\n",
      "is AUX\n",
      "a DET\n",
      "test NOUN\n",
      "sentence NOUN\n",
      ". PUNCT\n"
     ]
    }
   ],
   "source": [
    "import spacy\n",
    "\n",
    "# Cargar el modelo en inglés\n",
    "nlp_en = spacy.load(\"en_core_web_sm\")\n",
    "\n",
    "# Probar el modelo con un texto en inglés\n",
    "doc = nlp_en(\"Hello, this is a test sentence.\")\n",
    "for token in doc:\n",
    "    print(token.text, token.pos_)\n"
   ]
  },
  {
   "cell_type": "code",
   "execution_count": null,
   "metadata": {},
   "outputs": [],
   "source": []
  }
 ],
 "metadata": {
  "kernelspec": {
   "display_name": "data-science",
   "language": "python",
   "name": "python3"
  },
  "language_info": {
   "codemirror_mode": {
    "name": "ipython",
    "version": 3
   },
   "file_extension": ".py",
   "mimetype": "text/x-python",
   "name": "python",
   "nbconvert_exporter": "python",
   "pygments_lexer": "ipython3",
   "version": "3.12.5"
  }
 },
 "nbformat": 4,
 "nbformat_minor": 2
}
